{
 "cells": [
  {
   "cell_type": "markdown",
   "metadata": {
    "pycharm": {
     "metadata": false
    },
    "slideshow": {
     "slide_type": "slide"
    }
   },
   "source": [
    "# Neuroscience data Analysis with Python, day 1\n",
    "Maxym \"Dr Max\" Myroshnychenko\n",
    "\n",
    "National Institutes of Health\n",
    "\n",
    "National Institute of Neurological Disorders and Stroke\n",
    "\n",
    "Integrative Neuroscience Section\n",
    "\n",
    "Gordon lab\n",
    "\n",
    "https://scholar.google.com/citations?user=hpzb2HkAAAAJ&hl=en"
   ]
  },
  {
   "cell_type": "markdown",
   "metadata": {
    "slideshow": {
     "slide_type": "slide"
    }
   },
   "source": [
    "# About me\n",
    "- 1 year undergrad at Dnipro National University (Ukraine)\n",
    "- 4 years undergrad at University of Nevada Las Vegas\n",
    "   - Ketamine's effects on self-inhibition and memory"
   ]
  },
  {
   "cell_type": "markdown",
   "metadata": {
    "slideshow": {
     "slide_type": "fragment"
    }
   },
   "source": [
    "- 6 years PhD at Indiana University\n",
    "    - Behavor + electrophysiology + optogenetics in rats\n",
    "    - Prefrontal and hippocampal involvement in a difficult memory task\n"
   ]
  },
  {
   "cell_type": "markdown",
   "metadata": {
    "slideshow": {
     "slide_type": "fragment"
    }
   },
   "source": [
    "- Currently at NIH\n",
    "    - Behavior + electrophysiology + optogenetics in mice\n",
    "    - Closed-loop excitation of hippocampal terminals in prefrontal cortex\n",
    "    - Focus on anxiety and schizophrenia"
   ]
  },
  {
   "cell_type": "markdown",
   "metadata": {
    "slideshow": {
     "slide_type": "fragment"
    }
   },
   "source": [
    "- Interests\n",
    "    - Functional connectivity under dynamical/structural intervention"
   ]
  },
  {
   "cell_type": "markdown",
   "metadata": {
    "slideshow": {
     "slide_type": "fragment"
    }
   },
   "source": [
    "Tutorials are not about my research"
   ]
  },
  {
   "cell_type": "markdown",
   "metadata": {
    "pycharm": {
     "metadata": false,
     "name": "#%% md\n"
    },
    "slideshow": {
     "slide_type": "slide"
    }
   },
   "source": [
    "# Outline"
   ]
  },
  {
   "cell_type": "markdown",
   "metadata": {
    "slideshow": {
     "slide_type": "fragment"
    }
   },
   "source": [
    "## Thursday lecture:\n",
    "- < 1 hour\n",
    "- Introductions\n",
    "- What is group programming\n",
    "- Leaky integrate and fire (LIF) neuron model\n"
   ]
  },
  {
   "cell_type": "markdown",
   "metadata": {
    "slideshow": {
     "slide_type": "slide"
    }
   },
   "source": [
    "\n",
    "## Thursday tutorial\n",
    "- 1 - 2 hours\n",
    "- You visualize the LIF model in Python\n",
    "- Group programming\n",
    "- My TA Anneke and I will help\n",
    "- Solutions are posted"
   ]
  },
  {
   "cell_type": "markdown",
   "metadata": {
    "pycharm": {
     "metadata": false,
     "name": "#%% md\n"
    },
    "slideshow": {
     "slide_type": "slide"
    }
   },
   "source": [
    "## Saturday lecture\n",
    "- How to record action potentials \n",
    "- What the extracellular signal contains"
   ]
  },
  {
   "cell_type": "markdown",
   "metadata": {
    "slideshow": {
     "slide_type": "fragment"
    }
   },
   "source": [
    "- How to make sense of the signal\n",
    "    - Spike sorting\n",
    "    - Spike visualization\n",
    "    - Spike decoding\n",
    "- Project ideas"
   ]
  },
  {
   "cell_type": "markdown",
   "metadata": {
    "slideshow": {
     "slide_type": "slide"
    }
   },
   "source": [
    "## Saturday tutorials\n",
    "- You will visualize a large, real dataset\n",
    "- Spikes + behavior\n",
    "- Group programming\n",
    "- I will help\n",
    "- Solutions are posted"
   ]
  },
  {
   "cell_type": "markdown",
   "metadata": {
    "slideshow": {
     "slide_type": "slide"
    }
   },
   "source": [
    "# Day 1\n",
    "\n",
    "Join the course chat - especially useful for projects\n",
    "\n",
    "(link in Zoom chat)"
   ]
  },
  {
   "cell_type": "markdown",
   "metadata": {
    "slideshow": {
     "slide_type": "slide"
    }
   },
   "source": [
    "## Leaky Integrate and Fire model\n",
    "\n",
    "$$ \\tau_m\\,\\frac{d}{dt}\\,V(t) = E_{L} - V(t) + R\\,I(t) $$\n",
    "\n",
    "- $V(t)$ is the membrane potential\n",
    "\n",
    "- $\\tau_m$ is the membrane time *constant*\n",
    "\n",
    "- $E_{L}$ is the leak potential (*constant*)\n",
    "\n",
    "- $R$ is the membrane resistance (*constant*)\n",
    "\n",
    "- $I(t)$ is the synaptic input current\n",
    "\n",
    "What's not constant?"
   ]
  },
  {
   "cell_type": "markdown",
   "metadata": {
    "pycharm": {
     "name": "#%% md\n"
    },
    "slideshow": {
     "slide_type": "slide"
    }
   },
   "source": [
    "Full model:\n",
    "\n",
    "\\begin{align*}\n",
    "\\\\\n",
    "&\\tau_m\\,\\frac{d}{dt}\\,V(t) = E_{L} - V(t) + R\\,I(t) &\\text{if }\\quad V(t) \\leq V_{th}\\\\\n",
    "\\\\\n",
    "&V(t) = V_{reset} &\\text{otherwise}\\\\\n",
    "\\\\\n",
    "\\end{align*}"
   ]
  },
  {
   "cell_type": "markdown",
   "metadata": {
    "pycharm": {
     "name": "#%% md\n"
    },
    "slideshow": {
     "slide_type": "slide"
    }
   },
   "source": [
    "## Choose your tutorial\n",
    "from two tracks:\n",
    "1. **Gentle Python**\n",
    "   - No programming experience required\n",
    "   - Not much math\n",
    "\n",
    "   You will learn:\n",
    "   - `print` statement\n",
    "   - `for` loops\n",
    "   - `plot`\n",
    "   - `mean`\n",
    "   - `numpy` mean\n",
    "   \n",
    "**OR**   "
   ]
  },
  {
   "cell_type": "markdown",
   "metadata": {
    "pycharm": {
     "name": "#%% md\n"
    },
    "slideshow": {
     "slide_type": "fragment"
    }
   },
   "source": [
    "2. **Fun Python**\n",
    "   - No Python experience required, some other programming experience helpful\n",
    "   - A little algebra\n",
    "   - More understanding of LIF model\n",
    "   - May take > 2 hrs, which is ok\n",
    "\n",
    "   You will learn, additionally:\n",
    "   - `enumerate`\n",
    "   - More complex `print` pattern"
   ]
  },
  {
   "cell_type": "markdown",
   "metadata": {
    "pycharm": {
     "name": "#%% md\n"
    },
    "slideshow": {
     "slide_type": "slide"
    }
   },
   "source": [
    "## Group programming\n",
    "- Split into breakout rooms. ~4 people per room"
   ]
  },
  {
   "cell_type": "markdown",
   "metadata": {
    "slideshow": {
     "slide_type": "fragment"
    }
   },
   "source": [
    "- Take turns leading exercises"
   ]
  },
  {
   "cell_type": "markdown",
   "metadata": {
    "slideshow": {
     "slide_type": "fragment"
    }
   },
   "source": [
    "- Whoever leads:\n",
    "   - Read assignment\n",
    "   - In your own words, what does each line do?\n",
    "   - Fill in the solution\n"
   ]
  },
  {
   "cell_type": "markdown",
   "metadata": {
    "slideshow": {
     "slide_type": "fragment"
    }
   },
   "source": [
    "\n",
    "Don't know the answer?\n",
    "   - Ask the others for suggestions\n",
    "   - Ask the TA or a lecturer\n",
    "   - Give it a couple of minutes\n",
    "   - Still stumped? Click on solution"
   ]
  },
  {
   "cell_type": "markdown",
   "metadata": {
    "pycharm": {
     "name": "#%% md\n"
    },
    "slideshow": {
     "slide_type": "slide"
    }
   },
   "source": [
    "## Now, introduce yourself\n",
    "- Name\n",
    "- Education (eg 2nd year of bachelor's degree)\n",
    "- Where you live\n",
    "- Where you grew up\n",
    "- Neuroscience interests\n",
    "   - eg Synchrony during anxiety\n",
    "- Gentle Python or fun Python?"
   ]
  }
 ],
 "metadata": {
  "celltoolbar": "Slideshow",
  "kernelspec": {
   "display_name": "Python 3",
   "language": "python",
   "name": "python3"
  },
  "language_info": {
   "codemirror_mode": {
    "name": "ipython",
    "version": 3
   },
   "file_extension": ".py",
   "mimetype": "text/x-python",
   "name": "python",
   "nbconvert_exporter": "python",
   "pygments_lexer": "ipython3",
   "version": "3.7.3"
  },
  "rise": {
   "autolaunch": true,
   "scroll": true,
   "transition": "None"
  },
  "stem_cell": {
   "cell_type": "raw",
   "metadata": {
    "pycharm": {
     "metadata": false
    }
   },
   "source": ""
  }
 },
 "nbformat": 4,
 "nbformat_minor": 1
}
