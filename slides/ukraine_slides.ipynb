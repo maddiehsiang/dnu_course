{
 "cells": [
  {
   "cell_type": "code",
   "execution_count": 1,
   "metadata": {
    "pycharm": {
     "metadata": false,
     "name": "#%%\n"
    },
    "slideshow": {
     "slide_type": "skip"
    }
   },
   "outputs": [],
   "source": [
    "from IPython.display import YouTubeVideo\n"
   ]
  },
  {
   "cell_type": "markdown",
   "metadata": {
    "pycharm": {
     "metadata": false
    },
    "slideshow": {
     "slide_type": "slide"
    }
   },
   "source": [
    "# Analysis of multielectrode array (MEA) data\n",
    "## Maxym Myroshnychenko\n",
    "National Institutes of Health\n",
    "\n",
    "National Institute of Neurological Disorders and Stroke\n",
    "\n",
    "Gordon lab\n",
    "\n",
    "https://scholar.google.com/citations?user=hpzb2HkAAAAJ&hl=en"
   ]
  },
  {
   "cell_type": "markdown",
   "metadata": {
    "slideshow": {
     "slide_type": "slide"
    }
   },
   "source": [
    "## My bio\n",
    "- 1 year undergrad at Dnipro National University \n",
    "- 4 years undergrad at University of Nevada Las Vegas"
   ]
  },
  {
   "cell_type": "markdown",
   "metadata": {
    "slideshow": {
     "slide_type": "fragment"
    }
   },
   "source": [
    "- 6 years PhD at Indiana University \n",
    "    - Behavor + electrophysiology + optogenetics in rats\n",
    "    "
   ]
  },
  {
   "cell_type": "markdown",
   "metadata": {
    "slideshow": {
     "slide_type": "fragment"
    }
   },
   "source": [
    "- Currently at NIH\n",
    "    - Behavor + electrophysiology + optogenetics in mice\n",
    "    - Focus on anxiety and schizophrenia\n",
    "    - Synchrony between prefrontal cortex and hippocampus"
   ]
  },
  {
   "cell_type": "markdown",
   "metadata": {
    "pycharm": {
     "metadata": false,
     "name": "#%% md\n"
    },
    "slideshow": {
     "slide_type": "slide"
    }
   },
   "source": [
    "# Outline for today and Saturday"
   ]
  },
  {
   "cell_type": "markdown",
   "metadata": {
    "pycharm": {
     "metadata": false,
     "name": "#%% md\n"
    },
    "slideshow": {
     "slide_type": "slide"
    }
   },
   "source": [
    "## Day 2 lecture (Saturday)\n",
    "\n",
    "- How to record action potentials \n",
    "- What the recorded signal contains\n",
    "- How to make sense of the signal \n",
    "    - Spike sorting\n",
    "    - Spike visualization \n",
    "    - Spike decoding\n",
    "- Project ideas\n",
    "\n",
    "## Day 2 tutorials\n",
    "- You analyze a large, real dataset\n",
    "- Group programming"
   ]
  },
  {
   "cell_type": "markdown",
   "metadata": {},
   "source": [
    "# Day 2\n"
   ]
  },
  {
   "cell_type": "markdown",
   "metadata": {
    "pycharm": {
     "metadata": false,
     "name": "#%% md\n"
    },
    "slideshow": {
     "slide_type": "slide"
    }
   },
   "source": [
    "## Day 1 lecture (Today)\n",
    "- What is group programming\n",
    "- Python\n",
    "- Google colab\n",
    "- LIF\n",
    "- How we will group program\n",
    "\n",
    "## Day 1 tutorials\n",
    "- You analyze the LIF with Python\n",
    "- Group programming\n",
    "\n",
    "- event vs continuous\n",
    "    - dims: arbitrary vs $bin*time$"
   ]
  },
  {
   "cell_type": "markdown",
   "metadata": {},
   "source": [
    "# Day 1\n",
    "## Org\n",
    "kyivcomputati-6vd4605.slack.com"
   ]
  },
  {
   "cell_type": "markdown",
   "metadata": {
    "pycharm": {
     "metadata": false
    },
    "slideshow": {
     "slide_type": "slide"
    }
   },
   "source": [
    "# The origin of extacellular action potential \n",
    "<img src=\"ukraine_slides_figs/extracellular_ap.jpg\" alt=\"Extracellular action potential\" style=\"width:1300px;\"/>    \n",
    "A) Average extracellular action potential (EAP)\n",
    "\n",
    "B) Location dependence of the EAP \n",
    "\n",
    "C,D) Color = peak-to-peak voltage \n",
    "\n",
    "\n",
    "(Schomburg (2012))\n"
   ]
  },
  {
   "cell_type": "code",
   "execution_count": 2,
   "metadata": {
    "pycharm": {},
    "slideshow": {
     "slide_type": "slide"
    }
   },
   "outputs": [
    {
     "data": {
      "image/jpeg": "[encoded data removed]",
      "text/html": [
       "\n",
       "        <iframe\n",
       "            width=\"800\"\n",
       "            height=\"300\"\n",
       "            src=\"https://www.youtube.com/embed/lfNVv0A8QvI\"\n",
       "            frameborder=\"0\"\n",
       "            allowfullscreen\n",
       "        ></iframe>\n",
       "        "
      ],
      "text/plain": [
       "<IPython.lib.display.YouTubeVideo at 0x7fb9d82e5400>"
      ]
     },
     "execution_count": 2,
     "metadata": {},
     "output_type": "execute_result"
    }
   ],
   "source": [
    "YouTubeVideo('lfNVv0A8QvI', width=800, height=300)"
   ]
  },
  {
   "cell_type": "markdown",
   "metadata": {
    "pycharm": {
     "metadata": false,
     "name": "#%% md\n"
    },
    "slideshow": {
     "slide_type": "slide"
    }
   },
   "source": [
    "<img src=\"ukraine_slides_figs/hubel-experiment.jpg\" alt=\"Task\" style=\"width:1300px;\"/>    "
   ]
  },
  {
   "cell_type": "code",
   "execution_count": 3,
   "metadata": {
    "pycharm": {
     "metadata": false,
     "name": "#%%  The power of spike data\n"
    },
    "scrolled": false,
    "slideshow": {
     "slide_type": "slide"
    }
   },
   "outputs": [
    {
     "data": {
      "image/jpeg": "[encoded data removed]",
      "text/html": [
       "\n",
       "        <iframe\n",
       "            width=\"800\"\n",
       "            height=\"300\"\n",
       "            src=\"https://www.youtube.com/embed/8VdFf3egwfg\"\n",
       "            frameborder=\"0\"\n",
       "            allowfullscreen\n",
       "        ></iframe>\n",
       "        "
      ],
      "text/plain": [
       "<IPython.lib.display.YouTubeVideo at 0x7fb9d82e9ba8>"
      ]
     },
     "execution_count": 3,
     "metadata": {},
     "output_type": "execute_result"
    }
   ],
   "source": [
    "YouTubeVideo('8VdFf3egwfg', width=800, height=300)\n"
   ]
  },
  {
   "cell_type": "markdown",
   "metadata": {
    "pycharm": {
     "metadata": false
    },
    "slideshow": {
     "slide_type": "slide"
    }
   },
   "source": [
    "# Multiple-electrode arrays \n",
    "<img src=\"ukraine_slides_figs/neuropix_pretty.jpg\" alt=\"neuropix_pretty\" style=\"width:1300px;\"/>    "
   ]
  },
  {
   "cell_type": "markdown",
   "metadata": {
    "pycharm": {
     "metadata": false,
     "name": "#%% md\n"
    },
    "slideshow": {
     "slide_type": "slide"
    }
   },
   "source": [
    "# Insertion \n",
    "<img src=\"ukraine_slides_figs/cambr.gif\" alt=\"Insertion\" style=\"width:1300px;\"/>    "
   ]
  },
  {
   "cell_type": "markdown",
   "metadata": {
    "slideshow": {
     "slide_type": "slide"
    }
   },
   "source": [
    "# Pre-curation automatic spike sorting steps\n",
    "\n",
    "    Open-ephys demo\n",
    "    "
   ]
  },
  {
   "cell_type": "markdown",
   "metadata": {
    "pycharm": {
     "metadata": false,
     "name": "#%% md\n"
    },
    "slideshow": {
     "slide_type": "slide"
    }
   },
   "source": [
    "# Pre-curation automatic spike sorting steps\n",
    "<img src=\"ukraine_slides_figs/workflow1.png\" alt=\"flow\" style=\"width:1300px;\"/>"
   ]
  },
  {
   "cell_type": "markdown",
   "metadata": {
    "pycharm": {
     "metadata": false
    },
    "slideshow": {
     "slide_type": "slide"
    }
   },
   "source": [
    "# Curation: manual spike sorting steps\n",
    "# Quality control\n",
    "1) Waveform shape and consistency"
   ]
  },
  {
   "cell_type": "markdown",
   "metadata": {
    "pycharm": {
     "metadata": false,
     "name": "#%% md\n"
    },
    "slideshow": {
     "slide_type": "fragment"
    }
   },
   "source": [
    "2) Isolation distance (cloud overlap) \n",
    "<img src=\"ukraine_slides_figs/phy_screen.png\" alt=\"phy_clouds\" style=\"width:1300px;\"/>"
   ]
  },
  {
   "cell_type": "markdown",
   "metadata": {
    "pycharm": {
     "metadata": false,
     "name": "#%% md\n"
    },
    "slideshow": {
     "slide_type": "slide"
    }
   },
   "source": [
    "# Curation: manual spike sorting steps\n",
    "# Quality control\n",
    "1) Waveform shape and consistency\n",
    "\n",
    "2) Isolation distance (cloud overlap) \n",
    "\n",
    "\n",
    "3) Interspike interval (ISI) distrbution\n"
   ]
  },
  {
   "cell_type": "markdown",
   "metadata": {
    "pycharm": {
     "metadata": false
    },
    "slideshow": {
     "slide_type": "fragment"
    }
   },
   "source": [
    "# Interspike intervals  \n",
    "Thinking about _spikes_ vs _pauses_\n",
    "<img src=\"ukraine_slides_figs/isi.jpg\" alt=\"ISI\" style=\"width:1300px;\"/>\n",
    "(Gerstner... Paninski. Neuronal Dynamics. 2012)"
   ]
  },
  {
   "cell_type": "markdown",
   "metadata": {
    "pycharm": {},
    "slideshow": {
     "slide_type": "slide"
    }
   },
   "source": [
    "# The data and the task"
   ]
  },
  {
   "cell_type": "markdown",
   "metadata": {
    "pycharm": {
     "metadata": false
    },
    "slideshow": {
     "slide_type": "slide"
    }
   },
   "source": [
    "<img src=\"ukraine_slides_figs/hubel-experiment.jpg\" alt=\"Task\" style=\"width:1300px;\"/>    "
   ]
  },
  {
   "cell_type": "markdown",
   "metadata": {
    "pycharm": {
     "metadata": false
    },
    "slideshow": {
     "slide_type": "slide"
    }
   },
   "source": [
    "<img src=\"ukraine_slides_figs/visctxRawExample.png\" alt=\"data\" style=\"width:1300px;\"/>    \n",
    "\n",
    "\n"
   ]
  },
  {
   "cell_type": "markdown",
   "metadata": {
    "pycharm": {
     "metadata": false,
     "name": "#%% md\n"
    },
    "slideshow": {
     "slide_type": "fragment"
    }
   },
   "source": [
    "Further reading: https://phy-contrib.readthedocs.io/en/latest/template-gui/ \n"
   ]
  },
  {
   "cell_type": "markdown",
   "metadata": {
    "pycharm": {
     "metadata": false,
     "name": "#%% md\n"
    },
    "slideshow": {
     "slide_type": "slide"
    }
   },
   "source": [
    "# Recap of part 1, Spike Sorting Background  \n",
    "## 1) The power of spikes \n",
    "## 2) Past, present, and future of spike recording\n",
    "## 3) The origin of extacellular action potential\n",
    "## 4) Curation: ISI, PCA, correlations\n"
   ]
  }
 ],
 "metadata": {
  "celltoolbar": "Slideshow",
  "kernelspec": {
   "display_name": "Python 3",
   "language": "python",
   "name": "python3"
  },
  "language_info": {
   "codemirror_mode": {
    "name": "ipython",
    "version": 3
   },
   "file_extension": ".py",
   "mimetype": "text/x-python",
   "name": "python",
   "nbconvert_exporter": "python",
   "pygments_lexer": "ipython3",
   "version": "3.6.11"
  },
  "rise": {
   "autolaunch": true,
   "scroll": true,
   "transition": "None"
  },
  "stem_cell": {
   "cell_type": "raw",
   "metadata": {
    "pycharm": {
     "metadata": false
    }
   },
   "source": ""
  }
 },
 "nbformat": 4,
 "nbformat_minor": 1
}
