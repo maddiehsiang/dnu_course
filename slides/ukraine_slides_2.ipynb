{
 "cells": [
  {
   "cell_type": "code",
   "execution_count": null,
   "metadata": {
    "collapsed": true
   },
   "outputs": [],
   "source": [
    "from IPython.display import YouTubeVideo\n"
   ]
  },
  {
   "cell_type": "markdown",
   "source": [
    "# Day 2"
   ],
   "metadata": {
    "collapsed": false
   }
  },
  {
   "cell_type": "markdown",
   "source": [
    "# Outline\n",
    "## Lecture\n",
    "- How to record action potentials\n",
    "- What the extracellular signal contains"
   ],
   "metadata": {
    "collapsed": false
   }
  },
  {
   "cell_type": "markdown",
   "source": [
    "- How to make sense of the signal\n",
    "    - Spike sorting\n",
    "    - Spike visualization\n",
    "    - Spike decoding\n",
    "- Project ideas"
   ],
   "metadata": {
    "collapsed": false
   }
  },
  {
   "cell_type": "markdown",
   "source": [
    "## tutorial\n",
    "- You will visualize a large, real dataset\n",
    "- Spikes + behavior\n",
    "- Group programming\n",
    "- I will help\n",
    "- Solutions are posted"
   ],
   "metadata": {
    "collapsed": false
   }
  },
  {
   "cell_type": "markdown",
   "source": [
    "# The origin of extacellular action potential\n",
    "<img src=\"ukraine_slides_figs/extracellular_ap.jpg\" alt=\"Extracellular action potential\" style=\"width:1300px;\"/>\n",
    "A) Average extracellular action potential (EAP)\n",
    "\n",
    "B) Location dependence of the EAP\n",
    "\n",
    "C,D) Color = peak-to-peak voltage\n",
    "\n",
    "\n",
    "(Schomburg (2012))\n"
   ],
   "metadata": {
    "collapsed": false
   }
  },
  {
   "cell_type": "code",
   "execution_count": null,
   "outputs": [],
   "source": [
    "YouTubeVideo('lfNVv0A8QvI', width=800, height=300)"
   ],
   "metadata": {
    "collapsed": false,
    "pycharm": {
     "name": "#%%\n"
    }
   }
  },
  {
   "cell_type": "markdown",
   "source": [
    "<img src=\"ukraine_slides_figs/hubel-experiment.jpg\" alt=\"Task\" style=\"width:1300px;\"/>"
   ],
   "metadata": {
    "collapsed": false
   }
  },
  {
   "cell_type": "code",
   "execution_count": null,
   "outputs": [],
   "source": [
    "YouTubeVideo('8VdFf3egwfg', width=800, height=300)\n"
   ],
   "metadata": {
    "collapsed": false,
    "pycharm": {
     "name": "#%%  The power of spike data\n"
    }
   }
  },
  {
   "cell_type": "markdown",
   "source": [
    "# Multiple-electrode arrays\n",
    "<img src=\"ukraine_slides_figs/neuropix_pretty.jpg\" alt=\"neuropix_pretty\" style=\"width:1300px;\"/>"
   ],
   "metadata": {
    "collapsed": false
   }
  },
  {
   "cell_type": "markdown",
   "source": [
    "# Insertion\n",
    "<img src=\"ukraine_slides_figs/cambr.gif\" alt=\"Insertion\" style=\"width:1300px;\"/>"
   ],
   "metadata": {
    "collapsed": false
   }
  },
  {
   "cell_type": "markdown",
   "source": [
    "# Pre-curation automatic spike sorting steps\n",
    "\n",
    "    Open-ephys demo\n"
   ],
   "metadata": {
    "collapsed": false
   }
  },
  {
   "cell_type": "markdown",
   "source": [
    "# Pre-curation automatic spike sorting steps\n",
    "<img src=\"ukraine_slides_figs/workflow1.png\" alt=\"flow\" style=\"width:1300px;\"/>"
   ],
   "metadata": {
    "collapsed": false
   }
  },
  {
   "cell_type": "markdown",
   "source": [
    "# Curation: manual spike sorting steps\n",
    "# Quality control\n",
    "1) Waveform shape and consistency"
   ],
   "metadata": {
    "collapsed": false
   }
  },
  {
   "cell_type": "markdown",
   "source": [
    "2) Isolation distance (cloud overlap)\n",
    "<img src=\"ukraine_slides_figs/phy_screen.png\" alt=\"phy_clouds\" style=\"width:1300px;\"/>"
   ],
   "metadata": {
    "collapsed": false
   }
  },
  {
   "cell_type": "markdown",
   "source": [
    "# Curation: manual spike sorting steps\n",
    "# Quality control\n",
    "1) Waveform shape and consistency\n",
    "\n",
    "2) Isolation distance (cloud overlap)\n",
    "\n",
    "\n",
    "3) Interspike interval (ISI) distrbution\n"
   ],
   "metadata": {
    "collapsed": false
   }
  },
  {
   "cell_type": "markdown",
   "source": [
    "# Interspike intervals\n",
    "Thinking about _spikes_ vs _pauses_\n",
    "<img src=\"ukraine_slides_figs/isi.jpg\" alt=\"ISI\" style=\"width:1300px;\"/>\n",
    "(Gerstner... Paninski. Neuronal Dynamics. 2012)"
   ],
   "metadata": {
    "collapsed": false
   }
  },
  {
   "cell_type": "markdown",
   "source": [
    "# The data and the task"
   ],
   "metadata": {
    "collapsed": false
   }
  },
  {
   "cell_type": "markdown",
   "source": [
    "<img src=\"ukraine_slides_figs/hubel-experiment.jpg\" alt=\"Task\" style=\"width:1300px;\"/>"
   ],
   "metadata": {
    "collapsed": false
   }
  },
  {
   "cell_type": "markdown",
   "source": [
    "<img src=\"ukraine_slides_figs/visctxRawExample.png\" alt=\"data\" style=\"width:1300px;\"/>\n"
   ],
   "metadata": {
    "collapsed": false
   }
  },
  {
   "cell_type": "markdown",
   "source": [
    "- event vs continuous\n",
    "    - dims: arbitrary vs $bin*time$\n"
   ],
   "metadata": {
    "collapsed": false
   }
  },
  {
   "cell_type": "markdown",
   "source": [
    "# Recap of part 1, Spike Sorting Background\n",
    "## 1) The power of spikes\n",
    "## 2) Past, present, and future of spike recording\n",
    "## 3) The origin of extacellular action potential\n",
    "## 4) Curation: ISI, PCA, correlations\n",
    "\n"
   ],
   "metadata": {
    "collapsed": false
   }
  }
 ],
 "metadata": {
  "kernelspec": {
   "display_name": "Python 3",
   "language": "python",
   "name": "python3"
  },
  "language_info": {
   "codemirror_mode": {
    "name": "ipython",
    "version": 2
   },
   "file_extension": ".py",
   "mimetype": "text/x-python",
   "name": "python",
   "nbconvert_exporter": "python",
   "pygments_lexer": "ipython2",
   "version": "2.7.6"
  }
 },
 "nbformat": 4,
 "nbformat_minor": 0
}