{
 "cells": [
  {
   "cell_type": "markdown",
   "metadata": {
    "colab_type": "text"
   },
   "source": [
    "# Dynamical Neuroscience in Ukraine: Day 4\n",
    "# Python for Neuroscience\n",
    "\n",
    "__Content creators:__ Marco Brigham and the [CCNSS](https://www.ccnss.org/) team\n",
    "\n",
    "__Content reviewers:__ Michael Waskom, Karolina Stosio, Spiros Chavlis\n",
    "\n",
    "__Heavily modified by__ Maxym Myroshnychenko"
   ]
  },
  {
   "cell_type": "markdown",
   "metadata": {
    "colab_type": "text"
   },
   "source": [
    "---\n",
    "## Tutorial objectives\n",
    "Students, you are going to use Python skills to advance your understanding of neuroscience. Just like two legs that support and strengthen each other. One has \"Python\" written in it, and the other has \"Neuro\". And step-by-step they go.\n",
    "\n",
    "&nbsp; \n",
    "\n",
    "In this notebook, we'll practice basic operations with Python variables, control flow, plotting, and a sneak peek at `np.array`, the workhorse of scientific computation in Python.\n",
    "\n",
    "&nbsp; \n",
    "\n",
    "Each new concept in Python will unlock a different aspect of our implementation of a **Leaky Integrate-and-Fire (LIF)** neuron. And as if it couldn't get any better, we'll visualize the evolution of its membrane potential in time, and extract its statistical properties!\n",
    "\n",
    "&nbsp; \n",
    "\n",
    "Well then, let's start our walk today!"
   ]
  },
  {
   "cell_type": "markdown",
   "metadata": {
    "colab_type": "text"
   },
   "source": [
    "---\n",
    "## Imports and helper functions\n",
    "Please execute the cell(s) below to initialize the notebook environment."
   ]
  },
  {
   "cell_type": "code",
   "execution_count": null,
   "metadata": {
    "cellView": "both",
    "colab": {},
    "colab_type": "code",
    "execution": {
     "iopub.execute_input": "2021-05-11T19:25:43.391712Z",
     "iopub.status.busy": "2021-05-11T19:25:43.390796Z",
     "iopub.status.idle": "2021-05-11T19:25:46.068278Z",
     "shell.execute_reply": "2021-05-11T19:25:46.065971Z"
    }
   },
   "outputs": [],
   "source": [
    "# Import libraries\n",
    "import numpy as np\n",
    "import matplotlib.pyplot as plt"
   ]
  },
  {
   "cell_type": "code",
   "execution_count": null,
   "metadata": {
    "cellView": "form",
    "colab": {},
    "colab_type": "code",
    "execution": {
     "iopub.execute_input": "2021-05-11T19:25:46.094136Z",
     "iopub.status.busy": "2021-05-11T19:25:46.092012Z",
     "iopub.status.idle": "2021-05-11T19:25:46.249122Z",
     "shell.execute_reply": "2021-05-11T19:25:46.250360Z"
    }
   },
   "outputs": [],
   "source": [
    "# @title Figure settings\n",
    "\n",
    "%config InlineBackend.figure_format = 'retina'\n",
    "\n",
    "plt.style.use(\"https://raw.githubusercontent.com/NeuromatchAcademy/course-content/master/nma.mplstyle\")"
   ]
  },
  {
   "cell_type": "markdown",
   "metadata": {
    "colab_type": "text"
   },
   "source": [
    "---\n",
    "## Neuron model; the print statement\n",
    "A *membrane equation* and a *reset condition* define our *leaky-integrate-and-fire (LIF)* neuron:\n",
    "\n",
    "\n",
    "\\begin{align*}\n",
    "\\\\\n",
    "&\\tau_m\\,\\frac{d}{dt}\\,V(t) = E_{L} - V(t) + R\\,I(t) &\\text{if }\\quad V(t) \\leq V_{th}\\\\\n",
    "\\\\\n",
    "&V(t) = V_{reset} &\\text{otherwise}\\\\\n",
    "\\\\\n",
    "\\end{align*}\n",
    "\n",
    "where $V(t)$ is the membrane potential, $\\tau_m$ is the membrane time constant, $E_{L}$ is the leak potential, $R$ is the membrane resistance, $I(t)$ is the synaptic input current, $V_{th}$ is the firing threshold, and $V_{reset}$ is the reset voltage. We can also write $V_m$ for membrane potential - very convenient for plot labels.\n",
    "\n",
    "The membrane equation is an *ordinary differential equation (ODE)* that describes the time evolution of membrane potential $V(t)$ in response to synaptic input and leaking of change across the cell membrane.\n",
    "\n",
    "**Note that, in this tutorial the neuron model will not implement a spiking mechanism.**"
   ]
  },
  {
   "cell_type": "markdown",
   "metadata": {},
   "source": [
    "### Exercise 1\n",
    "We start by defining and initializing the main simulation variables.\n",
    "\n",
    "**Suggestions**\n",
    "* Modify the code below to print the simulation parameters"
   ]
  },
  {
   "cell_type": "code",
   "execution_count": null,
   "metadata": {
    "colab": {},
    "colab_type": "code",
    "execution": {
     "iopub.execute_input": "2021-05-11T19:25:46.266466Z",
     "iopub.status.busy": "2021-05-11T19:25:46.265037Z",
     "iopub.status.idle": "2021-05-11T19:25:46.274947Z",
     "shell.execute_reply": "2021-05-11T19:25:46.273722Z"
    }
   },
   "outputs": [],
   "source": [
    "# t_max = 150e-3   # second\n",
    "# dt = 1e-3        # second\n",
    "# tau = 20e-3      # second\n",
    "# el = -60e-3      # millivolt\n",
    "# vr = -70e-3      # millivolt\n",
    "# vth = -50e-3     # millivolt\n",
    "# r = 100e6        # ohm\n",
    "# i_mean = 25e-11  # ampere\n",
    "\n",
    "# print(t_max, dt, tau, el, vr, vth, r, i_mean)"
   ]
  },
  {
   "cell_type": "markdown",
   "metadata": {
    "colab_type": "text"
   },
   "source": [
    "**SAMPLE OUTPUT**\n",
    "\n",
    "```\n",
    "0.15 0.001 0.02 -0.06 -0.07 -0.05 100000000.0 2.5e-10\n",
    "```"
   ]
  },
  {
   "cell_type": "markdown",
   "metadata": {
    "cellView": "code",
    "colab": {
     "base_uri": "https://localhost:8080/",
     "height": 34
    },
    "colab_type": "text",
    "execution": {
     "iopub.execute_input": "2021-05-11T19:25:46.289643Z",
     "iopub.status.busy": "2021-05-11T19:25:46.288356Z",
     "iopub.status.idle": "2021-05-11T19:25:46.316395Z",
     "shell.execute_reply": "2021-05-11T19:25:46.317482Z"
    },
    "outputId": "6c099fca-bcc1-4653-872e-4b0ec6643834"
   },
   "source": [
    "[*Click for solution*](https://github.com/mmyros/dnu_course/tree/master//tutorials/D1_Python_Lite/solutions/W0D1_Tutorial1_Lite_Solution_4adeccd3.py)\n",
    "\n"
   ]
  },
  {
   "cell_type": "markdown",
   "metadata": {
    "colab_type": "text"
   },
   "source": [
    "### Exercise 2\n",
    "![synaptic input](https://github.com/mpbrigham/colaboratory-figures/raw/master/nma/python-for-nma/synaptic_input.png)\n",
    "\n",
    "We start with a sinusoidal model to simulate the synaptic input $I(t)$ given by:\n",
    "\\begin{align*}\n",
    "\\\\\n",
    "I(t)=I_{mean}\\left(1+\\sin\\left(\\frac{2 \\pi}{0.01}\\,t\\right)\\right)\\\\\n",
    "\\\\\n",
    "\\end{align*}\n",
    "\n",
    "Compute the values of synaptic input $I(t)$ between $t=0$ and $t=0.009$ with step $\\Delta t=0.001$.\n",
    "\n",
    "**Suggestions**\n",
    "* Loop variable `step` for 10 steps (`step` takes values from `0` to `9`)\n",
    "* At each time step\n",
    "    * Compute the value of `t` with variables `step` and `dt`\n",
    "    * Compute the value of `i`\n",
    "    * Print `i`"
   ]
  },
  {
   "cell_type": "code",
   "execution_count": null,
   "metadata": {
    "colab": {
     "base_uri": "https://localhost:8080/",
     "height": 191
    },
    "colab_type": "code",
    "execution": {
     "iopub.execute_input": "2021-05-11T19:25:46.328956Z",
     "iopub.status.busy": "2021-05-11T19:25:46.326812Z",
     "iopub.status.idle": "2021-05-11T19:25:46.330569Z",
     "shell.execute_reply": "2021-05-11T19:25:46.331757Z"
    },
    "outputId": "372da3d9-85e7-4743-dbda-6dcd519ddb08"
   },
   "outputs": [],
   "source": [
    "## TODO for students:\n",
    "# Uncomment below to get started\n",
    "\n",
    "# # initialize t\n",
    "# t = 0\n",
    "#\n",
    "# # loop for 10 steps, variable 'step' takes values from 0 to 9\n",
    "# for step in range(10):\n",
    "#   t = step * dt\n",
    "#   i = i_mean * (1 + np.sin((t * 2 * np.pi) / 0.01))\n",
    "#   ...(...)"
   ]
  },
  {
   "cell_type": "markdown",
   "metadata": {
    "colab_type": "text"
   },
   "source": [
    "**SAMPLE OUTPUT**\n",
    "\n",
    "```\n",
    "2.5e-10\n",
    "3.969463130731183e-10\n",
    "4.877641290737885e-10\n",
    "4.877641290737885e-10\n",
    "3.9694631307311837e-10\n",
    "2.5000000000000007e-10\n",
    "1.0305368692688176e-10\n",
    "1.2235870926211617e-11\n",
    "1.223587092621159e-11\n",
    "1.0305368692688186e-10\n",
    "```"
   ]
  },
  {
   "cell_type": "markdown",
   "metadata": {
    "colab": {
     "base_uri": "https://localhost:8080/",
     "height": 191
    },
    "colab_type": "text",
    "execution": {
     "iopub.execute_input": "2021-05-11T19:25:46.359561Z",
     "iopub.status.busy": "2021-05-11T19:25:46.355291Z",
     "iopub.status.idle": "2021-05-11T19:25:46.363130Z",
     "shell.execute_reply": "2021-05-11T19:25:46.360679Z"
    },
    "outputId": "813fbc61-32d8-453a-e0d2-54a0c3d96c14"
   },
   "source": [
    "[*Click for solution*](https://github.com/mmyros/dnu_course/tree/master//tutorials/D1_Python_Lite/solutions/W0D1_Tutorial1_Lite_Solution_943bc60a.py)\n",
    "\n"
   ]
  },
  {
   "cell_type": "markdown",
   "metadata": {
    "colab_type": "text"
   },
   "source": [
    "### Exercise 3\n",
    "Print formatting is handy for displaying simulation parameters in a clean and organized form. Python 3.6 introduced the new string formatting [f-strings](https://www.python.org/dev/peps/pep-0498).\n",
    "```\n",
    "x = 3.14\n",
    "y = 3\n",
    "print(f'My x is {x}, and my y is {y}')\n",
    "--> My x is 3.14, and my y is 3\n",
    "```\n",
    "\n",
    "Repeat the loop from the previous exercise and print `t` and  synaptic input $I(t)$\n",
    "\n",
    "For additional formatting options with f-strings see [here](http://zetcode.com/python/fstring/).\n"
   ]
  },
  {
   "cell_type": "code",
   "execution_count": null,
   "metadata": {
    "colab": {
     "base_uri": "https://localhost:8080/",
     "height": 191
    },
    "colab_type": "code",
    "execution": {
     "iopub.execute_input": "2021-05-11T19:25:46.373785Z",
     "iopub.status.busy": "2021-05-11T19:25:46.372561Z",
     "iopub.status.idle": "2021-05-11T19:25:46.386750Z",
     "shell.execute_reply": "2021-05-11T19:25:46.388492Z"
    },
    "outputId": "7aba8834-6f92-42e5-8a87-dac64ca44a76"
   },
   "outputs": [],
   "source": [
    "## TODO for students:\n",
    "# Uncomment below to get started\n",
    "\n",
    "\n",
    "# # initialize step_end\n",
    "# step_end = 9\n",
    "#\n",
    "# # loop for step_end steps\n",
    "# for step in range(step_end):\n",
    "#   t = step * dt\n",
    "#   i = i_mean * (1 + np.sin((t * 2 * np.pi) / 0.01))\n",
    "#   print(f'... {...}, ... {...}')"
   ]
  },
  {
   "cell_type": "markdown",
   "metadata": {
    "colab_type": "text"
   },
   "source": [
    "**SAMPLE OUTPUT**\n",
    "\n",
    "```\n",
    "t = 0.0, i = 2.5e-10\n",
    "t = 0.001, i = 3.969463130731183e-10\n",
    "t = 0.002, i = 4.877641290737885e-10\n",
    "t = 0.003, i = 4.877641290737885e-10\n",
    "t = 0.004, i = 3.9694631307311837e-10\n",
    "t = 0.005, i = 2.5000000000000007e-10\n",
    "t = 0.006, i = 1.0305368692688176e-10\n",
    "t = 0.007, i = 1.2235870926211617e-11\n",
    "t = 0.008, i = 1.223587092621159e-11\n",
    "```"
   ]
  },
  {
   "cell_type": "markdown",
   "metadata": {
    "colab": {
     "base_uri": "https://localhost:8080/",
     "height": 191
    },
    "colab_type": "text",
    "execution": {
     "iopub.execute_input": "2021-05-11T19:25:46.405688Z",
     "iopub.status.busy": "2021-05-11T19:25:46.404428Z",
     "iopub.status.idle": "2021-05-11T19:25:46.419990Z",
     "shell.execute_reply": "2021-05-11T19:25:46.421028Z"
    },
    "outputId": "2caf4fb7-2c09-4a18-bcfb-d2fc35584e10"
   },
   "source": [
    "[*Click for solution*](https://github.com/mmyros/dnu_course/tree/master//tutorials/D1_Python_Lite/solutions/W0D1_Tutorial1_Lite_Solution_1d244515.py)\n",
    "\n"
   ]
  },
  {
   "cell_type": "markdown",
   "metadata": {
    "colab_type": "text"
   },
   "source": [
    "## Loops, plotting, mean\n",
    "In the next exercises, we now simulate the evolution of the membrane equation in discrete time steps, with a sufficiently small $\\Delta t$."
   ]
  },
  {
   "cell_type": "markdown",
   "metadata": {
    "colab_type": "text"
   },
   "source": [
    "### Exercise 4\n",
    "We will write a `for` loop from scratch in this exercise. The following three formulations are all equivalent and loop for three steps:\n",
    "```\n",
    "for step in [0, 1, 2]:\n",
    "  print(step)\n",
    "\n",
    "for step in range(3):\n",
    "  print(step)\n",
    "\n",
    "start = 0\n",
    "end = 3\n",
    "stepsize = 1\n",
    "\n",
    "for step in range(start, end, stepsize):\n",
    "  print(step)\n",
    "```\n",
    "\n",
    "\n",
    "**Suggestions**\n",
    "* Loop variable `step` for `10` steps\n",
    "* At each time step\n",
    "    * Compute the current value of `t`, `i`\n",
    "    * Print the current value of `t` and `v`\n",
    "    * Update the value of `v`"
   ]
  },
  {
   "cell_type": "code",
   "execution_count": null,
   "metadata": {
    "colab": {
     "base_uri": "https://localhost:8080/",
     "height": 191
    },
    "colab_type": "code",
    "execution": {
     "iopub.execute_input": "2021-05-11T19:25:46.426764Z",
     "iopub.status.busy": "2021-05-11T19:25:46.425562Z",
     "iopub.status.idle": "2021-05-11T19:25:46.431630Z",
     "shell.execute_reply": "2021-05-11T19:25:46.432812Z"
    },
    "outputId": "a0ceb877-6f70-430b-8525-8b8520f8bf5f"
   },
   "outputs": [],
   "source": [
    "## TODO for students:\n",
    "# Uncomment below to get started\n",
    "\n",
    "# # initialize step_end and v\n",
    "# step_end = 10\n",
    "# v = el\n",
    "#\n",
    "# # loop for step_end steps\n",
    "# for ... in ...(...):\n",
    "#   t = step * dt\n",
    "#   i = i_mean * (1 + np.sin((t * 2 * np.pi) / 0.01))\n",
    "#   print(...)\n",
    "#   v = v + dt/tau * (el - v + r*i)"
   ]
  },
  {
   "cell_type": "markdown",
   "metadata": {
    "colab_type": "text"
   },
   "source": [
    "**SAMPLE OUTPUT**\n",
    "\n",
    "```\n",
    "\n",
    "t=0.0, v= -0.06\n",
    "t=0.001, v= -0.05875\n",
    "t=0.002, v= -0.056827768434634406\n",
    "t=0.003, v= -0.05454755936753374\n",
    "t=0.004, v= -0.05238136075378811\n",
    "t=0.005, v= -0.05077756115073311\n",
    "t=0.006, v= -0.049988683093196457\n",
    "t=0.007, v= -0.04997398050390223\n",
    "t=0.008, v= -0.05041410212407606\n",
    "```"
   ]
  },
  {
   "cell_type": "markdown",
   "metadata": {
    "colab": {
     "base_uri": "https://localhost:8080/",
     "height": 191
    },
    "colab_type": "text",
    "execution": {
     "iopub.execute_input": "2021-05-11T19:25:46.439606Z",
     "iopub.status.busy": "2021-05-11T19:25:46.438168Z",
     "iopub.status.idle": "2021-05-11T19:25:46.456570Z",
     "shell.execute_reply": "2021-05-11T19:25:46.458607Z"
    },
    "outputId": "8de4f552-d806-4946-e861-bc0a08d25c46"
   },
   "source": [
    "[*Click for solution*](https://github.com/mmyros/dnu_course/tree/master//tutorials/D1_Python_Lite/solutions/W0D1_Tutorial1_Lite_Solution_dfdbd6ad.py)\n",
    "\n"
   ]
  },
  {
   "cell_type": "markdown",
   "metadata": {
    "colab_type": "text"
   },
   "source": [
    "### Exercise 5\n",
    "![synaptic input discrete](https://github.com/mpbrigham/colaboratory-figures/raw/master/nma/python-for-nma/synaptic_input_discrete.png)\n",
    "\n",
    "Plot the values of $I(t)$ between $t=0$ and $t=0.024$.\n",
    "\n",
    "**Suggestions**\n",
    "* Increase `step_end`\n",
    "* initialize the figure with `plt.figure`, set title, x and y labels with `plt.title`, `plt.xlabel` and `plt.ylabel`, respectively\n",
    "* Replace printing command `print` with plotting command `plt.plot` with argument `'ko'` (short version for `color='k'` and `marker='o'`) for black small dots\n",
    "* Use `plt.show()` at the end to display the plot"
   ]
  },
  {
   "cell_type": "code",
   "execution_count": null,
   "metadata": {
    "colab": {
     "base_uri": "https://localhost:8080/",
     "height": 34
    },
    "colab_type": "code",
    "execution": {
     "iopub.execute_input": "2021-05-11T19:25:46.465221Z",
     "iopub.status.busy": "2021-05-11T19:25:46.463905Z",
     "iopub.status.idle": "2021-05-11T19:25:46.511558Z",
     "shell.execute_reply": "2021-05-11T19:25:46.513190Z"
    },
    "outputId": "c83a45e1-f33e-4255-9a77-278d40572eb1"
   },
   "outputs": [],
   "source": [
    "## TODO for students:\n",
    "# Uncomment below to get started\n",
    "\n",
    "\n",
    "# initialize step_end\n",
    "step_end = 25\n",
    "\n",
    "# initialize the figure\n",
    "plt.figure()\n",
    "# Complete these lines and uncomment\n",
    "# plt.title(...)\n",
    "# plt.xlabel(...)\n",
    "# plt.ylabel(...)\n",
    "\n",
    "# loop for step_end steps\n",
    "for step in range(step_end):\n",
    "  t = step * dt\n",
    "  i = i_mean * (1 + np.sin((t * 2 * np.pi) / 0.01))\n",
    "  # Complete this line and uncomment\n",
    "  # plt.plot(...)\n",
    "\n",
    "# plt.show()"
   ]
  },
  {
   "cell_type": "markdown",
   "metadata": {
    "colab": {
     "base_uri": "https://localhost:8080/",
     "height": 433
    },
    "colab_type": "text",
    "execution": {
     "iopub.execute_input": "2021-05-11T19:25:46.521480Z",
     "iopub.status.busy": "2021-05-11T19:25:46.519783Z",
     "iopub.status.idle": "2021-05-11T19:25:48.530772Z",
     "shell.execute_reply": "2021-05-11T19:25:48.531823Z"
    },
    "outputId": "44ff884b-e84e-46c7-9265-bbddb108125f"
   },
   "source": [
    "[*Click for solution*](https://github.com/mmyros/dnu_course/tree/master//tutorials/D1_Python_Lite/solutions/W0D1_Tutorial1_Lite_Solution_23446a7e.py)\n",
    "\n",
    "*Example output:*\n",
    "\n",
    "<img alt='Solution hint' align='left' width=559 height=416 src=https://raw.githubusercontent.com/mmyros/dnu_course/master/tutorials/D1_Python_Lite/static/W0D1_Tutorial1_Lite_Solution_23446a7e_0.png>\n",
    "\n"
   ]
  },
  {
   "cell_type": "markdown",
   "metadata": {
    "colab_type": "text"
   },
   "source": [
    "### Exercise 6\n",
    "Plot multiple realizations ($N=50$) of $V(t)$ by storing in a list the voltage of each neuron at time $t$.\n",
    "\n",
    "Keep in mind that the plotting command `plt.plot(x, y)` requires `x` to have the same number of elements as `y`.\n",
    "\n",
    "Mathematical symbols such as $\\alpha$ and $\\beta$ are specified as `$\\alpha$` and `$\\beta$` in [TeX markup](https://en.wikipedia.org/wiki/TeX). See additional details in [Writing mathematical expressions](https://matplotlib.org/3.2.2/tutorials/text/mathtext.html) in Matplotlib.\n",
    "\n",
    "**Suggestions**\n",
    "* Initialize a list `v_n` with `50` values of membrane leak potential `el`\n",
    "* At each time step:\n",
    "  * Plot `v_n` with argument `'k.'` and parameter `alpha=0.05` to adjust the transparency (by default, `alpha=1`)\n",
    "  * In the plot command, replace `t` from the previous exercises with a list of size `n` with values `t`\n",
    "  * Loop over `50` realizations of random input\n",
    "  * Update `v_n` with the values of $V(t)$\n"
   ]
  },
  {
   "cell_type": "code",
   "execution_count": null,
   "metadata": {
    "colab": {
     "base_uri": "https://localhost:8080/",
     "height": 430
    },
    "colab_type": "code",
    "execution": {
     "iopub.execute_input": "2021-05-11T19:25:48.540448Z",
     "iopub.status.busy": "2021-05-11T19:25:48.538626Z",
     "iopub.status.idle": "2021-05-11T19:25:48.881244Z",
     "shell.execute_reply": "2021-05-11T19:25:48.882365Z"
    },
    "outputId": "94680ccf-85c5-4434-c243-4990466d3d25"
   },
   "outputs": [],
   "source": [
    "## TODO for students:\n",
    "# Uncomment below to get started\n",
    "\n",
    "# set random number generator\n",
    "np.random.seed(2020)\n",
    "\n",
    "# initialize step_end, n and v_n\n",
    "step_end = int(t_max / dt)\n",
    "n = 50\n",
    "# Complete this line and uncomment\n",
    "v_n = [el] * n\n",
    "\n",
    "# initialize the figure\n",
    "plt.figure()\n",
    "plt.title('Multiple realizations of $V_m$')\n",
    "plt.xlabel('time (s)')\n",
    "plt.ylabel('$V_m$ (V)')\n",
    "\n",
    "# loop for step_end steps\n",
    "for step in range(step_end):\n",
    "  t = step * dt\n",
    "  # Complete this line and uncomment\n",
    "  # plt.plot(...)\n",
    "\n",
    "  # loop for n steps\n",
    "  for j in range(0, n):\n",
    "    i = i_mean * (1 + 0.1 * (t_max/dt)**(0.5) * (2* np.random.random() - 1))\n",
    "    v_n[j] = v_n[j] + (dt / tau) * (el - v_n[j] + r*i)\n",
    "\n",
    "plt.show()"
   ]
  },
  {
   "cell_type": "markdown",
   "metadata": {
    "colab": {
     "base_uri": "https://localhost:8080/",
     "height": 430
    },
    "colab_type": "text",
    "execution": {
     "iopub.execute_input": "2021-05-11T19:25:48.886946Z",
     "iopub.status.busy": "2021-05-11T19:25:48.885784Z",
     "iopub.status.idle": "2021-05-11T19:25:49.587434Z",
     "shell.execute_reply": "2021-05-11T19:25:49.587955Z"
    },
    "outputId": "fb35c800-27e9-4860-8c04-a99c754d6004"
   },
   "source": [
    "[*Click for solution*](https://github.com/mmyros/dnu_course/tree/master//tutorials/D1_Python_Lite/solutions/W0D1_Tutorial1_Lite_Solution_8b55f5dd.py)\n",
    "\n",
    "*Example output:*\n",
    "\n",
    "<img alt='Solution hint' align='left' width=558 height=413 src=https://raw.githubusercontent.com/mmyros/dnu_course/master/tutorials/D1_Python_Lite/static/W0D1_Tutorial1_Lite_Solution_8b55f5dd_0.png>\n",
    "\n"
   ]
  },
  {
   "cell_type": "markdown",
   "metadata": {
    "colab_type": "text"
   },
   "source": [
    "### Exercise 7\n",
    "Add the sample mean $\\left\\langle V(t)\\right\\rangle=\\frac{1}{N}\\sum_{n=1}^N V_n(t)$ to the plot.\n",
    "\n",
    "**Suggestions**\n",
    "* At each timestep:\n",
    "  * Compute and store in `v_mean` the sample mean $\\left\\langle V(t)\\right\\rangle$ by summing the values of list `v_n` with `sum` and dividing by `n`\n",
    "  * Plot $\\left\\langle V(t)\\right\\rangle$ with `alpha=0.8` and argument `'C0.'` for blue (you can read more about [specifying colors](https://matplotlib.org/tutorials/colors/colors.html#sphx-glr-tutorials-colors-colors-py))\n",
    "  * Loop over `50` realizations of random input\n",
    "  * Update `v_n` with the values of $V(t)$"
   ]
  },
  {
   "cell_type": "code",
   "execution_count": null,
   "metadata": {
    "colab": {
     "base_uri": "https://localhost:8080/",
     "height": 430
    },
    "colab_type": "code",
    "execution": {
     "iopub.execute_input": "2021-05-11T19:25:49.591522Z",
     "iopub.status.busy": "2021-05-11T19:25:49.590909Z",
     "iopub.status.idle": "2021-05-11T19:25:49.861973Z",
     "shell.execute_reply": "2021-05-11T19:25:49.862459Z"
    },
    "outputId": "3eaba174-d3d1-4a93-8018-228646dcd053"
   },
   "outputs": [],
   "source": [
    "# set random number generator\n",
    "np.random.seed(2020)\n",
    "\n",
    "# initialize step_end, n and v_n\n",
    "step_end = int(t_max / dt)\n",
    "n = 50\n",
    "v_n = [el] * n\n",
    "\n",
    "# initialize the figure\n",
    "plt.figure()\n",
    "plt.title('Multiple realizations of $V_m$')\n",
    "plt.xlabel('time (s)')\n",
    "plt.ylabel('$V_m$ (V)')\n",
    "\n",
    "# loop for step_end steps\n",
    "for step in range(step_end):\n",
    "  t = step * dt\n",
    "\n",
    "  v_mean = ...\n",
    "  # Complete these lines and uncomment\n",
    "  # plt.plot(...)\n",
    "  # plt.plot(...)\n",
    "\n",
    "  for j in range(0, n):\n",
    "    i = i_mean * (1 + 0.1 * (t_max / dt)**(0.5) * (2 * np.random.random() - 1))\n",
    "    v_n[j] = v_n[j] + (dt / tau) * (el - v_n[j] + r*i)\n",
    "\n",
    "plt.show()"
   ]
  },
  {
   "cell_type": "markdown",
   "metadata": {
    "colab": {
     "base_uri": "https://localhost:8080/",
     "height": 430
    },
    "colab_type": "text",
    "execution": {
     "iopub.execute_input": "2021-05-11T19:25:49.865422Z",
     "iopub.status.busy": "2021-05-11T19:25:49.864911Z",
     "iopub.status.idle": "2021-05-11T19:25:50.873127Z",
     "shell.execute_reply": "2021-05-11T19:25:50.874660Z"
    },
    "outputId": "6dbbe907-2fb2-4792-bcbc-d05b175fef19"
   },
   "source": [
    "[*Click for solution*](https://github.com/mmyros/dnu_course/tree/master//tutorials/D1_Python_Lite/solutions/W0D1_Tutorial1_Lite_Solution_98017570.py)\n",
    "\n",
    "*Example output:*\n",
    "\n",
    "<img alt='Solution hint' align='left' width=558 height=413 src=https://raw.githubusercontent.com/mmyros/dnu_course/master/tutorials/D1_Python_Lite/static/W0D1_Tutorial1_Lite_Solution_98017570_0.png>\n",
    "\n"
   ]
  },
  {
   "cell_type": "markdown",
   "metadata": {
    "colab_type": "text"
   },
   "source": [
    "---\n",
    "## Using NumPy\n",
    "The next set of exercises introduces `np.array`, the workhorse from the scientific computation package [NumPy](https://numpy.org). Numpy arrays the default for numerical data storage and computation and will separate computing steps from plotting.\n",
    "\n",
    "![NumPy package](https://github.com/mpbrigham/colaboratory-figures/raw/master/nma/python-for-nma/numpy_logo_small.png)\n",
    "\n",
    "We updated plots inside the main loop in the previous exercises and stored intermediate results in lists for plotting them. The purpose was to simplify earlier exercises as much as possible. However, there are very few scenarios where this technique is necessary, and you should avoid it in the future. Using numpy arrays will significantly simplify our coding narrative by computing inside the main loop and plotting afterward.\n",
    "\n",
    "Lists are much more natural for storing data for other purposes than computation. For example, lists are handy for storing numerical indexes and text."
   ]
  },
  {
   "cell_type": "markdown",
   "metadata": {
    "colab_type": "text"
   },
   "source": [
    "### Exercise 8\n",
    "Rewrite the single neuron plot with random input from _Exercise 7_ with numpy arrays. The time range, voltage values, and synaptic current are initialized or pre-computed as numpy arrays before numerical integration.\n",
    "\n",
    "**Suggestions**\n",
    "* Use `np.linspace` to initialize a numpy array `t_range` with `num=step_end=150` values from `0` to `t_max`\n",
    "* Use `np.ones` to initialize a numpy array `v` with `step_end + 1` leak potential values `el`\n",
    "* Pre-compute `step_end` synaptic current values in numpy array `syn` with `np.random.random(step_end)` for `step_end` random numbers\n",
    "* Iterate for numerical integration of `v`\n",
    "* Since `v[0]=el`, we should iterate for `step_end` steps, for example by skipping `step=0`. Why?"
   ]
  },
  {
   "cell_type": "code",
   "execution_count": null,
   "metadata": {
    "colab": {
     "base_uri": "https://localhost:8080/",
     "height": 430
    },
    "colab_type": "code",
    "execution": {
     "iopub.execute_input": "2021-05-11T19:25:50.954185Z",
     "iopub.status.busy": "2021-05-11T19:25:50.953063Z",
     "iopub.status.idle": "2021-05-11T19:25:51.181263Z",
     "shell.execute_reply": "2021-05-11T19:25:51.180181Z"
    },
    "outputId": "03db6fbf-15a8-4868-a867-2e4c710ba68c"
   },
   "outputs": [],
   "source": [
    "## TODO for students:\n",
    "# Uncomment below to get started\n",
    "\n",
    "# set random number generator\n",
    "np.random.seed(2020)\n",
    "\n",
    "# initialize step_end, t_range, v and syn\n",
    "step_end = int(t_max / dt) - 1\n",
    "# skip the endpoint to match Exercise 7 plot\n",
    "t_range = np.linspace(0, t_max, num=step_end, endpoint=False)\n",
    "v = el * np.ones(step_end)\n",
    "syn = i_mean * (1 + 0.1 * (t_max/dt) ** (0.5) * (2 * np.random.random(step_end) - 1))\n",
    "\n",
    "# loop for step_end - 1 steps\n",
    "for step in range(1, step_end):\n",
    "  v[step] = v[step - 1] + (dt / tau) * (el - v[step - 1] + r * syn[step])\n",
    "\n",
    "\n",
    "plt.figure()\n",
    "plt.title('$V_m$ with random I(t)')\n",
    "plt.xlabel('time (s)')\n",
    "plt.ylabel('$V_m$ (V)')\n",
    "\n",
    "# plt.plot(..., ..., 'k.')\n",
    "plt.show()"
   ]
  },
  {
   "cell_type": "markdown",
   "metadata": {
    "colab": {
     "base_uri": "https://localhost:8080/",
     "height": 433
    },
    "colab_type": "text",
    "execution": {
     "iopub.execute_input": "2021-05-11T19:25:51.236080Z",
     "iopub.status.busy": "2021-05-11T19:25:51.232269Z",
     "iopub.status.idle": "2021-05-11T19:25:51.694599Z",
     "shell.execute_reply": "2021-05-11T19:25:51.695033Z"
    },
    "outputId": "7c1f0969-8187-4e57-9f37-25f691e2a065"
   },
   "source": [
    "[*Click for solution*](https://github.com/mmyros/dnu_course/tree/master//tutorials/D1_Python_Lite/solutions/W0D1_Tutorial1_Lite_Solution_4427a815.py)\n",
    "\n",
    "*Example output:*\n",
    "\n",
    "<img alt='Solution hint' align='left' width=560 height=416 src=https://raw.githubusercontent.com/mmyros/dnu_course/master/tutorials/D1_Python_Lite/static/W0D1_Tutorial1_Lite_Solution_4427a815_0.png>\n",
    "\n"
   ]
  },
  {
   "cell_type": "markdown",
   "metadata": {
    "colab_type": "text"
   },
   "source": [
    "### Exercise 9\n",
    "Plot multiple realizations ($N=50$) of $V(t)$ by storing the voltage of each neuron at time $t$ in a numpy array.\n",
    "\n",
    "**Suggestions**\n",
    "* Initialize a numpy array `v_n` of shape `(n, step_end)` with membrane leak potential values `el`\n",
    "* Pre-compute synaptic current values in numpy array `syn` of shape `(n, step_end)`\n",
    "* Iterate `step_end` steps with a `for` loop for numerical integration\n",
    "* Plot results with a single plot command, by providing `v_n.T` to the plot function. `v_n.T` is the transposed version of `v_n` (with rows and columns swapped)."
   ]
  },
  {
   "cell_type": "code",
   "execution_count": null,
   "metadata": {
    "colab": {
     "base_uri": "https://localhost:8080/",
     "height": 430
    },
    "colab_type": "code",
    "execution": {
     "iopub.execute_input": "2021-05-11T19:25:51.700048Z",
     "iopub.status.busy": "2021-05-11T19:25:51.699507Z",
     "iopub.status.idle": "2021-05-11T19:25:51.917811Z",
     "shell.execute_reply": "2021-05-11T19:25:51.918188Z"
    },
    "outputId": "3707b2ba-ccbd-436a-a620-33c9bbf82b27"
   },
   "outputs": [],
   "source": [
    "## TODO for students:\n",
    "# Uncomment below to get started\n",
    "\n",
    "# set random number generator\n",
    "np.random.seed(2020)\n",
    "\n",
    "# initialize step_end, n, t_range, v and syn\n",
    "step_end = int(t_max / dt)\n",
    "n = 50\n",
    "t_range = np.linspace(0, t_max, num=step_end)\n",
    "v_n = el * np.ones([n, step_end])\n",
    "\n",
    "syn = i_mean * (1 + 0.1 * (t_max / dt)**0.5 * (2 * np.random.random([n, step_end]) - 1))\n",
    "\n",
    "# loop for step_end - 1 steps\n",
    "# Complete these lines and uncomment\n",
    "# for ... in range(1, ...):\n",
    "  # v_n[:, ...] = v_n[:, step - 1] + (dt / tau) * (el - v_n[:, step - 1] + r * syn[:, step])\n",
    "\n",
    "# initialize the figure\n",
    "plt.figure()\n",
    "plt.title('Multiple realizations of $V_m$')\n",
    "plt.xlabel('time (s)')\n",
    "plt.ylabel('$V_m$ (V)')\n",
    "\n",
    "# Complete this line and uncomment\n",
    "# plt.plot(...)\n",
    "plt.show()"
   ]
  },
  {
   "cell_type": "markdown",
   "metadata": {
    "colab": {
     "base_uri": "https://localhost:8080/",
     "height": 433
    },
    "colab_type": "text",
    "execution": {
     "iopub.execute_input": "2021-05-11T19:25:51.965635Z",
     "iopub.status.busy": "2021-05-11T19:25:51.926562Z",
     "iopub.status.idle": "2021-05-11T19:25:52.819361Z",
     "shell.execute_reply": "2021-05-11T19:25:52.819930Z"
    },
    "outputId": "a1383bbc-39ab-4eba-f7a4-3c639a9b7029"
   },
   "source": [
    "[*Click for solution*](https://github.com/mmyros/dnu_course/tree/master//tutorials/D1_Python_Lite/solutions/W0D1_Tutorial1_Lite_Solution_e8466b6b.py)\n",
    "\n",
    "*Example output:*\n",
    "\n",
    "<img alt='Solution hint' align='left' width=560 height=416 src=https://raw.githubusercontent.com/mmyros/dnu_course/master/tutorials/D1_Python_Lite/static/W0D1_Tutorial1_Lite_Solution_e8466b6b_0.png>\n",
    "\n"
   ]
  },
  {
   "cell_type": "markdown",
   "metadata": {
    "colab_type": "text"
   },
   "source": [
    "### Exercise 10\n",
    "Add sample mean $\\left\\langle V(t)\\right\\rangle$ and standard deviation $\\sigma(t)\\equiv\\sqrt{\\text{Var}\\left(t\\right)}$ to the plot.\n",
    "\n",
    "`np.mean(v_n, axis=0)` computes mean over rows, i.e. mean for each neuron\n",
    "\n",
    "`np.mean(v_n, axis=1)` computes mean over columns (axis `1`), i.e. mean for each time step\n",
    "\n",
    "**Suggestions**\n",
    "* Use `np.mean` and `np.std` with `axis=0` to sum over neurons\n",
    "* Use `label` argument in `plt.plot` to specify labels in each trace. Label only the last voltage trace to avoid labeling all `N` of them."
   ]
  },
  {
   "cell_type": "code",
   "execution_count": null,
   "metadata": {
    "colab": {
     "base_uri": "https://localhost:8080/",
     "height": 430
    },
    "colab_type": "code",
    "execution": {
     "iopub.execute_input": "2021-05-11T19:25:52.847163Z",
     "iopub.status.busy": "2021-05-11T19:25:52.846487Z",
     "iopub.status.idle": "2021-05-11T19:25:53.131851Z",
     "shell.execute_reply": "2021-05-11T19:25:53.131216Z"
    },
    "outputId": "3a147da8-6f55-4250-91b9-e1837ec21ec2"
   },
   "outputs": [],
   "source": [
    "## TODO for students:\n",
    "# Uncomment below to get started\n",
    "\n",
    "# set random number generator\n",
    "np.random.seed(2020)\n",
    "\n",
    "# initialize step_end, n, t_range, v and syn\n",
    "step_end = int(t_max / dt)\n",
    "n = 50\n",
    "t_range = np.linspace(0, t_max, num=step_end)\n",
    "v_n = el * np.ones([n, step_end])\n",
    "syn = i_mean * (1 + 0.1 * (t_max / dt)**(0.5) * (2 * np.random.random([n, step_end]) - 1))\n",
    "\n",
    "# loop for step_end - 1 steps\n",
    "# for ... in range(1, ...):\n",
    "  # v_n[:, ...] = v_n[:,step - 1] + (dt / tau) * (el - v_n[:, step - 1] + r * syn[:, step])\n",
    "\n",
    "v_mean = ...\n",
    "v_std = ...\n",
    "\n",
    "# initialize the figure\n",
    "plt.figure()\n",
    "plt.title('Multiple realizations of $V_m$')\n",
    "plt.xlabel('time (s)')\n",
    "plt.ylabel('$V_m$ (V)')\n",
    "\n",
    "plt.plot(t_range, v_n[:-1].T, 'k', alpha=0.3)\n",
    "\n",
    "# Complete these lines and uncomment\n",
    "# plt.plot(t_range, v_n[-1], 'k', alpha=0.3, label=...)\n",
    "# plt.plot(t_range, ..., 'C0', alpha=0.8, label='mean')\n",
    "# plt.plot(t_range, ..., 'C7', alpha=0.8)\n",
    "# plt.plot(t_range, ..., 'C7', alpha=0.8, label=...)\n",
    "\n",
    "#plt.legend()\n",
    "plt.show()"
   ]
  },
  {
   "cell_type": "markdown",
   "metadata": {
    "colab": {
     "base_uri": "https://localhost:8080/",
     "height": 433
    },
    "colab_type": "text",
    "execution": {
     "iopub.execute_input": "2021-05-11T19:25:53.141303Z",
     "iopub.status.busy": "2021-05-11T19:25:53.139447Z",
     "iopub.status.idle": "2021-05-11T19:25:54.265551Z",
     "shell.execute_reply": "2021-05-11T19:25:54.265952Z"
    },
    "outputId": "d8101c7c-95b8-421b-9331-2c9d3d1242a2"
   },
   "source": [
    "[*Click for solution*](https://github.com/mmyros/dnu_course/tree/master//tutorials/D1_Python_Lite/solutions/W0D1_Tutorial1_Lite_Solution_061d112f.py)\n",
    "\n",
    "*Example output:*\n",
    "\n",
    "<img alt='Solution hint' align='left' width=560 height=416 src=https://raw.githubusercontent.com/mmyros/dnu_course/master/tutorials/D1_Python_Lite/static/W0D1_Tutorial1_Lite_Solution_061d112f_0.png>\n",
    "\n"
   ]
  }
 ],
 "metadata": {
  "colab": {
   "collapsed_sections": [],
   "include_colab_link": true,
   "name": "W0D1_Tutorial1_Lite",
   "provenance": [],
   "toc_visible": true
  },
  "kernel": {
   "display_name": "Python 3",
   "language": "python",
   "name": "python3"
  },
  "kernelspec": {
   "display_name": "Python 3",
   "language": "python",
   "name": "python3"
  },
  "language_info": {
   "codemirror_mode": {
    "name": "ipython",
    "version": 3
   },
   "file_extension": ".py",
   "mimetype": "text/x-python",
   "name": "python",
   "nbconvert_exporter": "python",
   "pygments_lexer": "ipython3",
   "version": "3.7.3"
  }
 },
 "nbformat": 4,
 "nbformat_minor": 0
}
