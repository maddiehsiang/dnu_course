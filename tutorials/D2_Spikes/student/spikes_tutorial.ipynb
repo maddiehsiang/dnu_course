{
 "cells": [
  {
   "cell_type": "markdown",
   "metadata": {
    "pycharm": {},
    "slideshow": {
     "slide_type": "slide"
    }
   },
   "source": [
    "# Dynamical Neuroscience in Ukraine Academy: Day 6\n",
    "# Real data with Python"
   ]
  },
  {
   "cell_type": "code",
   "execution_count": null,
   "metadata": {
    "cellView": "form",
    "execution": {
     "iopub.execute_input": "2021-05-11T19:25:08.652701Z",
     "iopub.status.busy": "2021-05-11T19:25:08.623014Z",
     "iopub.status.idle": "2021-05-11T19:25:42.363161Z",
     "shell.execute_reply": "2021-05-11T19:25:42.363542Z"
    },
    "pycharm": {
     "name": "#%%\n"
    }
   },
   "outputs": [],
   "source": [
    "# @title Helper functions\n",
    "# Install packages\n",
    "# Warning:the following two commands will not work on windows. use pip install but without exclamation mark >/dev/null\n",
    "!pip install -U hvplot bokeh>/dev/null\n",
    "!pip install matplotlib pandas xarray numpy tqdm spykes >/dev/null\n",
    "import os\n",
    "\n",
    "import pandas as pd\n",
    "import xarray as xr\n",
    "import requests\n",
    "from pathlib import Path\n",
    "import zipfile\n",
    "\n",
    "\n",
    "def download_data():\n",
    "    print('Downloading data... Please wait. Should take less than 1 min')\n",
    "    # Get link:\n",
    "    r = requests.get('http://data.cortexlab.net/singlePhase3/data/dataset.zip')\n",
    "    path = Path('data/dataset.zip')\n",
    "    path.parent.mkdir(exist_ok=True)\n",
    "    if not path.exists():\n",
    "        with open(path, \"wb\") as fid:\n",
    "            # Write out content of link:\n",
    "            fid.write(r.content)\n",
    "    # Unzip\n",
    "    with zipfile.ZipFile(path, 'r') as zip_ref:\n",
    "        zip_ref.extractall(path.parent)\n",
    "\n",
    "\n",
    "def load_spikes_from_phy(path_to_data='/Users/myroshnychenkm2/Downloads/dataset/', sampling_frequency=30000):\n",
    "    \"\"\"\n",
    "    Get spikes from a kilosort/phy result folder\n",
    "    :param path_to_data:\n",
    "    :param sampling_frequency:\n",
    "    :return:\n",
    "    :id: neuron id, 1xN\n",
    "    :ts: corresponding spiketime, 1xN\n",
    "    \"\"\"\n",
    "    groupfname = os.path.join(path_to_data, 'cluster_groups.csv')\n",
    "    groups = pd.read_csv(groupfname, delimiter='\\t')\n",
    "\n",
    "    # load spike times and cluster IDs\n",
    "    with open(path_to_data + 'spike_clusters.npy', 'rb') as f:\n",
    "        ids = np.load(f).flatten()\n",
    "    with open(path_to_data + 'spike_times.npy', 'rb') as f:\n",
    "        ts = np.load(f).flatten()\n",
    "\n",
    "    # Create the list of our \"good\" labeled units\n",
    "    ids_to_take = groups[(groups.group == 'good')].cluster_id\n",
    "    # Find which spikes beloing to our \"good\" groups\n",
    "    spikes_to_take = []\n",
    "    for i in tqdm(ids_to_take, desc='Selecting only good spikes'):\n",
    "        spikes_to_take.extend((ids == i).nonzero()[0])\n",
    "    # only take spikes that are in our list\n",
    "    ids = np.array(ids[spikes_to_take])\n",
    "    ts = np.array(ts[spikes_to_take]).astype(float) / sampling_frequency\n",
    "\n",
    "    return ids, ts\n",
    "\n",
    "\n",
    "def bin_neuron(spike_times, bin_size=.100, window=None):\n",
    "    \"\"\"\n",
    "    Make binned raster for a single neuron\n",
    "    :param spike_times:\n",
    "    :param bin_size: in sec\n",
    "    :param window:\n",
    "    :return:\n",
    "    \"\"\"\n",
    "    if window is None:\n",
    "        window = [0, spike_times.max()]\n",
    "    bins = np.arange(window[0], window[1] + bin_size, bin_size)\n",
    "    return np.histogram(spike_times, bins)[0]\n",
    "\n",
    "\n",
    "def bin_neurons(spike_times, Neuron_IDs, bin_size=None, window=None, plotose=False):\n",
    "    \"\"\"\n",
    "    Make binned raster for many neurons\n",
    "    :param spike_times:\n",
    "    :param Neuron_IDs:\n",
    "    :param bin_size: in sec\n",
    "    :param window:\n",
    "    :param plotose:\n",
    "    :return:\n",
    "    \"\"\"\n",
    "    if window is None:\n",
    "        window = [0, spike_times.max()]\n",
    "    # the following uses an inline for loop (look it up):\n",
    "    spike_counts = [bin_neuron(spike_times[Neuron_IDs == Neuron_ID], bin_size, window)\n",
    "                    for Neuron_ID in tqdm(np.unique(Neuron_IDs))]\n",
    "    spike_counts = np.vstack(spike_counts)\n",
    "    raster = xr.DataArray(spike_counts, coords=dict(Time=np.arange(window[0], window[1] + bin_size, bin_size)[:-1],\n",
    "                                                    Neuron_ID=range(len(np.unique(Neuron_IDs)))),\n",
    "                          dims=['Neuron_ID', 'Time'])\n",
    "    if plotose:\n",
    "        raster.plot(robust=True)\n",
    "    return raster\n",
    "\n",
    "\n",
    "def identify_down_states(ts, bin_size=.05, number_of_neurons_treshold=20, minimum_time_between_states=0.15):\n",
    "    \"\"\"\n",
    "    Find spontaneous periods of quiecence in spiketimes\n",
    "    :param ts:\n",
    "    :param bin_size:\n",
    "    :param number_of_neurons_treshold:\n",
    "    :param minimum_time_between_states:\n",
    "    :return:\n",
    "    \"\"\"\n",
    "    lfp = bin_neuron(np.sort(ts), bin_size=bin_size)\n",
    "    down_states = np.where(lfp < number_of_neurons_treshold)[0]\n",
    "    down_states_lengths = np.diff(down_states)\n",
    "    print(f'Eliminating {down_states[1:][down_states_lengths < .15 / bin_size].shape} that are too short')\n",
    "    down_states = down_states[1:][down_states_lengths > minimum_time_between_states / bin_size]\n",
    "    print(f'Ended up with {down_states.shape} down states')\n",
    "    # convert into seconds:\n",
    "    down_states = down_states * bin_size\n",
    "    down_states -= .03\n",
    "    print(down_states[(down_states > 63) & (down_states < 68)])  # compare with raster\n",
    "    return lfp, down_states\n",
    "\n",
    "\n",
    "class PETH:\n",
    "    \"\"\"\n",
    "    A collection of functions dealing with peristimulus time histogram\n",
    "    \"\"\"\n",
    "\n",
    "    @staticmethod\n",
    "    def events(trial_starts):\n",
    "        \"\"\"\n",
    "        Simple wrapper creating a dataframe with times we want to lock onto\n",
    "        :param trial_starts: List of times of interest (trials)\n",
    "        :return: spykes object\n",
    "        \"\"\"\n",
    "        return pd.DataFrame({'trialStart': trial_starts})\n",
    "\n",
    "    @staticmethod\n",
    "    def spykes_get_times(s_ts, s_id, debug=False):\n",
    "        \"\"\"\n",
    "        Use spykes library\n",
    "        :param s_ts:\n",
    "        :param s_id:\n",
    "        :param debug:\n",
    "        :return:\n",
    "        \"\"\"\n",
    "\n",
    "        def print_spyke(spykess):\n",
    "            [print(len(spykess[i].spiketimes)) for i in range(len(spykess))]\n",
    "\n",
    "        from spykes.plot import neurovis\n",
    "        s_id = s_id.astype('int')\n",
    "        neuron_list = list()\n",
    "        for iu in np.unique(s_id):\n",
    "            spike_times = s_ts[s_id == iu]\n",
    "            if len(spike_times) < 2:\n",
    "                if debug:\n",
    "                    print('Too few spiketimes in this unit: ' + str(spike_times))\n",
    "                else:\n",
    "                    pass  # neuron_list.append(NeuroVis([],'ram'+str(iu)))\n",
    "            else:\n",
    "                neuron = neurovis.NeuroVis(spike_times, name='ram' + str(iu))\n",
    "                neuron_list.append(neuron)\n",
    "\n",
    "        if debug:\n",
    "            print_spyke(neuron_list)\n",
    "        return neuron_list\n",
    "\n",
    "    @staticmethod\n",
    "    def spykes_summary(spikes, events, event='trialStart', window=[-100, 100], bin_size=10, fr_thr=.1, plotose=True):\n",
    "        \"\"\"\n",
    "\n",
    "        :param spikes:\n",
    "        :param spykes_df:\n",
    "        :param event:\n",
    "        :param window:\n",
    "        :param bin_size:\n",
    "        :param fr_thr:\n",
    "        :param plotose:\n",
    "        :return:\n",
    "        \"\"\"\n",
    "        import spykes\n",
    "        assert window[1] - window[0] > 0, 'Window size must be greater than zero!'\n",
    "        # filter firing rate\n",
    "        spikes = [i for i in spikes if i.firingrate > fr_thr]\n",
    "        pop = spykes.plot.popvis.PopVis(spikes)\n",
    "        # calculate psth\n",
    "        mean_psth = pop.get_all_psth(event=event, df=events, window=window, binsize=bin_size, plot=False)\n",
    "        assert mean_psth['data'][0].size > 0, 'Empty group PSTH!'\n",
    "        if plotose:\n",
    "            # % plot heatmap of average psth\n",
    "            _ = plt.figure(figsize=(10, 10))\n",
    "            #        fig.subplots_adjust(hspace=.3)\n",
    "            # set_trace()\n",
    "            pop.plot_heat_map(mean_psth, sortby=None, sortorder='ascend', normalize=None,\n",
    "                              colors=['viridis'])  # or latency\n",
    "\n",
    "            # %% Population PSTH\n",
    "            plt.figure()\n",
    "            pop.plot_population_psth(all_psth=mean_psth, event_name='Event',\n",
    "                                     colors=([.5, .5, .5], [0, .6, 0]))\n",
    "\n",
    "        return pop, mean_psth\n",
    "\n",
    "\n",
    "download_data()"
   ]
  },
  {
   "cell_type": "code",
   "execution_count": null,
   "metadata": {
    "execution": {
     "iopub.execute_input": "2021-05-11T19:25:42.368352Z",
     "iopub.status.busy": "2021-05-11T19:25:42.367671Z",
     "iopub.status.idle": "2021-05-11T19:25:45.415384Z",
     "shell.execute_reply": "2021-05-11T19:25:45.420522Z"
    },
    "pycharm": {
     "name": "#%%\n"
    },
    "slideshow": {
     "slide_type": "slide"
    }
   },
   "outputs": [],
   "source": [
    "# Import basic libraries\n",
    "import matplotlib.pylab as plt\n",
    "import numpy as np\n",
    "from tqdm import tqdm"
   ]
  },
  {
   "cell_type": "code",
   "execution_count": null,
   "metadata": {
    "cellView": "form",
    "execution": {
     "iopub.execute_input": "2021-05-11T19:25:45.473936Z",
     "iopub.status.busy": "2021-05-11T19:25:45.471553Z",
     "iopub.status.idle": "2021-05-11T19:25:45.746303Z",
     "shell.execute_reply": "2021-05-11T19:25:45.750678Z"
    },
    "pycharm": {
     "name": "#%%\n"
    }
   },
   "outputs": [],
   "source": [
    "# @title Figure settings\n",
    "\n",
    "%config InlineBackend.figure_format = 'retina'\n",
    "\n",
    "plt.style.use(\"https://raw.githubusercontent.com/NeuromatchAcademy/course-content/master/nma.mplstyle\")"
   ]
  },
  {
   "cell_type": "code",
   "execution_count": null,
   "metadata": {
    "execution": {
     "iopub.execute_input": "2021-05-11T19:25:45.786669Z",
     "iopub.status.busy": "2021-05-11T19:25:45.779068Z",
     "iopub.status.idle": "2021-05-11T19:25:53.148408Z",
     "shell.execute_reply": "2021-05-11T19:25:53.147966Z"
    },
    "pycharm": {
     "metadata": false,
     "name": "#%% Load spikes\n"
    },
    "slideshow": {
     "slide_type": "slide"
    }
   },
   "outputs": [],
   "source": [
    "Neuron_IDs_huge, spike_times_all_neurons_huge = load_spikes_from_phy('data/')"
   ]
  },
  {
   "cell_type": "markdown",
   "metadata": {
    "pycharm": {
     "metadata": false,
     "name": "#%% md\n"
    },
    "slideshow": {
     "slide_type": "slide"
    }
   },
   "source": [
    "## Inspect variables"
   ]
  },
  {
   "cell_type": "code",
   "execution_count": null,
   "metadata": {
    "execution": {
     "iopub.execute_input": "2021-05-11T19:25:53.154598Z",
     "iopub.status.busy": "2021-05-11T19:25:53.153872Z",
     "iopub.status.idle": "2021-05-11T19:25:53.157061Z",
     "shell.execute_reply": "2021-05-11T19:25:53.157495Z"
    },
    "pycharm": {
     "metadata": false,
     "name": "#%%\n"
    },
    "slideshow": {
     "slide_type": "slide"
    }
   },
   "outputs": [],
   "source": [
    "# Let's inspect the spikes\n",
    "Neuron_IDs_huge"
   ]
  },
  {
   "cell_type": "code",
   "execution_count": null,
   "metadata": {
    "execution": {
     "iopub.execute_input": "2021-05-11T19:25:53.162863Z",
     "iopub.status.busy": "2021-05-11T19:25:53.162259Z",
     "iopub.status.idle": "2021-05-11T19:25:53.168102Z",
     "shell.execute_reply": "2021-05-11T19:25:53.167363Z"
    },
    "pycharm": {
     "name": "#%%\n"
    }
   },
   "outputs": [],
   "source": [
    "spike_times_all_neurons_huge"
   ]
  },
  {
   "cell_type": "markdown",
   "metadata": {
    "pycharm": {
     "name": "#%% md\n"
    }
   },
   "source": [
    "**Questions**\n",
    "* What are the numbers in the two blocks above?"
   ]
  },
  {
   "cell_type": "markdown",
   "metadata": {
    "pycharm": {
     "metadata": false,
     "name": "#%% md\n"
    },
    "slideshow": {
     "slide_type": "fragment"
    }
   },
   "source": [
    "### Exercise 1\n",
    "What are the dimensions of each variable?"
   ]
  },
  {
   "cell_type": "code",
   "execution_count": null,
   "metadata": {
    "execution": {
     "iopub.execute_input": "2021-05-11T19:25:53.173530Z",
     "iopub.status.busy": "2021-05-11T19:25:53.172409Z",
     "iopub.status.idle": "2021-05-11T19:25:53.175039Z",
     "shell.execute_reply": "2021-05-11T19:25:53.175890Z"
    },
    "pycharm": {
     "name": "#%%\n"
    }
   },
   "outputs": [],
   "source": [
    "# TODO for students:\n",
    "# Use the `X.shape` formalism to examine the shapes of each."
   ]
  },
  {
   "cell_type": "markdown",
   "metadata": {
    "pycharm": {
     "name": "#%% md\n"
    }
   },
   "source": [
    "**Questions**\n",
    "Is it possible to combine these two sets of numbers? How?"
   ]
  },
  {
   "cell_type": "code",
   "execution_count": null,
   "metadata": {
    "execution": {
     "iopub.execute_input": "2021-05-11T19:25:53.181554Z",
     "iopub.status.busy": "2021-05-11T19:25:53.180487Z",
     "iopub.status.idle": "2021-05-11T19:25:53.203602Z",
     "shell.execute_reply": "2021-05-11T19:25:53.202770Z"
    },
    "pycharm": {
     "metadata": false,
     "name": "#%%\n"
    },
    "slideshow": {
     "slide_type": "slide"
    }
   },
   "outputs": [],
   "source": [
    "# Limit the number of spikes we're dealing with but keep full variables\n",
    "Neuron_IDs = Neuron_IDs_huge[spike_times_all_neurons_huge < 70]\n",
    "spike_times_all_neurons = spike_times_all_neurons_huge[spike_times_all_neurons_huge < 70]"
   ]
  },
  {
   "cell_type": "markdown",
   "metadata": {
    "pycharm": {
     "metadata": false,
     "name": "#%% md\n"
    },
    "slideshow": {
     "slide_type": "slide"
    }
   },
   "source": [
    "Let's inspect the first ten timestamps from one neuron"
   ]
  },
  {
   "cell_type": "code",
   "execution_count": null,
   "metadata": {
    "execution": {
     "iopub.execute_input": "2021-05-11T19:25:53.210676Z",
     "iopub.status.busy": "2021-05-11T19:25:53.209769Z",
     "iopub.status.idle": "2021-05-11T19:25:53.212985Z",
     "shell.execute_reply": "2021-05-11T19:25:53.213672Z"
    },
    "pycharm": {
     "name": "#%%\n"
    }
   },
   "outputs": [],
   "source": [
    "# TODO for students:\n",
    "# Complete the following code to print out the first ten timestamps from neuron 300\n",
    "id_of_interest = Neuron_IDs[300]\n",
    "spike_times_of_interest = spike_times_all_neurons[Neuron_IDs == id_of_interest]"
   ]
  },
  {
   "cell_type": "markdown",
   "metadata": {},
   "source": [
    "## Visualize neurons' spike times\n",
    "\n",
    "### Exercise 2\n",
    "Inspect the timestamps from one neuron"
   ]
  },
  {
   "cell_type": "code",
   "execution_count": null,
   "metadata": {
    "execution": {
     "iopub.execute_input": "2021-05-11T19:25:53.242208Z",
     "iopub.status.busy": "2021-05-11T19:25:53.238628Z",
     "iopub.status.idle": "2021-05-11T19:25:53.611521Z",
     "shell.execute_reply": "2021-05-11T19:25:53.612206Z"
    },
    "pycharm": {
     "metadata": false,
     "name": "#%%\n"
    },
    "slideshow": {
     "slide_type": "slide"
    }
   },
   "outputs": [],
   "source": [
    "# Plot spiketimes\n",
    "plt.plot(spike_times_of_interest);"
   ]
  },
  {
   "cell_type": "markdown",
   "metadata": {
    "pycharm": {
     "metadata": false,
     "name": "#%% md\n"
    },
    "slideshow": {
     "slide_type": "fragment"
    }
   },
   "source": [
    "**Questions**\n",
    "* What are neurons' identities in this plot?\n",
    "* Why is the curve progressively rising?\n",
    "* What's on the x- and y- axes?\n",
    "\n"
   ]
  },
  {
   "cell_type": "code",
   "execution_count": null,
   "metadata": {
    "execution": {
     "iopub.execute_input": "2021-05-11T19:25:53.655714Z",
     "iopub.status.busy": "2021-05-11T19:25:53.654513Z",
     "iopub.status.idle": "2021-05-11T19:25:53.909041Z",
     "shell.execute_reply": "2021-05-11T19:25:53.908560Z"
    },
    "pycharm": {
     "name": "#%%\n"
    }
   },
   "outputs": [],
   "source": [
    "plt.plot(spike_times_of_interest)\n",
    "plt.title('Timestamps of a neuron')\n",
    "plt.ylabel('Time')\n",
    "plt.xlabel('Number of spikes');"
   ]
  },
  {
   "cell_type": "markdown",
   "metadata": {
    "pycharm": {},
    "slideshow": {
     "slide_type": "fragment"
    }
   },
   "source": [
    " What is a plot like this good for? (Hint: what would the change in firing rate look like?)"
   ]
  },
  {
   "cell_type": "markdown",
   "metadata": {
    "pycharm": {
     "metadata": false,
     "name": "#%% md\n"
    },
    "slideshow": {
     "slide_type": "slide"
    }
   },
   "source": [
    "### Exercise 3\n",
    "Visualize a neuron's spike times using a For loop"
   ]
  },
  {
   "cell_type": "markdown",
   "metadata": {
    "pycharm": {
     "name": "#%% md\n"
    }
   },
   "source": [
    "**Suggestions**\n",
    "* Loop over time stamps of action potentials\n",
    "* At each time stamp\n",
    "   * Make a vertical tick at that value of time on the x axis\n",
    "   * What should the y axis be?"
   ]
  },
  {
   "cell_type": "code",
   "execution_count": null,
   "metadata": {
    "execution": {
     "iopub.execute_input": "2021-05-11T19:25:53.912918Z",
     "iopub.status.busy": "2021-05-11T19:25:53.912409Z",
     "iopub.status.idle": "2021-05-11T19:25:53.916712Z",
     "shell.execute_reply": "2021-05-11T19:25:53.917135Z"
    },
    "pycharm": {
     "name": "#%%\n"
    }
   },
   "outputs": [],
   "source": [
    "## TODO for students:\n",
    "# Uncomment below to get started\n",
    "\n",
    "\n",
    "# Raster of one neuron, by hand\n",
    "# for timestamp in spike_times_of_interest:\n",
    "#     plt.scatter(x=..., y=..., marker='|', color='black')"
   ]
  },
  {
   "cell_type": "markdown",
   "metadata": {
    "cellView": "form",
    "colab_type": "text",
    "execution": {
     "iopub.execute_input": "2021-05-11T19:25:54.012073Z",
     "iopub.status.busy": "2021-05-11T19:25:54.007351Z",
     "iopub.status.idle": "2021-05-11T19:25:55.612584Z",
     "shell.execute_reply": "2021-05-11T19:25:55.613050Z"
    },
    "pycharm": {
     "metadata": false,
     "name": "#%%\n"
    },
    "slideshow": {
     "slide_type": "slide"
    }
   },
   "source": [
    "[*Click for solution*](https://github.com/mmyros/dnu_course/tree/master//tutorials/D2_Spikes/solutions/spikes_tutorial_Solution_5c2ba34c.py)\n",
    "\n",
    "*Example output:*\n",
    "\n",
    "<img alt='Solution hint' align='left' width=558 height=413 src=https://raw.githubusercontent.com/mmyros/dnu_course/master/tutorials/D2_Spikes/static/spikes_tutorial_Solution_5c2ba34c_0.png>\n",
    "\n"
   ]
  },
  {
   "cell_type": "markdown",
   "metadata": {},
   "source": [
    "### Exercise 4\n",
    "Visualize a neuron's spike times without a for loop"
   ]
  },
  {
   "cell_type": "code",
   "execution_count": null,
   "metadata": {
    "execution": {
     "iopub.execute_input": "2021-05-11T19:25:55.617385Z",
     "iopub.status.busy": "2021-05-11T19:25:55.616831Z",
     "iopub.status.idle": "2021-05-11T19:25:55.618993Z",
     "shell.execute_reply": "2021-05-11T19:25:55.619367Z"
    },
    "pycharm": {
     "metadata": false,
     "name": "#%%\n"
    },
    "slideshow": {
     "slide_type": "slide"
    }
   },
   "outputs": [],
   "source": [
    "## TODO for students:\n",
    "# Uncomment below to get started\n",
    "\n",
    "# Whole raster for one neuron, no loop\n",
    "# plt.scatter(x=...,\n",
    "#             y=np.ones(spike_times_of_interest.shape...),\n",
    "#             marker='|', color='black');"
   ]
  },
  {
   "cell_type": "markdown",
   "metadata": {
    "colab_type": "text",
    "execution": {
     "iopub.execute_input": "2021-05-11T19:25:55.645508Z",
     "iopub.status.busy": "2021-05-11T19:25:55.644836Z",
     "iopub.status.idle": "2021-05-11T19:25:55.775690Z",
     "shell.execute_reply": "2021-05-11T19:25:55.775068Z"
    },
    "pycharm": {
     "name": "#%%\n"
    }
   },
   "source": [
    "[*Click for solution*](https://github.com/mmyros/dnu_course/tree/master//tutorials/D2_Spikes/solutions/spikes_tutorial_Solution_88518c98.py)\n",
    "\n",
    "*Example output:*\n",
    "\n",
    "<img alt='Solution hint' align='left' width=558 height=413 src=https://raw.githubusercontent.com/mmyros/dnu_course/master/tutorials/D2_Spikes/static/spikes_tutorial_Solution_88518c98_1.png>\n",
    "\n"
   ]
  },
  {
   "cell_type": "markdown",
   "metadata": {},
   "source": [
    "### Exercise 4"
   ]
  },
  {
   "cell_type": "code",
   "execution_count": null,
   "metadata": {
    "execution": {
     "iopub.execute_input": "2021-05-11T19:25:55.779584Z",
     "iopub.status.busy": "2021-05-11T19:25:55.778912Z",
     "iopub.status.idle": "2021-05-11T19:25:55.781280Z",
     "shell.execute_reply": "2021-05-11T19:25:55.781777Z"
    },
    "pycharm": {
     "metadata": false,
     "name": "#%%\n"
    },
    "slideshow": {
     "slide_type": "slide"
    }
   },
   "outputs": [],
   "source": [
    "## TODO for students:\n",
    "# Uncomment below to get started\n",
    "\n",
    "# For all neurons now\n",
    "# plt.scatter(x=...,\n",
    "#             y=...,\n",
    "#             marker='|', color='black', alpha=.7);"
   ]
  },
  {
   "cell_type": "markdown",
   "metadata": {
    "colab_type": "text",
    "execution": {
     "iopub.execute_input": "2021-05-11T19:25:55.784702Z",
     "iopub.status.busy": "2021-05-11T19:25:55.784075Z",
     "iopub.status.idle": "2021-05-11T19:25:56.229544Z",
     "shell.execute_reply": "2021-05-11T19:25:56.230117Z"
    },
    "pycharm": {
     "name": "#%%\n"
    }
   },
   "source": [
    "[*Click for solution*](https://github.com/mmyros/dnu_course/tree/master//tutorials/D2_Spikes/solutions/spikes_tutorial_Solution_9ecfc96d.py)\n",
    "\n",
    "*Example output:*\n",
    "\n",
    "<img alt='Solution hint' align='left' width=558 height=413 src=https://raw.githubusercontent.com/mmyros/dnu_course/master/tutorials/D2_Spikes/static/spikes_tutorial_Solution_9ecfc96d_1.png>\n",
    "\n"
   ]
  },
  {
   "cell_type": "markdown",
   "metadata": {
    "pycharm": {
     "metadata": false,
     "name": "#%% md\n"
    },
    "slideshow": {
     "slide_type": "slide"
    }
   },
   "source": [
    "## Visualize binned raster of spikes\n",
    "\n",
    "### Exercise 5\n"
   ]
  },
  {
   "cell_type": "code",
   "execution_count": null,
   "metadata": {
    "execution": {
     "iopub.execute_input": "2021-05-11T19:25:56.235342Z",
     "iopub.status.busy": "2021-05-11T19:25:56.234600Z",
     "iopub.status.idle": "2021-05-11T19:25:56.322185Z",
     "shell.execute_reply": "2021-05-11T19:25:56.322786Z"
    },
    "pycharm": {
     "metadata": false,
     "name": "#%%\n"
    },
    "slideshow": {
     "slide_type": "slide"
    }
   },
   "outputs": [],
   "source": [
    "# Bin neurons\n",
    "raster = bin_neurons(spike_times_all_neurons, Neuron_IDs, bin_size=.05)\n",
    "raster"
   ]
  },
  {
   "cell_type": "code",
   "execution_count": null,
   "metadata": {
    "execution": {
     "iopub.execute_input": "2021-05-11T19:25:56.327218Z",
     "iopub.status.busy": "2021-05-11T19:25:56.326602Z",
     "iopub.status.idle": "2021-05-11T19:25:56.329447Z",
     "shell.execute_reply": "2021-05-11T19:25:56.330020Z"
    },
    "pycharm": {
     "name": "#%%\n"
    }
   },
   "outputs": [],
   "source": [
    "## TODO for students:\n",
    "# Uncomment below to get started\n",
    "\n",
    "# raster.plot(x=...,\n",
    "#             y=...,\n",
    "#             robust=True);"
   ]
  },
  {
   "cell_type": "markdown",
   "metadata": {
    "colab_type": "text",
    "execution": {
     "iopub.execute_input": "2021-05-11T19:25:56.335543Z",
     "iopub.status.busy": "2021-05-11T19:25:56.333214Z",
     "iopub.status.idle": "2021-05-11T19:25:57.002092Z",
     "shell.execute_reply": "2021-05-11T19:25:57.003862Z"
    },
    "pycharm": {
     "name": "#%%\n"
    }
   },
   "source": [
    "[*Click for solution*](https://github.com/mmyros/dnu_course/tree/master//tutorials/D2_Spikes/solutions/spikes_tutorial_Solution_ce7ef659.py)\n",
    "\n",
    "*Example output:*\n",
    "\n",
    "<img alt='Solution hint' align='left' width=529 height=413 src=https://raw.githubusercontent.com/mmyros/dnu_course/master/tutorials/D2_Spikes/static/spikes_tutorial_Solution_ce7ef659_1.png>\n",
    "\n"
   ]
  },
  {
   "cell_type": "markdown",
   "metadata": {
    "pycharm": {
     "name": "#%% md\n"
    }
   },
   "source": [
    "### Exercise 6\n",
    "Interactive version including the whole dataset"
   ]
  },
  {
   "cell_type": "code",
   "execution_count": null,
   "metadata": {
    "execution": {
     "iopub.execute_input": "2021-05-11T19:25:57.012522Z",
     "iopub.status.busy": "2021-05-11T19:25:57.010111Z",
     "iopub.status.idle": "2021-05-11T19:25:57.029665Z",
     "shell.execute_reply": "2021-05-11T19:25:57.031416Z"
    },
    "pycharm": {
     "name": "#%%\n"
    }
   },
   "outputs": [],
   "source": [
    "## TODO for students:\n",
    "# Uncomment below to plot interactive full dataset. Zoom in on areas of the raster that catch your eye\n",
    "\n",
    "\n",
    "# import holoviews as hv\n",
    "# import hvplot.xarray # noqa\n",
    "# hv.extension('bokeh')\n",
    "# raster_huge = bin_neurons(spike_times_all_neurons_huge, Neuron_IDs_huge, bin_size=.12)\n",
    "\n",
    "# raster_huge.hvplot(x='Time', y='Neuron_ID', clim=(0,12)).opts(cmap='viridis')"
   ]
  },
  {
   "cell_type": "markdown",
   "metadata": {
    "pycharm": {
     "name": "#%% md\n"
    },
    "slideshow": {
     "slide_type": "slide"
    }
   },
   "source": [
    "### Exercise 7\n",
    "Slice dataset to save interesting times/neurons\n",
    "\n",
    "Note: Your solution will most likely look different from mine. We are just looking for area of the\n",
    "raster with striking features."
   ]
  },
  {
   "cell_type": "code",
   "execution_count": null,
   "metadata": {
    "execution": {
     "iopub.execute_input": "2021-05-11T19:25:57.037097Z",
     "iopub.status.busy": "2021-05-11T19:25:57.035692Z",
     "iopub.status.idle": "2021-05-11T19:25:57.041965Z",
     "shell.execute_reply": "2021-05-11T19:25:57.042754Z"
    },
    "pycharm": {
     "name": "#%%\n"
    }
   },
   "outputs": [],
   "source": [
    "\n",
    "## TODO for students:\n",
    "# Uncomment below to get started\n",
    "\n",
    "# raster.sel(...=slice(..., ...),\n",
    "#            ...=slice(..., ...)\n",
    "#           ).plot(robust=True);"
   ]
  },
  {
   "cell_type": "markdown",
   "metadata": {
    "colab_type": "text",
    "execution": {
     "iopub.execute_input": "2021-05-11T19:25:57.050560Z",
     "iopub.status.busy": "2021-05-11T19:25:57.046958Z",
     "iopub.status.idle": "2021-05-11T19:25:57.508138Z",
     "shell.execute_reply": "2021-05-11T19:25:57.508636Z"
    },
    "pycharm": {
     "name": "#%%\n"
    }
   },
   "source": [
    "[*Click for solution*](https://github.com/mmyros/dnu_course/tree/master//tutorials/D2_Spikes/solutions/spikes_tutorial_Solution_70a7f6ae.py)\n",
    "\n",
    "*Example output:*\n",
    "\n",
    "<img alt='Solution hint' align='left' width=529 height=413 src=https://raw.githubusercontent.com/mmyros/dnu_course/master/tutorials/D2_Spikes/static/spikes_tutorial_Solution_70a7f6ae_1.png>\n",
    "\n"
   ]
  },
  {
   "cell_type": "markdown",
   "metadata": {},
   "source": [
    "## Visualize PETH\n",
    "\n",
    "### Exercise 8\n",
    "\n",
    "This dataset includes some behavior. However, let's imagine we don't know what behavior is happening and when.\n",
    " Can you think of a way to zero in on some features of spikes you found earlier?\n",
    "\n",
    "\n",
    "* Suggested steps:\n",
    "   * Make a function that returns raster 1/4 second before and 1/4 second after a certain event"
   ]
  },
  {
   "cell_type": "code",
   "execution_count": null,
   "metadata": {
    "execution": {
     "iopub.execute_input": "2021-05-11T19:25:57.512423Z",
     "iopub.status.busy": "2021-05-11T19:25:57.511515Z",
     "iopub.status.idle": "2021-05-11T19:26:06.996263Z",
     "shell.execute_reply": "2021-05-11T19:26:06.996764Z"
    },
    "pycharm": {
     "name": "#%%\n"
    }
   },
   "outputs": [],
   "source": [
    "multiunit_activity, event_times = identify_down_states(spike_times_all_neurons_huge)\n",
    "\n",
    "# PETH based on homemade code\n",
    "raster = bin_neurons(spike_times_all_neurons_huge, Neuron_IDs_huge, bin_size=.01)\n",
    "# Select one neuron\n",
    "raster241 = raster.sel(Neuron_ID=241)"
   ]
  },
  {
   "cell_type": "markdown",
   "metadata": {},
   "source": [
    "**Suggestions**\n",
    "   1. Complete the function `half_a_second()`\n",
    "      * It should select a slice of 1/4 second before an event and 1/4 second after\n",
    "   2. Use `half_a_second()` to create a perievent time histogram (PETH)\n",
    "\n",
    "**Questions**\n",
    "   * What do you think the events were? Take a guess"
   ]
  },
  {
   "cell_type": "code",
   "execution_count": null,
   "metadata": {
    "execution": {
     "iopub.execute_input": "2021-05-11T19:26:07.001735Z",
     "iopub.status.busy": "2021-05-11T19:26:07.000809Z",
     "iopub.status.idle": "2021-05-11T19:26:07.003799Z",
     "shell.execute_reply": "2021-05-11T19:26:07.004402Z"
    },
    "pycharm": {
     "name": "#%%\n"
    }
   },
   "outputs": [],
   "source": [
    "## TODO for students:\n",
    "# Uncomment below to get started\n",
    "# def half_a_second(raster, timestamp):\n",
    "#     return raster.sel(Time=slice(timestamp - ...,\n",
    "#                                  timestamp + ...)).values[:100]\n",
    "#\n",
    "#\n",
    "# psth = [half_a_second(raster241, ...) for ... in event_times]\n",
    "# psth = np.vstack(psth)\n",
    "#\n",
    "# plt.pcolormesh(psth);"
   ]
  },
  {
   "cell_type": "markdown",
   "metadata": {
    "colab_type": "text",
    "execution": {
     "iopub.execute_input": "2021-05-11T19:26:07.011773Z",
     "iopub.status.busy": "2021-05-11T19:26:07.010309Z",
     "iopub.status.idle": "2021-05-11T19:26:07.423254Z",
     "shell.execute_reply": "2021-05-11T19:26:07.423586Z"
    },
    "pycharm": {
     "name": "#%%\n"
    }
   },
   "source": [
    "[*Click for solution*](https://github.com/mmyros/dnu_course/tree/master//tutorials/D2_Spikes/solutions/spikes_tutorial_Solution_c6d03403.py)\n",
    "\n",
    "*Example output:*\n",
    "\n",
    "<img alt='Solution hint' align='left' width=558 height=413 src=https://raw.githubusercontent.com/mmyros/dnu_course/master/tutorials/D2_Spikes/static/spikes_tutorial_Solution_c6d03403_1.png>\n",
    "\n"
   ]
  },
  {
   "cell_type": "markdown",
   "metadata": {},
   "source": [
    "### Exercise 8\n",
    "PETH for all neurons"
   ]
  },
  {
   "cell_type": "code",
   "execution_count": null,
   "metadata": {
    "execution": {
     "iopub.execute_input": "2021-05-11T19:26:07.426922Z",
     "iopub.status.busy": "2021-05-11T19:26:07.426215Z",
     "iopub.status.idle": "2021-05-11T19:26:10.541196Z",
     "shell.execute_reply": "2021-05-11T19:26:10.540393Z"
    },
    "pycharm": {
     "name": "#%% \n"
    }
   },
   "outputs": [],
   "source": [
    "## TODO for students:\n",
    "# Uncomment below to get started\n",
    "\n",
    "# make a peth object using the provided Spykes toolbox:\n",
    "events = PETH.events(event_times)\n",
    "\n",
    "# make a list of spiketimes that our toolbox can understand:\n",
    "spikes = PETH.spykes_get_times(spike_times_all_neurons_huge,\n",
    "                               Neuron_IDs_huge)\n",
    "# Get mean PSTH for all neurons\n",
    "# raster_object, all_psth = PETH.spykes_summary(spikes=...,\n",
    "#                                               events=...,\n",
    "#                                               window=[-300, 400],\n",
    "#                                               bin_size=5,\n",
    "#                                               plotose=True)"
   ]
  },
  {
   "cell_type": "markdown",
   "metadata": {
    "colab_type": "text",
    "execution": {
     "iopub.execute_input": "2021-05-11T19:26:10.547488Z",
     "iopub.status.busy": "2021-05-11T19:26:10.546405Z",
     "iopub.status.idle": "2021-05-11T19:26:17.060524Z",
     "shell.execute_reply": "2021-05-11T19:26:17.060856Z"
    },
    "pycharm": {
     "name": "#%%\n"
    }
   },
   "source": [
    "[*Click for solution*](https://github.com/mmyros/dnu_course/tree/master//tutorials/D2_Spikes/solutions/spikes_tutorial_Solution_a3d9926c.py)\n",
    "\n",
    "*Example output:*\n",
    "\n",
    "<img alt='Solution hint' align='left' width=675 height=702 src=https://raw.githubusercontent.com/mmyros/dnu_course/master/tutorials/D2_Spikes/static/spikes_tutorial_Solution_a3d9926c_0.png>\n",
    "\n",
    "<img alt='Solution hint' align='left' width=558 height=413 src=https://raw.githubusercontent.com/mmyros/dnu_course/master/tutorials/D2_Spikes/static/spikes_tutorial_Solution_a3d9926c_1.png>\n",
    "\n"
   ]
  },
  {
   "cell_type": "markdown",
   "metadata": {
    "pycharm": {
     "name": "#%% md\n"
    }
   },
   "source": [
    "**Questions**\n",
    "* In your own words, what does the code above do?\n",
    "* What are the axes in the resulting plots?\n",
    "* Why does the curve rise up and down repeatedly?"
   ]
  },
  {
   "cell_type": "code",
   "execution_count": null,
   "metadata": {
    "execution": {
     "iopub.execute_input": "2021-05-11T19:26:17.064308Z",
     "iopub.status.busy": "2021-05-11T19:26:17.063702Z",
     "iopub.status.idle": "2021-05-11T19:26:17.066232Z",
     "shell.execute_reply": "2021-05-11T19:26:17.066555Z"
    },
    "pycharm": {
     "name": "#%%\n"
    }
   },
   "outputs": [],
   "source": [
    "## TODO for students:\n",
    "# Uncomment below to get started\n",
    "\n",
    "# Make a 3d plot with mean PSTH for all neurons\n",
    "# raster_object.plot_heat_map(all_psth, sortby='rate', sortorder='ascend', normalize=None, colors=['viridis'])  # or latency"
   ]
  },
  {
   "cell_type": "markdown",
   "metadata": {
    "colab_type": "text",
    "execution": {
     "iopub.execute_input": "2021-05-11T19:26:17.069246Z",
     "iopub.status.busy": "2021-05-11T19:26:17.068731Z",
     "iopub.status.idle": "2021-05-11T19:26:19.421686Z",
     "shell.execute_reply": "2021-05-11T19:26:19.422055Z"
    },
    "pycharm": {
     "name": "#%%\n"
    }
   },
   "source": [
    "[*Click for solution*](https://github.com/mmyros/dnu_course/tree/master//tutorials/D2_Spikes/solutions/spikes_tutorial_Solution_7ba1c302.py)\n",
    "\n",
    "*Example output:*\n",
    "\n",
    "<img alt='Solution hint' align='left' width=538 height=413 src=https://raw.githubusercontent.com/mmyros/dnu_course/master/tutorials/D2_Spikes/static/spikes_tutorial_Solution_7ba1c302_0.png>\n",
    "\n"
   ]
  },
  {
   "cell_type": "markdown",
   "metadata": {
    "pycharm": {
     "name": "#%% md\n"
    }
   },
   "source": [
    "**Questions**\n",
    "* How is this plot different from the previous two?\n",
    "* How is this achieved? Take a guess - what would you have done?\n",
    "\n",
    "**Advanced questions**\n",
    "* How do you think the gray curve will look if you invert the detection of events we explained in Exercise 8?\n",
    "* Test your hypothesis by setting `event_times = np.where(multiunit_activity > 90)[0]` and replotting"
   ]
  }
 ],
 "metadata": {
  "celltoolbar": "Slideshow",
  "colab": {
   "collapsed_sections": [],
   "include_colab_link": true,
   "name": "spikes_tutorial",
   "toc_visible": true
  },
  "jupytext": {
   "cell_metadata_filter": "title,-all",
   "main_language": "python",
   "notebook_metadata_filter": "-all"
  },
  "kernel": {
   "display_name": "Python 3",
   "language": "python",
   "name": "python3"
  },
  "kernelspec": {
   "display_name": "Python 3",
   "language": "python",
   "name": "python3"
  },
  "language_info": {
   "codemirror_mode": {
    "name": "ipython",
    "version": 3
   },
   "file_extension": ".py",
   "mimetype": "text/x-python",
   "name": "python",
   "nbconvert_exporter": "python",
   "pygments_lexer": "ipython3",
   "version": "3.7.3"
  },
  "rise": {
   "autolaunch": true,
   "scroll": true,
   "transition": "None"
  }
 },
 "nbformat": 4,
 "nbformat_minor": 2
}
