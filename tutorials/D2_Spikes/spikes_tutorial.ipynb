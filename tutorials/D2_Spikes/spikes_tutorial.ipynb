{
 "cells": [
  {
   "cell_type": "markdown",
   "metadata": {
    "slideshow": {
     "slide_type": "slide"
    }
   },
   "source": [
    "# Dynamical Neuroscience in Ukraine Academy: Day 6\n",
    "# Real data with Python\n",
    "Twitter: @mmyros\n",
    "\n",
    "__Content creator:__ Maxym Myroshnychenko \n",
    "\n",
    "__Content reviewer:__ Anneke Duin\n",
    "\n",
    "__Data ownership:__ UCL Cortexlab data.cortexlab.net"
   ]
  },
  {
   "cell_type": "code",
   "execution_count": null,
   "metadata": {
    "cellView": "form",
    "execution": {
     "iopub.execute_input": "2021-05-17T20:02:07.381528Z",
     "iopub.status.busy": "2021-05-17T20:02:07.346000Z",
     "iopub.status.idle": "2021-05-17T20:02:40.647859Z",
     "shell.execute_reply": "2021-05-17T20:02:40.650013Z"
    },
    "pycharm": {
     "name": "#%%\n"
    }
   },
   "outputs": [],
   "source": [
    "# @title Helper functions\n",
    "# Install packages\n",
    "# Warning:the following two commands will not work on windows. use pip install but without exclamation mark >/dev/null\n",
    "!pip install -q -U hvplot bokeh\n",
    "!pip install -q matplotlib pandas xarray numpy tqdm spykes\n",
    "import os\n",
    "\n",
    "import pandas as pd\n",
    "import xarray as xr\n",
    "import requests\n",
    "from pathlib import Path\n",
    "import zipfile\n",
    "\n",
    "\n",
    "def download_data():\n",
    "    print('Downloading data... Please wait. Should take less than 1 min')\n",
    "    # Get link:\n",
    "    r = requests.get('http://data.cortexlab.net/singlePhase3/data/dataset.zip')\n",
    "    path = Path('data/dataset.zip')\n",
    "    path.parent.mkdir(exist_ok=True)\n",
    "    if not path.exists():\n",
    "        with open(path, \"wb\") as fid:\n",
    "            # Write out content of link:\n",
    "            fid.write(r.content)\n",
    "    # Unzip\n",
    "    with zipfile.ZipFile(path, 'r') as zip_ref:\n",
    "        zip_ref.extractall(path.parent)\n",
    "\n",
    "\n",
    "def load_spikes_from_phy(path_to_data='/Users/myroshnychenkm2/Downloads/dataset/', sampling_frequency=30000):\n",
    "    \"\"\"\n",
    "    Get spikes from a kilosort/phy result folder\n",
    "    :param path_to_data:\n",
    "    :param sampling_frequency:\n",
    "    :return:\n",
    "    :id: neuron id, 1xN\n",
    "    :ts: corresponding spiketime, 1xN\n",
    "    \"\"\"\n",
    "    groupfname = os.path.join(path_to_data, 'cluster_groups.csv')\n",
    "    groups = pd.read_csv(groupfname, delimiter='\\t')\n",
    "\n",
    "    # load spike times and cluster IDs\n",
    "    with open(path_to_data + 'spike_clusters.npy', 'rb') as f:\n",
    "        ids = np.load(f).flatten()\n",
    "    with open(path_to_data + 'spike_times.npy', 'rb') as f:\n",
    "        ts = np.load(f).flatten()\n",
    "\n",
    "    # Create the list of our \"good\" labeled units\n",
    "    ids_to_take = groups[(groups.group == 'good')].cluster_id\n",
    "    # Find which spikes beloing to our \"good\" groups\n",
    "    spikes_to_take = []\n",
    "    for i in tqdm(ids_to_take, desc='Selecting only good spikes'):\n",
    "        spikes_to_take.extend((ids == i).nonzero()[0])\n",
    "    # only take spikes that are in our list\n",
    "    ids = np.array(ids[spikes_to_take])\n",
    "    ts = np.array(ts[spikes_to_take]).astype(float) / sampling_frequency\n",
    "\n",
    "    return ids, ts\n",
    "\n",
    "\n",
    "def bin_neuron(spike_times, bin_size=.100, window=None):\n",
    "    \"\"\"\n",
    "    Make binned raster for a single neuron\n",
    "    :param spike_times:\n",
    "    :param bin_size: in sec\n",
    "    :param window:\n",
    "    :return:\n",
    "    \"\"\"\n",
    "    if window is None:\n",
    "        window = [0, spike_times.max()]\n",
    "    bins = np.arange(window[0], window[1] + bin_size, bin_size)\n",
    "    return np.histogram(spike_times, bins)[0]\n",
    "\n",
    "\n",
    "def bin_neurons(spike_times, neuron_ids, bin_size=None, window=None, plotose=False):\n",
    "    \"\"\"\n",
    "    Make binned raster for many neurons\n",
    "    :param spike_times:\n",
    "    :param neuron_ids:\n",
    "    :param bin_size: in sec\n",
    "    :param window:\n",
    "    :param plotose:\n",
    "    :return:\n",
    "    \"\"\"\n",
    "    if window is None:\n",
    "        window = [0, spike_times.max()]\n",
    "    # the following uses an list comprehension for loop (look it up):\n",
    "    spike_counts = [bin_neuron(spike_times[neuron_ids == neuron_id], bin_size, window)\n",
    "                    for neuron_id in tqdm(np.unique(neuron_ids))]\n",
    "    spike_counts = np.vstack(spike_counts)\n",
    "    raster = xr.DataArray(spike_counts, coords=dict(Time=np.arange(window[0], window[1] + bin_size, bin_size)[:-1],\n",
    "                                                    Neuron_ID=range(len(np.unique(neuron_ids)))),\n",
    "                          dims=['Neuron_ID', 'Time'])\n",
    "    if plotose:\n",
    "        raster.plot(robust=True)\n",
    "    return raster\n",
    "\n",
    "\n",
    "def identify_events(ts, bin_size=.05, number_of_neurons_treshold=20, minimum_time_between_states=0.15):\n",
    "    \"\"\"\n",
    "    Find spontaneous periods of quiecence in spiketimes\n",
    "    :param ts:\n",
    "    :param bin_size:\n",
    "    :param number_of_neurons_treshold:\n",
    "    :param minimum_time_between_states:\n",
    "    :return:\n",
    "    \"\"\"\n",
    "    lfp = bin_neuron(np.sort(ts), bin_size=bin_size)\n",
    "    down_states = np.where(lfp < number_of_neurons_treshold)[0]\n",
    "    down_states_lengths = np.diff(down_states)\n",
    "    print(f'Eliminating {down_states[1:][down_states_lengths < .15 / bin_size].shape} that are too short')\n",
    "    down_states = down_states[1:][down_states_lengths > minimum_time_between_states / bin_size]\n",
    "    print(f'Ended up with {down_states.shape} events')\n",
    "    # convert into seconds:\n",
    "    down_states = down_states * bin_size\n",
    "    down_states -= .03\n",
    "    print(down_states[(down_states > 63) & (down_states < 68)])  # compare with raster\n",
    "    return lfp, down_states\n",
    "\n",
    "\n",
    "class PETH:\n",
    "    \"\"\"\n",
    "    A collection of functions dealing with peristimulus time histogram\n",
    "    \"\"\"\n",
    "\n",
    "    @staticmethod\n",
    "    def events(trial_starts):\n",
    "        \"\"\"\n",
    "        Simple wrapper creating a dataframe with times we want to lock onto\n",
    "        :param trial_starts: List of times of interest (trials)\n",
    "        :return: spykes object\n",
    "        \"\"\"\n",
    "        return pd.DataFrame({'trialStart': trial_starts})\n",
    "\n",
    "    @staticmethod\n",
    "    def spykes_get_times(s_ts, s_id, debug=False):\n",
    "        \"\"\"\n",
    "        Use spykes library\n",
    "        :param s_ts:\n",
    "        :param s_id:\n",
    "        :param debug:\n",
    "        :return:\n",
    "        \"\"\"\n",
    "\n",
    "        def print_spyke(spykess):\n",
    "            [print(len(spykess[i].spiketimes)) for i in range(len(spykess))]\n",
    "\n",
    "        from spykes.plot import neurovis\n",
    "        s_id = s_id.astype('int')\n",
    "        neuron_list = list()\n",
    "        for iu in np.unique(s_id):\n",
    "            spike_times = s_ts[s_id == iu]\n",
    "            if len(spike_times) < 2:\n",
    "                if debug:\n",
    "                    print('Too few spiketimes in this unit: ' + str(spike_times))\n",
    "                else:\n",
    "                    pass  # neuron_list.append(NeuroVis([],'ram'+str(iu)))\n",
    "            else:\n",
    "                neuron = neurovis.NeuroVis(spike_times, name='ram' + str(iu))\n",
    "                neuron_list.append(neuron)\n",
    "\n",
    "        if debug:\n",
    "            print_spyke(neuron_list)\n",
    "        return neuron_list\n",
    "\n",
    "    @staticmethod\n",
    "    def spykes_summary(spikes, events, event='trialStart', window=[-100, 100], bin_size=10, fr_thr=.1, plotose=True):\n",
    "        \"\"\"\n",
    "\n",
    "        :param spikes:\n",
    "        :param spykes_df:\n",
    "        :param event:\n",
    "        :param window:\n",
    "        :param bin_size:\n",
    "        :param fr_thr:\n",
    "        :param plotose:\n",
    "        :return:\n",
    "        \"\"\"\n",
    "        import spykes\n",
    "        assert window[1] - window[0] > 0, 'Window size must be greater than zero!'\n",
    "        # filter firing rate\n",
    "        spikes = [i for i in spikes if i.firingrate > fr_thr]\n",
    "        pop = spykes.plot.popvis.PopVis(spikes)\n",
    "        # calculate psth\n",
    "        mean_psth = pop.get_all_psth(event=event, df=events, window=window, binsize=bin_size, plot=False)\n",
    "        assert mean_psth['data'][0].size > 0, 'Empty group PSTH!'\n",
    "        if plotose:\n",
    "            # % plot heatmap of average psth\n",
    "            _ = plt.figure(figsize=(10, 10))\n",
    "            #        fig.subplots_adjust(hspace=.3)\n",
    "            # set_trace()\n",
    "            pop.plot_heat_map(mean_psth, sortby=None, sortorder='ascend', normalize=None,\n",
    "                              colors=['viridis'])  # or latency\n",
    "\n",
    "            # %% Population PSTH\n",
    "            plt.figure()\n",
    "            pop.plot_population_psth(all_psth=mean_psth, event_name='Event',\n",
    "                                     colors=([.5, .5, .5], [0, .6, 0]))\n",
    "\n",
    "        return pop, mean_psth\n",
    "\n",
    "\n",
    "download_data()"
   ]
  },
  {
   "cell_type": "code",
   "execution_count": null,
   "metadata": {
    "execution": {
     "iopub.execute_input": "2021-05-17T20:02:40.670110Z",
     "iopub.status.busy": "2021-05-17T20:02:40.668779Z",
     "iopub.status.idle": "2021-05-17T20:02:42.191374Z",
     "shell.execute_reply": "2021-05-17T20:02:42.190894Z"
    },
    "pycharm": {
     "name": "#%%\n"
    },
    "slideshow": {
     "slide_type": "slide"
    }
   },
   "outputs": [],
   "source": [
    "# Import basic libraries\n",
    "import matplotlib.pylab as plt\n",
    "import numpy as np\n",
    "from tqdm import tqdm"
   ]
  },
  {
   "cell_type": "code",
   "execution_count": null,
   "metadata": {
    "cellView": "form",
    "execution": {
     "iopub.execute_input": "2021-05-17T20:02:42.202522Z",
     "iopub.status.busy": "2021-05-17T20:02:42.201943Z",
     "iopub.status.idle": "2021-05-17T20:02:42.380554Z",
     "shell.execute_reply": "2021-05-17T20:02:42.378234Z"
    },
    "pycharm": {
     "name": "#%%\n"
    }
   },
   "outputs": [],
   "source": [
    "# @title Figure settings\n",
    "\n",
    "%config InlineBackend.figure_format = 'retina'\n",
    "\n",
    "plt.style.use(\"https://raw.githubusercontent.com/NeuromatchAcademy/course-content/master/nma.mplstyle\")"
   ]
  },
  {
   "cell_type": "code",
   "execution_count": null,
   "metadata": {
    "execution": {
     "iopub.execute_input": "2021-05-17T20:02:42.423313Z",
     "iopub.status.busy": "2021-05-17T20:02:42.421054Z",
     "iopub.status.idle": "2021-05-17T20:02:49.150520Z",
     "shell.execute_reply": "2021-05-17T20:02:49.151024Z"
    },
    "pycharm": {
     "metadata": false,
     "name": "#%% Load spikes\n"
    },
    "slideshow": {
     "slide_type": "slide"
    }
   },
   "outputs": [],
   "source": [
    "neuron_ids_huge, spike_times_all_neurons_huge = load_spikes_from_phy('data/')"
   ]
  },
  {
   "cell_type": "markdown",
   "metadata": {
    "pycharm": {
     "metadata": false,
     "name": "#%% md\n"
    },
    "slideshow": {
     "slide_type": "slide"
    }
   },
   "source": [
    "## Inspect variables"
   ]
  },
  {
   "cell_type": "code",
   "execution_count": null,
   "metadata": {
    "execution": {
     "iopub.execute_input": "2021-05-17T20:02:49.157223Z",
     "iopub.status.busy": "2021-05-17T20:02:49.156688Z",
     "iopub.status.idle": "2021-05-17T20:02:49.160307Z",
     "shell.execute_reply": "2021-05-17T20:02:49.160712Z"
    },
    "pycharm": {
     "metadata": false,
     "name": "#%%\n"
    },
    "slideshow": {
     "slide_type": "slide"
    }
   },
   "outputs": [],
   "source": [
    "# Let's inspect the spikes\n",
    "neuron_ids_huge"
   ]
  },
  {
   "cell_type": "code",
   "execution_count": null,
   "metadata": {
    "execution": {
     "iopub.execute_input": "2021-05-17T20:02:49.167757Z",
     "iopub.status.busy": "2021-05-17T20:02:49.167089Z",
     "iopub.status.idle": "2021-05-17T20:02:49.171427Z",
     "shell.execute_reply": "2021-05-17T20:02:49.171008Z"
    },
    "pycharm": {
     "name": "#%%\n"
    }
   },
   "outputs": [],
   "source": [
    "spike_times_all_neurons_huge"
   ]
  },
  {
   "cell_type": "markdown",
   "metadata": {
    "pycharm": {
     "name": "#%% md\n"
    }
   },
   "source": [
    "**Questions**\n",
    "* What are the numbers in the two blocks above?"
   ]
  },
  {
   "cell_type": "markdown",
   "metadata": {
    "pycharm": {
     "metadata": false,
     "name": "#%% md\n"
    },
    "slideshow": {
     "slide_type": "fragment"
    }
   },
   "source": [
    "### Exercise 1\n",
    "What are the dimensions of each variable?"
   ]
  },
  {
   "cell_type": "code",
   "execution_count": null,
   "metadata": {
    "execution": {
     "iopub.execute_input": "2021-05-17T20:02:49.174535Z",
     "iopub.status.busy": "2021-05-17T20:02:49.174046Z",
     "iopub.status.idle": "2021-05-17T20:02:49.177047Z",
     "shell.execute_reply": "2021-05-17T20:02:49.177416Z"
    },
    "pycharm": {
     "name": "#%%\n"
    }
   },
   "outputs": [],
   "source": [
    "# TODO for students:\n",
    "# Use the `X.shape` formalism to examine the shapes of each."
   ]
  },
  {
   "cell_type": "markdown",
   "metadata": {
    "pycharm": {
     "name": "#%% md\n"
    }
   },
   "source": [
    "**Questions**\n",
    "\n",
    "Is it possible to combine these two sets of numbers? How?"
   ]
  },
  {
   "cell_type": "code",
   "execution_count": null,
   "metadata": {
    "execution": {
     "iopub.execute_input": "2021-05-17T20:02:49.181645Z",
     "iopub.status.busy": "2021-05-17T20:02:49.181060Z",
     "iopub.status.idle": "2021-05-17T20:02:49.201640Z",
     "shell.execute_reply": "2021-05-17T20:02:49.202070Z"
    },
    "pycharm": {
     "metadata": false,
     "name": "#%%\n"
    },
    "slideshow": {
     "slide_type": "slide"
    }
   },
   "outputs": [],
   "source": [
    "# Limit the number of spikes we're dealing with but keep full variables\n",
    "neuron_ids = neuron_ids_huge[spike_times_all_neurons_huge < 70]\n",
    "spike_times_all_neurons = spike_times_all_neurons_huge[spike_times_all_neurons_huge < 70]"
   ]
  },
  {
   "cell_type": "markdown",
   "metadata": {
    "pycharm": {
     "metadata": false,
     "name": "#%% md\n"
    },
    "slideshow": {
     "slide_type": "slide"
    }
   },
   "source": [
    "Let's inspect the first ten timestamps from one neuron"
   ]
  },
  {
   "cell_type": "code",
   "execution_count": null,
   "metadata": {
    "execution": {
     "iopub.execute_input": "2021-05-17T20:02:49.206341Z",
     "iopub.status.busy": "2021-05-17T20:02:49.205691Z",
     "iopub.status.idle": "2021-05-17T20:02:49.209349Z",
     "shell.execute_reply": "2021-05-17T20:02:49.209722Z"
    },
    "pycharm": {
     "name": "#%%\n"
    }
   },
   "outputs": [],
   "source": [
    "# TODO for students:\n",
    "# Complete the following code to print out the first ten timestamps from neuron 300\n",
    "id_of_interest = neuron_ids[300]\n",
    "spike_times_of_interest = spike_times_all_neurons[neuron_ids == id_of_interest]"
   ]
  },
  {
   "cell_type": "markdown",
   "metadata": {},
   "source": [
    "## Visualize neurons' spike times\n",
    "\n",
    "### Exercise 2\n",
    "Inspect the timestamps from one neuron"
   ]
  },
  {
   "cell_type": "code",
   "execution_count": null,
   "metadata": {
    "execution": {
     "iopub.execute_input": "2021-05-17T20:02:49.269804Z",
     "iopub.status.busy": "2021-05-17T20:02:49.232013Z",
     "iopub.status.idle": "2021-05-17T20:02:49.589077Z",
     "shell.execute_reply": "2021-05-17T20:02:49.589428Z"
    },
    "pycharm": {
     "metadata": false,
     "name": "#%%\n"
    },
    "slideshow": {
     "slide_type": "slide"
    }
   },
   "outputs": [],
   "source": [
    "# Plot spiketimes\n",
    "plt.plot(spike_times_of_interest);"
   ]
  },
  {
   "cell_type": "markdown",
   "metadata": {
    "pycharm": {
     "metadata": false,
     "name": "#%% md\n"
    },
    "slideshow": {
     "slide_type": "fragment"
    }
   },
   "source": [
    "**Questions**\n",
    "1. What are neurons' identities in this plot?\n",
    "2. Why is the curve progressively rising?\n",
    "3. What's on the x- and y- axes?\n",
    "\n"
   ]
  },
  {
   "cell_type": "code",
   "execution_count": null,
   "metadata": {
    "execution": {
     "iopub.execute_input": "2021-05-17T20:02:49.605200Z",
     "iopub.status.busy": "2021-05-17T20:02:49.604695Z",
     "iopub.status.idle": "2021-05-17T20:02:49.763521Z",
     "shell.execute_reply": "2021-05-17T20:02:49.764037Z"
    },
    "pycharm": {
     "name": "#%%\n"
    }
   },
   "outputs": [],
   "source": [
    "plt.plot(spike_times_of_interest)\n",
    "plt.title('Timestamps of a neuron')\n",
    "plt.ylabel('Time')\n",
    "plt.xlabel('Number of spikes');"
   ]
  },
  {
   "cell_type": "markdown",
   "metadata": {
    "slideshow": {
     "slide_type": "fragment"
    }
   },
   "source": [
    " What is a plot like this good for? (Hint: what would the change in firing rate look like?)"
   ]
  },
  {
   "cell_type": "markdown",
   "metadata": {
    "pycharm": {
     "metadata": false,
     "name": "#%% md\n"
    },
    "slideshow": {
     "slide_type": "slide"
    }
   },
   "source": [
    "### Exercise 3\n",
    "Visualize a neuron's spike times using a For loop"
   ]
  },
  {
   "cell_type": "markdown",
   "metadata": {
    "pycharm": {
     "name": "#%% md\n"
    }
   },
   "source": [
    "**Suggestions**\n",
    "* Loop over time stamps of action potentials\n",
    "* At each time stamp\n",
    "   * Make a vertical tick at that value of time on the x axis\n",
    "   * What should the y axis be?"
   ]
  },
  {
   "cell_type": "code",
   "execution_count": null,
   "metadata": {
    "execution": {
     "iopub.execute_input": "2021-05-17T20:02:49.767845Z",
     "iopub.status.busy": "2021-05-17T20:02:49.767231Z",
     "iopub.status.idle": "2021-05-17T20:02:49.770143Z",
     "shell.execute_reply": "2021-05-17T20:02:49.769623Z"
    },
    "pycharm": {
     "name": "#%%\n"
    }
   },
   "outputs": [],
   "source": [
    "## TODO for students:\n",
    "# Uncomment below to get started\n",
    "\n",
    "\n",
    "# Raster of one neuron, by hand\n",
    "# for timestamp in spike_times_of_interest:\n",
    "#     plt.scatter(x=..., y=..., marker='|', color='black')"
   ]
  },
  {
   "cell_type": "code",
   "execution_count": null,
   "metadata": {
    "cellView": "form",
    "execution": {
     "iopub.execute_input": "2021-05-17T20:02:49.865851Z",
     "iopub.status.busy": "2021-05-17T20:02:49.861579Z",
     "iopub.status.idle": "2021-05-17T20:02:51.933589Z",
     "shell.execute_reply": "2021-05-17T20:02:51.933977Z"
    },
    "pycharm": {
     "metadata": false,
     "name": "#%%\n"
    },
    "slideshow": {
     "slide_type": "slide"
    }
   },
   "outputs": [],
   "source": [
    "# to_remove solution\n",
    "\n",
    "# Raster of one neuron, by hand\n",
    "for timestamp in spike_times_of_interest:\n",
    "    plt.scatter(x=timestamp, y=1, marker='|', color='black')"
   ]
  },
  {
   "cell_type": "markdown",
   "metadata": {},
   "source": [
    "### Exercise 4\n",
    "Visualize a neuron's spike times without a for loop"
   ]
  },
  {
   "cell_type": "code",
   "execution_count": null,
   "metadata": {
    "execution": {
     "iopub.execute_input": "2021-05-17T20:02:51.937740Z",
     "iopub.status.busy": "2021-05-17T20:02:51.937253Z",
     "iopub.status.idle": "2021-05-17T20:02:51.939647Z",
     "shell.execute_reply": "2021-05-17T20:02:51.940018Z"
    },
    "pycharm": {
     "metadata": false,
     "name": "#%%\n"
    },
    "slideshow": {
     "slide_type": "slide"
    }
   },
   "outputs": [],
   "source": [
    "## TODO for students:\n",
    "# Uncomment below to get started\n",
    "\n",
    "# Whole raster for one neuron, no loop\n",
    "# plt.scatter(x=...,\n",
    "#             y=np.ones(spike_times_of_interest.shape...),\n",
    "#             marker='|', color='black');"
   ]
  },
  {
   "cell_type": "code",
   "execution_count": null,
   "metadata": {
    "execution": {
     "iopub.execute_input": "2021-05-17T20:02:51.963036Z",
     "iopub.status.busy": "2021-05-17T20:02:51.962493Z",
     "iopub.status.idle": "2021-05-17T20:02:52.085686Z",
     "shell.execute_reply": "2021-05-17T20:02:52.086151Z"
    },
    "pycharm": {
     "name": "#%%\n"
    }
   },
   "outputs": [],
   "source": [
    "# to_remove solution\n",
    "# Whole raster for one neuron, no loop\n",
    "plt.scatter(x=spike_times_of_interest,\n",
    "            y=np.ones(spike_times_of_interest.shape[0]),\n",
    "            marker='|', color='black');"
   ]
  },
  {
   "cell_type": "markdown",
   "metadata": {},
   "source": [
    "### Exercise 4"
   ]
  },
  {
   "cell_type": "code",
   "execution_count": null,
   "metadata": {
    "execution": {
     "iopub.execute_input": "2021-05-17T20:02:52.089703Z",
     "iopub.status.busy": "2021-05-17T20:02:52.089242Z",
     "iopub.status.idle": "2021-05-17T20:02:52.091980Z",
     "shell.execute_reply": "2021-05-17T20:02:52.091526Z"
    },
    "pycharm": {
     "metadata": false,
     "name": "#%%\n"
    },
    "slideshow": {
     "slide_type": "slide"
    }
   },
   "outputs": [],
   "source": [
    "## TODO for students:\n",
    "# Uncomment below to get started\n",
    "\n",
    "# For all neurons now\n",
    "# plt.scatter(x=...,\n",
    "#             y=...,\n",
    "#             marker='|', color='black', alpha=.7);"
   ]
  },
  {
   "cell_type": "code",
   "execution_count": null,
   "metadata": {
    "execution": {
     "iopub.execute_input": "2021-05-17T20:02:52.115395Z",
     "iopub.status.busy": "2021-05-17T20:02:52.095562Z",
     "iopub.status.idle": "2021-05-17T20:02:52.457114Z",
     "shell.execute_reply": "2021-05-17T20:02:52.457506Z"
    },
    "pycharm": {
     "name": "#%%\n"
    }
   },
   "outputs": [],
   "source": [
    "# to_remove solution\n",
    "# For all neurons now\n",
    "plt.scatter(x=spike_times_all_neurons,\n",
    "            y=neuron_ids,\n",
    "            marker='|', color='black', alpha=.7);"
   ]
  },
  {
   "cell_type": "markdown",
   "metadata": {
    "pycharm": {
     "metadata": false,
     "name": "#%% md\n"
    },
    "slideshow": {
     "slide_type": "slide"
    }
   },
   "source": [
    "## Visualize binned raster of spikes\n",
    "\n",
    "### Exercise 5\n",
    "In this exercise, we will plot spikes using a histogram with 2 dimensions, time and neurons.\n",
    "In other words, we will count how many times each neuron spiked in each time period, also known as bin.\n",
    "Let's start by setting the bin to 5 milliseconds.\n",
    "\n",
    "We will call such a histogram a _raster_"
   ]
  },
  {
   "cell_type": "code",
   "execution_count": null,
   "metadata": {
    "execution": {
     "iopub.execute_input": "2021-05-17T20:02:52.461822Z",
     "iopub.status.busy": "2021-05-17T20:02:52.461332Z",
     "iopub.status.idle": "2021-05-17T20:02:52.531916Z",
     "shell.execute_reply": "2021-05-17T20:02:52.531503Z"
    },
    "pycharm": {
     "metadata": false,
     "name": "#%%\n"
    },
    "slideshow": {
     "slide_type": "slide"
    }
   },
   "outputs": [],
   "source": [
    "# Bin neurons\n",
    "raster = bin_neurons(spike_times_all_neurons, neuron_ids, bin_size=.05)\n",
    "raster"
   ]
  },
  {
   "cell_type": "markdown",
   "metadata": {
    "pycharm": {
     "name": "#%% md\n"
    }
   },
   "source": [
    "**Questions**\n",
    "1. What are the names of the two dimensions of the variable `raster`? (Hint: you'll need these names below)\n",
    "2. What do the values of raster hold?\n",
    "  * Hint: A look at the values might help: Use `raster.values`\n",
    "3 What numbers are representative of the raster's values? Is one more prevalent than all others?\n",
    "  * Hint: you can use the command `np.unique(raster.values)` to check\n",
    "**Extra credit**\n",
    "1. On what parameter of data processing does the maximal number `raster` depend?\n",
    "2. Make a graphical representation of `raster`'s distribution with bins and counts as axes"
   ]
  },
  {
   "cell_type": "code",
   "execution_count": null,
   "metadata": {
    "execution": {
     "iopub.execute_input": "2021-05-17T20:02:52.535534Z",
     "iopub.status.busy": "2021-05-17T20:02:52.535057Z",
     "iopub.status.idle": "2021-05-17T20:02:52.537555Z",
     "shell.execute_reply": "2021-05-17T20:02:52.537131Z"
    },
    "pycharm": {
     "name": "#%%\n"
    }
   },
   "outputs": [],
   "source": [
    "## TODO for students:\n",
    "# Uncomment below to get started\n",
    "\n",
    "# For x and y below, use the names of dimensions of the variable `raster`.\n",
    "\n",
    "# raster.plot(x='...',\n",
    "#             y='...',\n",
    "#             robust=True);"
   ]
  },
  {
   "cell_type": "code",
   "execution_count": null,
   "metadata": {
    "execution": {
     "iopub.execute_input": "2021-05-17T20:02:52.541721Z",
     "iopub.status.busy": "2021-05-17T20:02:52.541216Z",
     "iopub.status.idle": "2021-05-17T20:02:52.969990Z",
     "shell.execute_reply": "2021-05-17T20:02:52.970349Z"
    },
    "pycharm": {
     "name": "#%%\n"
    }
   },
   "outputs": [],
   "source": [
    "# to_remove solution\n",
    "raster.plot(x='Time',\n",
    "            y='Neuron_ID',\n",
    "            robust=True);"
   ]
  },
  {
   "cell_type": "markdown",
   "metadata": {
    "pycharm": {
     "name": "#%% md\n"
    }
   },
   "source": [
    "### Exercise 6\n",
    "Interactive version including the whole dataset"
   ]
  },
  {
   "cell_type": "code",
   "execution_count": null,
   "metadata": {
    "execution": {
     "iopub.execute_input": "2021-05-17T20:02:52.973707Z",
     "iopub.status.busy": "2021-05-17T20:02:52.973261Z",
     "iopub.status.idle": "2021-05-17T20:02:52.975936Z",
     "shell.execute_reply": "2021-05-17T20:02:52.975571Z"
    },
    "pycharm": {
     "name": "#%%\n"
    }
   },
   "outputs": [],
   "source": [
    "## TODO for students:\n",
    "# Uncomment below to plot interactive full dataset. Zoom in on areas of the raster that catch your eye\n",
    "\n",
    "\n",
    "# import holoviews as hv\n",
    "# import hvplot.xarray # noqa\n",
    "# hv.extension('bokeh')\n",
    "\n",
    "## Bin again\n",
    "# raster_huge = bin_neurons(spike_times_all_neurons_huge, neuron_ids_huge, bin_size=.12)\n",
    "\n",
    "## Interactive plot:\n",
    "# raster_huge.hvplot(x='Time', y='Neuron_ID', clim=(0,12)).opts(cmap='viridis')"
   ]
  },
  {
   "cell_type": "markdown",
   "metadata": {
    "pycharm": {
     "name": "#%% md\n"
    },
    "slideshow": {
     "slide_type": "slide"
    }
   },
   "source": [
    "### Exercise 7\n",
    "Slice dataset to save interesting times/neurons\n",
    "\n",
    "Note: Your solution will most likely look different from mine. We are just looking for area of the\n",
    "raster with striking features."
   ]
  },
  {
   "cell_type": "code",
   "execution_count": null,
   "metadata": {
    "execution": {
     "iopub.execute_input": "2021-05-17T20:02:52.979196Z",
     "iopub.status.busy": "2021-05-17T20:02:52.978726Z",
     "iopub.status.idle": "2021-05-17T20:02:52.980966Z",
     "shell.execute_reply": "2021-05-17T20:02:52.981324Z"
    },
    "pycharm": {
     "name": "#%%\n"
    }
   },
   "outputs": [],
   "source": [
    "\n",
    "## TODO for students:\n",
    "# Uncomment below to get started\n",
    "\n",
    "## Bin whole dataset:\n",
    "# raster_huge = bin_neurons(spike_times_all_neurons_huge, neuron_ids_huge, bin_size=.05)\n",
    "\n",
    "## Plot selection:\n",
    "# raster_huge.sel(...=slice(..., ...),\n",
    "#            ...=slice(..., ...)\n",
    "#           ).plot(robust=True);"
   ]
  },
  {
   "cell_type": "code",
   "execution_count": null,
   "metadata": {
    "execution": {
     "iopub.execute_input": "2021-05-17T20:02:52.985386Z",
     "iopub.status.busy": "2021-05-17T20:02:52.984775Z",
     "iopub.status.idle": "2021-05-17T20:02:56.179523Z",
     "shell.execute_reply": "2021-05-17T20:02:56.179132Z"
    },
    "pycharm": {
     "name": "#%%\n"
    }
   },
   "outputs": [],
   "source": [
    "# to_remove solution\n",
    "## Bin whole dataset:\n",
    "raster_huge = bin_neurons(spike_times_all_neurons_huge, neuron_ids_huge, bin_size=.05)\n",
    "\n",
    "## Plot selection:\n",
    "raster_huge.sel(Neuron_ID=slice(20, 1200),\n",
    "                Time=slice(60, 65)\n",
    "                ).plot(robust=True);"
   ]
  },
  {
   "cell_type": "markdown",
   "metadata": {},
   "source": [
    "## Visualize event-related raster\n",
    "\n",
    "### Exercise 8\n",
    "\n",
    "This dataset includes some behavior. However, at this point we don't know what behavior is happening and when.\n",
    "Can you think of a way to zero in on some features of spikes you found earlier?\n",
    "\n",
    "\n",
    "**Suggested steps**:\n",
    "   * Make a function that returns raster 1/4 second before and 1/4 second after a certain event.\n",
    "\n",
    "We will call such an event-related raster a _perievent time histogram_ (PETH)"
   ]
  },
  {
   "cell_type": "code",
   "execution_count": null,
   "metadata": {
    "execution": {
     "iopub.execute_input": "2021-05-17T20:02:56.183875Z",
     "iopub.status.busy": "2021-05-17T20:02:56.183275Z",
     "iopub.status.idle": "2021-05-17T20:03:07.798944Z",
     "shell.execute_reply": "2021-05-17T20:03:07.798169Z"
    },
    "pycharm": {
     "name": "#%%\n"
    }
   },
   "outputs": [],
   "source": [
    "multiunit_activity, event_times = identify_events(spike_times_all_neurons_huge)\n",
    "\n",
    "# make raster with bin=10ms\n",
    "raster = bin_neurons(spike_times_all_neurons_huge, neuron_ids_huge, bin_size=.01)\n",
    "# Select one neuron\n",
    "raster241 = raster.sel(Neuron_ID=241)"
   ]
  },
  {
   "cell_type": "markdown",
   "metadata": {},
   "source": [
    "**Suggestions**\n",
    "   1. Complete the function `half_a_second()`\n",
    "      * It should select a slice of 1/4 second before an event and 1/4 second after\n",
    "   2. Use `half_a_second()` to create a perievent time histogram (PETH)\n",
    "\n",
    "**Questions**\n",
    "   * What do you think the events were? Take a guess"
   ]
  },
  {
   "cell_type": "code",
   "execution_count": null,
   "metadata": {
    "execution": {
     "iopub.execute_input": "2021-05-17T20:03:07.805171Z",
     "iopub.status.busy": "2021-05-17T20:03:07.804658Z",
     "iopub.status.idle": "2021-05-17T20:03:07.807630Z",
     "shell.execute_reply": "2021-05-17T20:03:07.807111Z"
    },
    "pycharm": {
     "name": "#%%\n"
    }
   },
   "outputs": [],
   "source": [
    "## TODO for students:\n",
    "# Uncomment below to get started\n",
    "# def half_a_second(raster, timestamp):\n",
    "#     return raster.sel(Time=slice(timestamp - ...,\n",
    "#                                  timestamp + ...)).values[:50]\n",
    "#\n",
    "#\n",
    "# psth = [half_a_second(raster241, ...) for ... in event_times]\n",
    "# psth = np.vstack(psth)\n",
    "#\n",
    "# plt.pcolormesh(psth);"
   ]
  },
  {
   "cell_type": "code",
   "execution_count": null,
   "metadata": {
    "execution": {
     "iopub.execute_input": "2021-05-17T20:03:07.815736Z",
     "iopub.status.busy": "2021-05-17T20:03:07.814750Z",
     "iopub.status.idle": "2021-05-17T20:03:08.726675Z",
     "shell.execute_reply": "2021-05-17T20:03:08.727271Z"
    },
    "pycharm": {
     "name": "#%%\n"
    }
   },
   "outputs": [],
   "source": [
    "# to_remove solution\n",
    "def half_a_second(raster, timestamp):\n",
    "    return raster.sel(Time=slice(timestamp - .250,\n",
    "                                 timestamp + .250)).values[:50]\n",
    "\n",
    "\n",
    "peth = [half_a_second(raster241, timestamp) for timestamp in event_times]\n",
    "p2th = np.vstack(peth)\n",
    "\n",
    "plt.pcolormesh(peth);"
   ]
  },
  {
   "cell_type": "markdown",
   "metadata": {},
   "source": [
    "### Exercise 8\n",
    "PETH for all neurons"
   ]
  },
  {
   "cell_type": "code",
   "execution_count": null,
   "metadata": {
    "execution": {
     "iopub.execute_input": "2021-05-17T20:03:08.731744Z",
     "iopub.status.busy": "2021-05-17T20:03:08.730899Z",
     "iopub.status.idle": "2021-05-17T20:03:12.709220Z",
     "shell.execute_reply": "2021-05-17T20:03:12.708671Z"
    },
    "pycharm": {
     "name": "#%% \n"
    }
   },
   "outputs": [],
   "source": [
    "## TODO for students:\n",
    "# Uncomment below to get started\n",
    "\n",
    "# make a peth object using the provided Spykes toolbox:\n",
    "events = PETH.events(event_times)\n",
    "\n",
    "# make a list of spiketimes that our toolbox can understand:\n",
    "spikes = PETH.spykes_get_times(spike_times_all_neurons_huge,\n",
    "                               neuron_ids_huge)\n",
    "# Get mean PSTH for all neurons\n",
    "# raster_object, all_psth = PETH.spykes_summary(spikes=...,\n",
    "#                                               events=...,\n",
    "#                                               window=[-300, 400],\n",
    "#                                               bin_size=5,\n",
    "#                                               plotose=True)"
   ]
  },
  {
   "cell_type": "code",
   "execution_count": null,
   "metadata": {
    "execution": {
     "iopub.execute_input": "2021-05-17T20:03:12.715820Z",
     "iopub.status.busy": "2021-05-17T20:03:12.714761Z",
     "iopub.status.idle": "2021-05-17T20:03:19.393577Z",
     "shell.execute_reply": "2021-05-17T20:03:19.393917Z"
    },
    "pycharm": {
     "name": "#%%\n"
    }
   },
   "outputs": [],
   "source": [
    "# to_remove solution\n",
    "\n",
    "# make a peth object using the provided Spykes toolbox:\n",
    "events = PETH.events(event_times)\n",
    "\n",
    "# make a list of spiketimes that our toolbox can understand:\n",
    "spikes = PETH.spykes_get_times(spike_times_all_neurons_huge,\n",
    "                               neuron_ids_huge)\n",
    "# Get mean PETH for all neurons\n",
    "raster_object, all_psth = PETH.spykes_summary(spikes=spikes,\n",
    "                                              events=events,\n",
    "                                              window=[-300, 400],\n",
    "                                              bin_size=5,\n",
    "                                              plotose=True)"
   ]
  },
  {
   "cell_type": "markdown",
   "metadata": {
    "pycharm": {
     "name": "#%% md\n"
    }
   },
   "source": [
    "**Questions**\n",
    "1. What are the axes in the resulting plots?\n",
    "2. In your own words, what does the code above do?\n",
    "3. Why does the curve rise up and down repeatedly?\n",
    "\n",
    "\n",
    "**Extra credit**\n",
    "- You don't see how PETH is actually coded up. How would you have done it? Describe in pseudo-code.\n",
    "   - eg In a loop for each X, I would look for Y, then multiplied it thus making Z. Z would become my Y axis in the plot.\n",
    "\n"
   ]
  },
  {
   "cell_type": "code",
   "execution_count": null,
   "metadata": {
    "execution": {
     "iopub.execute_input": "2021-05-17T20:03:19.397054Z",
     "iopub.status.busy": "2021-05-17T20:03:19.396622Z",
     "iopub.status.idle": "2021-05-17T20:03:19.399103Z",
     "shell.execute_reply": "2021-05-17T20:03:19.398691Z"
    },
    "pycharm": {
     "name": "#%%\n"
    }
   },
   "outputs": [],
   "source": [
    "## TODO for students:\n",
    "# Uncomment below to get started\n",
    "\n",
    "# Make a 3d plot with mean PSTH for all neurons\n",
    "# raster_object.plot_heat_map(all_psth, sortby='rate', sortorder='ascend', normalize=None, colors=['viridis'])  # or latency"
   ]
  },
  {
   "cell_type": "code",
   "execution_count": null,
   "metadata": {
    "execution": {
     "iopub.execute_input": "2021-05-17T20:03:19.402576Z",
     "iopub.status.busy": "2021-05-17T20:03:19.402095Z",
     "iopub.status.idle": "2021-05-17T20:03:21.778095Z",
     "shell.execute_reply": "2021-05-17T20:03:21.778491Z"
    },
    "pycharm": {
     "name": "#%%\n"
    }
   },
   "outputs": [],
   "source": [
    "# to_remove solution\n",
    "\n",
    "# Make a 3d plot with mean PSTH for all neurons\n",
    "raster_object.plot_heat_map(all_psth, sortby='rate', sortorder='ascend', normalize=None, colors=['viridis'])  # or latency"
   ]
  },
  {
   "cell_type": "markdown",
   "metadata": {
    "pycharm": {
     "name": "#%% md\n"
    }
   },
   "source": [
    "**Questions**\n",
    "1. How is this plot different from the previous two?\n",
    "2. How is this achieved? Take a guess - what would you have done?\n",
    "\n",
    "**Extra credit**\n",
    "1. How do you think the gray curve will look if you invert the detection of events we explained in Exercise 8?\n",
    "2. Test your hypothesis by setting `event_times = np.where(multiunit_activity > 90)[0]` and replotting"
   ]
  }
 ],
 "metadata": {
  "celltoolbar": "Slideshow",
  "colab": {
   "collapsed_sections": [],
   "include_colab_link": true,
   "name": "spikes_tutorial",
   "toc_visible": true
  },
  "jupytext": {
   "cell_metadata_filter": "title,-all",
   "main_language": "python",
   "notebook_metadata_filter": "-all"
  },
  "kernel": {
   "display_name": "Python 3",
   "language": "python",
   "name": "python3"
  },
  "kernelspec": {
   "display_name": "Python 3",
   "language": "python",
   "name": "python3"
  },
  "language_info": {
   "codemirror_mode": {
    "name": "ipython",
    "version": 3
   },
   "file_extension": ".py",
   "mimetype": "text/x-python",
   "name": "python",
   "nbconvert_exporter": "python",
   "pygments_lexer": "ipython3",
   "version": "3.7.3"
  },
  "rise": {
   "autolaunch": true,
   "scroll": true,
   "transition": "None"
  }
 },
 "nbformat": 4,
 "nbformat_minor": 2
}