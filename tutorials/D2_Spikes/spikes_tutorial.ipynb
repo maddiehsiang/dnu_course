{
 "cells": [
  {
   "cell_type": "markdown",
   "metadata": {
    "pycharm": {},
    "slideshow": {
     "slide_type": "slide"
    }
   },
   "source": [
    "# Dynamical Neuroscience in Ukraine Academy: Day 4, Tutorial 2\n",
    "# Real data with Python"
   ]
  },
  {
   "cell_type": "code",
   "execution_count": null,
   "metadata": {
    "cellView": "form",
    "execution": {
     "iopub.execute_input": "2021-05-11T18:54:21.253960Z",
     "iopub.status.busy": "2021-05-11T18:54:21.248765Z",
     "iopub.status.idle": "2021-05-11T18:55:11.846282Z",
     "shell.execute_reply": "2021-05-11T18:55:11.842488Z"
    },
    "pycharm": {
     "name": "#%%\n"
    }
   },
   "outputs": [],
   "source": [
    "# @title Helper functions\n",
    "# Install packages\n",
    "!pip install -U hvplot bokeh>/dev/null\n",
    "!pip install matplotlib pandas xarray numpy tqdm spykes >/dev/null\n",
    "import os\n",
    "\n",
    "import pandas as pd\n",
    "import xarray as xr\n",
    "import requests\n",
    "from pathlib import Path\n",
    "import zipfile\n",
    "\n",
    "\n",
    "def download_data():\n",
    "    print('Downloading data... Please wait. Should take less than 1 min')\n",
    "    # Get link:\n",
    "    r = requests.get('http://data.cortexlab.net/singlePhase3/data/dataset.zip')\n",
    "    path = Path('data/dataset.zip')\n",
    "    path.parent.mkdir(exist_ok=True)\n",
    "    if not path.exists():\n",
    "        with open(path, \"wb\") as fid:\n",
    "            # Write out content of link:\n",
    "            fid.write(r.content)\n",
    "    # Unzip\n",
    "    with zipfile.ZipFile(path, 'r') as zip_ref:\n",
    "        zip_ref.extractall(path.parent)\n",
    "\n",
    "\n",
    "def load_spikes_from_phy(path_to_data='/Users/myroshnychenkm2/Downloads/dataset/', sampling_frequency=30000):\n",
    "    \"\"\"\n",
    "    Get spikes from a kilosort/phy result folder\n",
    "    :param path_to_data:\n",
    "    :param sampling_frequency:\n",
    "    :return:\n",
    "    :id: neuron id, 1xN\n",
    "    :ts: corresponding spiketime, 1xN\n",
    "    \"\"\"\n",
    "    groupfname = os.path.join(path_to_data, 'cluster_groups.csv')\n",
    "    groups = pd.read_csv(groupfname, delimiter='\\t')\n",
    "\n",
    "    # load spike times and cluster IDs\n",
    "    with open(path_to_data + 'spike_clusters.npy', 'rb') as f:\n",
    "        ids = np.load(f).flatten()\n",
    "    with open(path_to_data + 'spike_times.npy', 'rb') as f:\n",
    "        ts = np.load(f).flatten()\n",
    "\n",
    "    # Create the list of our \"good\" labeled units\n",
    "    ids_to_take = groups[(groups.group == 'good')].cluster_id\n",
    "    # Find which spikes beloing to our \"good\" groups\n",
    "    spikes_to_take = []\n",
    "    for i in tqdm(ids_to_take, desc='Selecting only good spikes'):\n",
    "        spikes_to_take.extend((ids == i).nonzero()[0])\n",
    "    # only take spikes that are in our list\n",
    "    ids = np.array(ids[spikes_to_take])\n",
    "    ts = np.array(ts[spikes_to_take]).astype(float) / sampling_frequency\n",
    "\n",
    "    return ids, ts\n",
    "\n",
    "\n",
    "def bin_neuron(spike_times, bin_size=.100, window=None):\n",
    "    \"\"\"\n",
    "    Make binned raster for a single neuron\n",
    "    :param spike_times:\n",
    "    :param bin_size: in sec\n",
    "    :param window:\n",
    "    :return:\n",
    "    \"\"\"\n",
    "    if window is None:\n",
    "        window = [0, spike_times.max()]\n",
    "    bins = np.arange(window[0], window[1] + bin_size, bin_size)\n",
    "    return np.histogram(spike_times, bins)[0]\n",
    "\n",
    "\n",
    "def bin_neurons(spike_times, Neuron_IDs, bin_size=None, window=None, plotose=False):\n",
    "    \"\"\"\n",
    "    Make binned raster for many neurons\n",
    "    :param spike_times:\n",
    "    :param Neuron_IDs:\n",
    "    :param bin_size: in sec\n",
    "    :param window:\n",
    "    :param plotose:\n",
    "    :return:\n",
    "    \"\"\"\n",
    "    if window is None:\n",
    "        window = [0, spike_times.max()]\n",
    "    # the following uses an inline for loop (look it up):\n",
    "    spike_counts = [bin_neuron(spike_times[Neuron_IDs == Neuron_ID], bin_size, window)\n",
    "                    for Neuron_ID in tqdm(np.unique(Neuron_IDs))]\n",
    "    spike_counts = np.vstack(spike_counts)\n",
    "    raster = xr.DataArray(spike_counts, coords=dict(Time=np.arange(window[0], window[1] + bin_size, bin_size)[:-1],\n",
    "                                                    Neuron_ID=range(len(np.unique(Neuron_IDs)))),\n",
    "                          dims=['Neuron_ID', 'Time'])\n",
    "    if plotose:\n",
    "        raster.plot(robust=True)\n",
    "    return raster\n",
    "\n",
    "\n",
    "def identify_down_states(ts, bin_size=.05, number_of_neurons_treshold=20, minimum_time_between_states=0.15):\n",
    "    \"\"\"\n",
    "    Find spontaneous periods of quiecence in spiketimes\n",
    "    :param ts:\n",
    "    :param bin_size:\n",
    "    :param number_of_neurons_treshold:\n",
    "    :param minimum_time_between_states:\n",
    "    :return:\n",
    "    \"\"\"\n",
    "    lfp = bin_neuron(np.sort(ts), bin_size=bin_size)\n",
    "    down_states = np.where(lfp < number_of_neurons_treshold)[0]\n",
    "    down_states_lengths = np.diff(down_states)\n",
    "    print(f'Eliminating {down_states[1:][down_states_lengths < .15 / bin_size].shape} that are too short')\n",
    "    down_states = down_states[1:][down_states_lengths > minimum_time_between_states / bin_size]\n",
    "    print(f'Ended up with {down_states.shape} down states')\n",
    "    # convert into seconds:\n",
    "    down_states = down_states * bin_size\n",
    "    down_states -= .03\n",
    "    print(down_states[(down_states > 63) & (down_states < 68)])  # compare with raster\n",
    "    return lfp, down_states\n",
    "\n",
    "\n",
    "class PETH:\n",
    "    \"\"\"\n",
    "    A collection of functions dealing with peristimulus time histogram\n",
    "    \"\"\"\n",
    "\n",
    "    @staticmethod\n",
    "    def events(trial_starts):\n",
    "        \"\"\"\n",
    "        Simple wrapper creating a dataframe with times we want to lock onto\n",
    "        :param trial_starts: List of times of interest (trials)\n",
    "        :return: spykes object\n",
    "        \"\"\"\n",
    "        return pd.DataFrame({'trialStart': trial_starts})\n",
    "\n",
    "    @staticmethod\n",
    "    def spykes_get_times(s_ts, s_id, debug=False):\n",
    "        \"\"\"\n",
    "        Use spykes library\n",
    "        :param s_ts:\n",
    "        :param s_id:\n",
    "        :param debug:\n",
    "        :return:\n",
    "        \"\"\"\n",
    "\n",
    "        def print_spyke(spykess):\n",
    "            [print(len(spykess[i].spiketimes)) for i in range(len(spykess))]\n",
    "\n",
    "        from spykes.plot import neurovis\n",
    "        s_id = s_id.astype('int')\n",
    "        neuron_list = list()\n",
    "        for iu in np.unique(s_id):\n",
    "            spike_times = s_ts[s_id == iu]\n",
    "            if len(spike_times) < 2:\n",
    "                if debug:\n",
    "                    print('Too few spiketimes in this unit: ' + str(spike_times))\n",
    "                else:\n",
    "                    pass  # neuron_list.append(NeuroVis([],'ram'+str(iu)))\n",
    "            else:\n",
    "                neuron = neurovis.NeuroVis(spike_times, name='ram' + str(iu))\n",
    "                neuron_list.append(neuron)\n",
    "\n",
    "        if debug:\n",
    "            print_spyke(neuron_list)\n",
    "        return neuron_list\n",
    "\n",
    "    @staticmethod\n",
    "    def spykes_summary(spikes, events, event='trialStart', window=[-100, 100], bin_size=10, fr_thr=.1, plotose=True):\n",
    "        \"\"\"\n",
    "\n",
    "        :param spikes:\n",
    "        :param spykes_df:\n",
    "        :param event:\n",
    "        :param window:\n",
    "        :param bin_size:\n",
    "        :param fr_thr:\n",
    "        :param plotose:\n",
    "        :return:\n",
    "        \"\"\"\n",
    "        import spykes\n",
    "        assert window[1] - window[0] > 0, 'Window size must be greater than zero!'\n",
    "        # filter firing rate\n",
    "        spikes = [i for i in spikes if i.firingrate > fr_thr]\n",
    "        pop = spykes.plot.popvis.PopVis(spikes)\n",
    "        # calculate psth\n",
    "        mean_psth = pop.get_all_psth(event=event, df=events, window=window, binsize=bin_size, plot=False)\n",
    "        assert mean_psth['data'][0].size > 0, 'Empty group PSTH!'\n",
    "        if plotose:\n",
    "            # % plot heatmap of average psth\n",
    "            _ = plt.figure(figsize=(10, 10))\n",
    "            #        fig.subplots_adjust(hspace=.3)\n",
    "            # set_trace()\n",
    "            pop.plot_heat_map(mean_psth, sortby=None, sortorder='ascend', normalize=None,\n",
    "                              colors=['viridis'])  # or latency\n",
    "\n",
    "            # %% Population PSTH\n",
    "            plt.figure()\n",
    "            pop.plot_population_psth(all_psth=mean_psth, event_name='Event',\n",
    "                                     colors=([.5, .5, .5], [0, .6, 0]))\n",
    "\n",
    "        return pop, mean_psth\n",
    "\n",
    "\n",
    "download_data()"
   ]
  },
  {
   "cell_type": "code",
   "execution_count": null,
   "metadata": {
    "execution": {
     "iopub.execute_input": "2021-05-11T18:55:11.871400Z",
     "iopub.status.busy": "2021-05-11T18:55:11.868459Z",
     "iopub.status.idle": "2021-05-11T18:55:13.626747Z",
     "shell.execute_reply": "2021-05-11T18:55:13.627409Z"
    },
    "pycharm": {
     "name": "#%%\n"
    },
    "slideshow": {
     "slide_type": "slide"
    }
   },
   "outputs": [],
   "source": [
    "# Import basic libraries\n",
    "import matplotlib.pylab as plt\n",
    "import numpy as np\n",
    "from tqdm import tqdm"
   ]
  },
  {
   "cell_type": "code",
   "execution_count": null,
   "metadata": {
    "cellView": "form",
    "execution": {
     "iopub.execute_input": "2021-05-11T18:55:13.631871Z",
     "iopub.status.busy": "2021-05-11T18:55:13.631079Z",
     "iopub.status.idle": "2021-05-11T18:55:13.797980Z",
     "shell.execute_reply": "2021-05-11T18:55:13.798570Z"
    },
    "pycharm": {
     "name": "#%%\n"
    }
   },
   "outputs": [],
   "source": [
    "# @title Figure settings\n",
    "\n",
    "%config InlineBackend.figure_format = 'retina'\n",
    "\n",
    "plt.style.use(\"https://raw.githubusercontent.com/NeuromatchAcademy/course-content/master/nma.mplstyle\")"
   ]
  },
  {
   "cell_type": "code",
   "execution_count": null,
   "metadata": {
    "execution": {
     "iopub.execute_input": "2021-05-11T18:55:13.803141Z",
     "iopub.status.busy": "2021-05-11T18:55:13.802310Z",
     "iopub.status.idle": "2021-05-11T18:55:20.949654Z",
     "shell.execute_reply": "2021-05-11T18:55:20.949181Z"
    },
    "pycharm": {
     "metadata": false,
     "name": "#%% Load spikes\n"
    },
    "slideshow": {
     "slide_type": "slide"
    }
   },
   "outputs": [],
   "source": [
    "Neuron_IDs_huge, spike_times_all_neurons_huge = load_spikes_from_phy('data/')"
   ]
  },
  {
   "cell_type": "markdown",
   "metadata": {
    "pycharm": {
     "metadata": false,
     "name": "#%% md\n"
    },
    "slideshow": {
     "slide_type": "slide"
    }
   },
   "source": [
    "## Inspect variables"
   ]
  },
  {
   "cell_type": "code",
   "execution_count": null,
   "metadata": {
    "execution": {
     "iopub.execute_input": "2021-05-11T18:55:20.955107Z",
     "iopub.status.busy": "2021-05-11T18:55:20.954597Z",
     "iopub.status.idle": "2021-05-11T18:55:20.959030Z",
     "shell.execute_reply": "2021-05-11T18:55:20.958604Z"
    },
    "pycharm": {
     "metadata": false,
     "name": "#%%\n"
    },
    "slideshow": {
     "slide_type": "slide"
    }
   },
   "outputs": [],
   "source": [
    "# Let's inspect the spikes\n",
    "Neuron_IDs_huge"
   ]
  },
  {
   "cell_type": "code",
   "execution_count": null,
   "metadata": {
    "execution": {
     "iopub.execute_input": "2021-05-11T18:55:20.963469Z",
     "iopub.status.busy": "2021-05-11T18:55:20.962969Z",
     "iopub.status.idle": "2021-05-11T18:55:20.965867Z",
     "shell.execute_reply": "2021-05-11T18:55:20.966242Z"
    },
    "pycharm": {
     "name": "#%%\n"
    }
   },
   "outputs": [],
   "source": [
    "spike_times_all_neurons_huge"
   ]
  },
  {
   "cell_type": "markdown",
   "metadata": {
    "pycharm": {
     "name": "#%% md\n"
    }
   },
   "source": [
    "**Questions**\n",
    "* What are the numbers in the two blocks above?"
   ]
  },
  {
   "cell_type": "markdown",
   "metadata": {
    "pycharm": {
     "metadata": false,
     "name": "#%% md\n"
    },
    "slideshow": {
     "slide_type": "fragment"
    }
   },
   "source": [
    "### Exercise 1\n",
    "What are the dimensions of each variable?"
   ]
  },
  {
   "cell_type": "code",
   "execution_count": null,
   "metadata": {
    "execution": {
     "iopub.execute_input": "2021-05-11T18:55:20.969823Z",
     "iopub.status.busy": "2021-05-11T18:55:20.969343Z",
     "iopub.status.idle": "2021-05-11T18:55:20.971514Z",
     "shell.execute_reply": "2021-05-11T18:55:20.971942Z"
    },
    "pycharm": {
     "name": "#%%\n"
    }
   },
   "outputs": [],
   "source": [
    "# TODO for students:\n",
    "# Use the `X.shape` formalism to examine the shapes of each."
   ]
  },
  {
   "cell_type": "markdown",
   "metadata": {
    "pycharm": {
     "name": "#%% md\n"
    }
   },
   "source": [
    "**Questions**\n",
    "Is it possible to combine these two sets of numbers? How?"
   ]
  },
  {
   "cell_type": "code",
   "execution_count": null,
   "metadata": {
    "execution": {
     "iopub.execute_input": "2021-05-11T18:55:20.975706Z",
     "iopub.status.busy": "2021-05-11T18:55:20.975160Z",
     "iopub.status.idle": "2021-05-11T18:55:20.994596Z",
     "shell.execute_reply": "2021-05-11T18:55:20.995054Z"
    },
    "pycharm": {
     "metadata": false,
     "name": "#%%\n"
    },
    "slideshow": {
     "slide_type": "slide"
    }
   },
   "outputs": [],
   "source": [
    "# Limit the number of spikes we're dealing with but keep full variables\n",
    "Neuron_IDs = Neuron_IDs_huge[spike_times_all_neurons_huge < 70]\n",
    "spike_times_all_neurons = spike_times_all_neurons_huge[spike_times_all_neurons_huge < 70]"
   ]
  },
  {
   "cell_type": "markdown",
   "metadata": {
    "pycharm": {
     "metadata": false,
     "name": "#%% md\n"
    },
    "slideshow": {
     "slide_type": "slide"
    }
   },
   "source": [
    "Let's inspect the first ten timestamps from one neuron"
   ]
  },
  {
   "cell_type": "code",
   "execution_count": null,
   "metadata": {
    "execution": {
     "iopub.execute_input": "2021-05-11T18:55:20.999039Z",
     "iopub.status.busy": "2021-05-11T18:55:20.998495Z",
     "iopub.status.idle": "2021-05-11T18:55:21.001190Z",
     "shell.execute_reply": "2021-05-11T18:55:21.001568Z"
    },
    "pycharm": {
     "name": "#%%\n"
    }
   },
   "outputs": [],
   "source": [
    "# TODO for students:\n",
    "# Complete the following code to print out the first ten timestamps from neuron 300\n",
    "id_of_interest = Neuron_IDs[300]\n",
    "spike_times_of_interest = spike_times_all_neurons[Neuron_IDs == id_of_interest]"
   ]
  },
  {
   "cell_type": "markdown",
   "metadata": {},
   "source": [
    "## Visualize neurons' spike times\n",
    "\n",
    "### Exercise 2\n",
    "Inspect the timestamps from one neuron"
   ]
  },
  {
   "cell_type": "code",
   "execution_count": null,
   "metadata": {
    "execution": {
     "iopub.execute_input": "2021-05-11T18:55:21.018739Z",
     "iopub.status.busy": "2021-05-11T18:55:21.009624Z",
     "iopub.status.idle": "2021-05-11T18:55:21.232702Z",
     "shell.execute_reply": "2021-05-11T18:55:21.233071Z"
    },
    "pycharm": {
     "metadata": false,
     "name": "#%%\n"
    },
    "slideshow": {
     "slide_type": "slide"
    }
   },
   "outputs": [],
   "source": [
    "# Plot spiketimes\n",
    "plt.plot(spike_times_of_interest);"
   ]
  },
  {
   "cell_type": "markdown",
   "metadata": {
    "pycharm": {
     "metadata": false,
     "name": "#%% md\n"
    },
    "slideshow": {
     "slide_type": "fragment"
    }
   },
   "source": [
    "**Questions**\n",
    "* What are neurons' identities in this plot?\n",
    "* Why is the curve progressively rising?\n",
    "* What's on the x- and y- axes?\n",
    "\n"
   ]
  },
  {
   "cell_type": "code",
   "execution_count": null,
   "metadata": {
    "execution": {
     "iopub.execute_input": "2021-05-11T18:55:21.248745Z",
     "iopub.status.busy": "2021-05-11T18:55:21.248257Z",
     "iopub.status.idle": "2021-05-11T18:55:21.401652Z",
     "shell.execute_reply": "2021-05-11T18:55:21.401285Z"
    },
    "pycharm": {
     "name": "#%%\n"
    }
   },
   "outputs": [],
   "source": [
    "plt.plot(spike_times_of_interest)\n",
    "plt.title('Timestamps of a neuron')\n",
    "plt.ylabel('Time')\n",
    "plt.xlabel('Number of spikes');"
   ]
  },
  {
   "cell_type": "markdown",
   "metadata": {
    "pycharm": {},
    "slideshow": {
     "slide_type": "fragment"
    }
   },
   "source": [
    " What is a plot like this good for? (Hint: what would the change in firing rate look like?)"
   ]
  },
  {
   "cell_type": "markdown",
   "metadata": {
    "pycharm": {
     "metadata": false,
     "name": "#%% md\n"
    },
    "slideshow": {
     "slide_type": "slide"
    }
   },
   "source": [
    "### Exercise 3\n",
    "Visualize a neuron's spike times using a For loop"
   ]
  },
  {
   "cell_type": "markdown",
   "metadata": {
    "pycharm": {
     "name": "#%% md\n"
    }
   },
   "source": [
    "**Suggestions**\n",
    "* Loop over time stamps of action potentials\n",
    "* At each time stamp\n",
    "   * Make a vertical tick at that value of time on the x axis\n",
    "   * What should the y axis be?"
   ]
  },
  {
   "cell_type": "code",
   "execution_count": null,
   "metadata": {
    "execution": {
     "iopub.execute_input": "2021-05-11T18:55:21.404834Z",
     "iopub.status.busy": "2021-05-11T18:55:21.404391Z",
     "iopub.status.idle": "2021-05-11T18:55:21.406478Z",
     "shell.execute_reply": "2021-05-11T18:55:21.406827Z"
    },
    "pycharm": {
     "name": "#%%\n"
    }
   },
   "outputs": [],
   "source": [
    "## TODO for students:\n",
    "# Uncomment below to get started\n",
    "\n",
    "\n",
    "# Raster of one neuron, by hand\n",
    "# for timestamp in spike_times_of_interest:\n",
    "#     plt.scatter(x=..., y=..., marker='|', color='black')"
   ]
  },
  {
   "cell_type": "code",
   "execution_count": null,
   "metadata": {
    "cellView": "form",
    "execution": {
     "iopub.execute_input": "2021-05-11T18:55:21.525693Z",
     "iopub.status.busy": "2021-05-11T18:55:21.519043Z",
     "iopub.status.idle": "2021-05-11T18:55:23.048817Z",
     "shell.execute_reply": "2021-05-11T18:55:23.049188Z"
    },
    "pycharm": {
     "metadata": false,
     "name": "#%%\n"
    },
    "slideshow": {
     "slide_type": "slide"
    }
   },
   "outputs": [],
   "source": [
    "# to_remove solution\n",
    "\n",
    "# Raster of one neuron, by hand\n",
    "for timestamp in spike_times_of_interest:\n",
    "    plt.scatter(x=timestamp, y=1, marker='|', color='black')"
   ]
  },
  {
   "cell_type": "markdown",
   "metadata": {},
   "source": [
    "### Exercise 4\n",
    "Visualize a neuron's spike times without a for loop"
   ]
  },
  {
   "cell_type": "code",
   "execution_count": null,
   "metadata": {
    "execution": {
     "iopub.execute_input": "2021-05-11T18:55:23.076173Z",
     "iopub.status.busy": "2021-05-11T18:55:23.075350Z",
     "iopub.status.idle": "2021-05-11T18:55:23.202103Z",
     "shell.execute_reply": "2021-05-11T18:55:23.201453Z"
    },
    "pycharm": {
     "name": "#%%\n"
    }
   },
   "outputs": [],
   "source": [
    "# to_remove solution\n",
    "# Whole raster for one neuron, no loop\n",
    "plt.scatter(x=spike_times_of_interest,\n",
    "            y=np.ones(spike_times_of_interest.shape[0]),\n",
    "            marker='|', color='black');"
   ]
  },
  {
   "cell_type": "code",
   "execution_count": null,
   "metadata": {
    "execution": {
     "iopub.execute_input": "2021-05-11T18:55:23.205686Z",
     "iopub.status.busy": "2021-05-11T18:55:23.205190Z",
     "iopub.status.idle": "2021-05-11T18:55:23.207628Z",
     "shell.execute_reply": "2021-05-11T18:55:23.207262Z"
    },
    "pycharm": {
     "metadata": false,
     "name": "#%%\n"
    },
    "slideshow": {
     "slide_type": "slide"
    }
   },
   "outputs": [],
   "source": [
    "## TODO for students:\n",
    "# Uncomment below to get started\n",
    "\n",
    "# Whole raster for one neuron, no loop\n",
    "# plt.scatter(x=...,\n",
    "#             y=np.ones(spike_times_of_interest.shape...),\n",
    "#             marker='|', color='black');"
   ]
  },
  {
   "cell_type": "markdown",
   "metadata": {},
   "source": [
    "### Exercise 4"
   ]
  },
  {
   "cell_type": "code",
   "execution_count": null,
   "metadata": {
    "execution": {
     "iopub.execute_input": "2021-05-11T18:55:23.230990Z",
     "iopub.status.busy": "2021-05-11T18:55:23.227446Z",
     "iopub.status.idle": "2021-05-11T18:55:23.608978Z",
     "shell.execute_reply": "2021-05-11T18:55:23.609714Z"
    },
    "pycharm": {
     "name": "#%%\n"
    }
   },
   "outputs": [],
   "source": [
    "# to_remove solution\n",
    "# For all neurons now\n",
    "plt.scatter(x=spike_times_all_neurons,\n",
    "            y=Neuron_IDs,\n",
    "            marker='|', color='black', alpha=.7);"
   ]
  },
  {
   "cell_type": "code",
   "execution_count": null,
   "metadata": {
    "execution": {
     "iopub.execute_input": "2021-05-11T18:55:23.616055Z",
     "iopub.status.busy": "2021-05-11T18:55:23.614943Z",
     "iopub.status.idle": "2021-05-11T18:55:23.618102Z",
     "shell.execute_reply": "2021-05-11T18:55:23.618636Z"
    },
    "pycharm": {
     "metadata": false,
     "name": "#%%\n"
    },
    "slideshow": {
     "slide_type": "slide"
    }
   },
   "outputs": [],
   "source": [
    "## TODO for students:\n",
    "# Uncomment below to get started\n",
    "\n",
    "# For all neurons now\n",
    "# plt.scatter(x=...,\n",
    "#             y=...,\n",
    "#             marker='|', color='black', alpha=.7);"
   ]
  },
  {
   "cell_type": "markdown",
   "metadata": {
    "pycharm": {
     "metadata": false,
     "name": "#%% md\n"
    },
    "slideshow": {
     "slide_type": "slide"
    }
   },
   "source": [
    "## Visualize binned raster of spikes\n",
    "\n",
    "### Exercise 5\n"
   ]
  },
  {
   "cell_type": "code",
   "execution_count": null,
   "metadata": {
    "execution": {
     "iopub.execute_input": "2021-05-11T18:55:23.623509Z",
     "iopub.status.busy": "2021-05-11T18:55:23.622646Z",
     "iopub.status.idle": "2021-05-11T18:55:23.698383Z",
     "shell.execute_reply": "2021-05-11T18:55:23.698994Z"
    },
    "pycharm": {
     "metadata": false,
     "name": "#%%\n"
    },
    "slideshow": {
     "slide_type": "slide"
    }
   },
   "outputs": [],
   "source": [
    "# Bin neurons\n",
    "raster = bin_neurons(spike_times_all_neurons, Neuron_IDs, bin_size=.05)\n",
    "raster"
   ]
  },
  {
   "cell_type": "code",
   "execution_count": null,
   "metadata": {
    "execution": {
     "iopub.execute_input": "2021-05-11T18:55:23.704442Z",
     "iopub.status.busy": "2021-05-11T18:55:23.703602Z",
     "iopub.status.idle": "2021-05-11T18:55:24.171433Z",
     "shell.execute_reply": "2021-05-11T18:55:24.171791Z"
    },
    "pycharm": {
     "name": "#%%\n"
    }
   },
   "outputs": [],
   "source": [
    "# to_remove solution\n",
    "raster.plot(x='Time',\n",
    "            y='Neuron_ID',\n",
    "            robust=True);"
   ]
  },
  {
   "cell_type": "code",
   "execution_count": null,
   "metadata": {
    "execution": {
     "iopub.execute_input": "2021-05-11T18:55:24.174311Z",
     "iopub.status.busy": "2021-05-11T18:55:24.173839Z",
     "iopub.status.idle": "2021-05-11T18:55:24.176523Z",
     "shell.execute_reply": "2021-05-11T18:55:24.176921Z"
    },
    "pycharm": {
     "name": "#%%\n"
    }
   },
   "outputs": [],
   "source": [
    "## TODO for students:\n",
    "# Uncomment below to get started\n",
    "\n",
    "# raster.plot(x=...,\n",
    "#             y=...,\n",
    "#             robust=True);"
   ]
  },
  {
   "cell_type": "markdown",
   "metadata": {
    "pycharm": {
     "name": "#%% md\n"
    }
   },
   "source": [
    "### Exercise 6\n",
    "Interactive version including the whole dataset"
   ]
  },
  {
   "cell_type": "code",
   "execution_count": null,
   "metadata": {
    "execution": {
     "iopub.execute_input": "2021-05-11T18:55:24.179460Z",
     "iopub.status.busy": "2021-05-11T18:55:24.179013Z",
     "iopub.status.idle": "2021-05-11T18:55:24.181583Z",
     "shell.execute_reply": "2021-05-11T18:55:24.181964Z"
    },
    "pycharm": {
     "name": "#%%\n"
    }
   },
   "outputs": [],
   "source": [
    "## TODO for students:\n",
    "# Uncomment below to plot interactive full dataset. Zoom in on areas of the raster that catch your eye\n",
    "\n",
    "\n",
    "# import holoviews as hv\n",
    "# import hvplot.xarray # noqa\n",
    "# hv.extension('bokeh')\n",
    "# raster_huge = bin_neurons(spike_times_all_neurons_huge, Neuron_IDs_huge, bin_size=.12)\n",
    "\n",
    "# raster_huge.hvplot(x='Time', y='Neuron_ID', clim=(0,12)).opts(cmap='viridis')"
   ]
  },
  {
   "cell_type": "markdown",
   "metadata": {
    "pycharm": {
     "name": "#%% md\n"
    },
    "slideshow": {
     "slide_type": "slide"
    }
   },
   "source": [
    "### Exercise 7\n",
    "Slice dataset to save interesting times/neurons\n",
    "\n",
    "Note: Your solution will most likely look different from mine. We are just looking for area of the\n",
    "raster with striking features."
   ]
  },
  {
   "cell_type": "code",
   "execution_count": null,
   "metadata": {
    "execution": {
     "iopub.execute_input": "2021-05-11T18:55:24.184393Z",
     "iopub.status.busy": "2021-05-11T18:55:24.183953Z",
     "iopub.status.idle": "2021-05-11T18:55:24.452281Z",
     "shell.execute_reply": "2021-05-11T18:55:24.452618Z"
    },
    "pycharm": {
     "name": "#%%\n"
    }
   },
   "outputs": [],
   "source": [
    "# to_remove solution\n",
    "raster.sel(Neuron_ID=slice(20, 1200),\n",
    "           Time=slice(60, 65)\n",
    "           ).plot(robust=True);"
   ]
  },
  {
   "cell_type": "code",
   "execution_count": null,
   "metadata": {
    "execution": {
     "iopub.execute_input": "2021-05-11T18:55:24.455241Z",
     "iopub.status.busy": "2021-05-11T18:55:24.454788Z",
     "iopub.status.idle": "2021-05-11T18:55:24.457121Z",
     "shell.execute_reply": "2021-05-11T18:55:24.457431Z"
    },
    "pycharm": {
     "name": "#%%\n"
    }
   },
   "outputs": [],
   "source": [
    "## TODO for students:\n",
    "# Uncomment below to get started\n",
    "\n",
    "# raster.sel(...=slice(..., ...),\n",
    "#            ...=slice(..., ...)\n",
    "#           ).plot(robust=True);"
   ]
  },
  {
   "cell_type": "markdown",
   "metadata": {},
   "source": [
    "## Visualize PETH\n",
    "\n",
    "### Exercise 8\n",
    "\n",
    "This dataset includes some behavior. However, let's imagine we don't know what behavior is happening and when.\n",
    " Can you think of a way to zero in on some features of spikes you found earlier?\n",
    "\n",
    "\n",
    "* Suggested steps:\n",
    "   * Make a function that returns raster 1/4 second before and 1/4 second after a certain event"
   ]
  },
  {
   "cell_type": "code",
   "execution_count": null,
   "metadata": {
    "execution": {
     "iopub.execute_input": "2021-05-11T18:55:24.459955Z",
     "iopub.status.busy": "2021-05-11T18:55:24.459500Z",
     "iopub.status.idle": "2021-05-11T18:55:34.392809Z",
     "shell.execute_reply": "2021-05-11T18:55:34.393525Z"
    },
    "pycharm": {
     "name": "#%%\n"
    }
   },
   "outputs": [],
   "source": [
    "multiunit_activity, event_times = identify_down_states(spike_times_all_neurons_huge)\n",
    "\n",
    "# PETH based on homemade code\n",
    "raster = bin_neurons(spike_times_all_neurons_huge, Neuron_IDs_huge, bin_size=.01)\n",
    "# Select one neuron\n",
    "raster241 = raster.sel(Neuron_ID=241)"
   ]
  },
  {
   "cell_type": "markdown",
   "metadata": {},
   "source": [
    "**Suggestions**\n",
    "   1. Complete the function `half_a_second()`\n",
    "      * It should select a slice of 1/4 second before an event and 1/4 second after\n",
    "   2. Use `half_a_second()` to create a perievent time histogram (PETH)\n",
    "\n",
    "**Questions**\n",
    "   * What do you think the events were? Take a guess"
   ]
  },
  {
   "cell_type": "code",
   "execution_count": null,
   "metadata": {
    "execution": {
     "iopub.execute_input": "2021-05-11T18:55:34.405566Z",
     "iopub.status.busy": "2021-05-11T18:55:34.404382Z",
     "iopub.status.idle": "2021-05-11T18:55:35.067048Z",
     "shell.execute_reply": "2021-05-11T18:55:35.068024Z"
    },
    "pycharm": {
     "name": "#%%\n"
    }
   },
   "outputs": [],
   "source": [
    "# to_remove solution\n",
    "def half_a_second(raster, timestamp):\n",
    "    return raster.sel(Time=slice(timestamp - .250,\n",
    "                                 timestamp + .250)).values[:50]\n",
    "\n",
    "\n",
    "peth = [half_a_second(raster241, timestamp) for timestamp in event_times]\n",
    "p2th = np.vstack(peth)\n",
    "\n",
    "plt.pcolormesh(peth);"
   ]
  },
  {
   "cell_type": "code",
   "execution_count": null,
   "metadata": {
    "execution": {
     "iopub.execute_input": "2021-05-11T18:55:35.077670Z",
     "iopub.status.busy": "2021-05-11T18:55:35.075534Z",
     "iopub.status.idle": "2021-05-11T18:55:35.082998Z",
     "shell.execute_reply": "2021-05-11T18:55:35.084058Z"
    },
    "pycharm": {
     "name": "#%%\n"
    }
   },
   "outputs": [],
   "source": [
    "## TODO for students:\n",
    "# Uncomment below to get started\n",
    "# def half_a_second(raster, timestamp):\n",
    "#     return raster.sel(Time=slice(timestamp - ...,\n",
    "#                                  timestamp + ...)).values[:100]\n",
    "#\n",
    "#\n",
    "# psth = [half_a_second(raster241, ...) for ... in event_times]\n",
    "# psth = np.vstack(psth)\n",
    "#\n",
    "# plt.pcolormesh(psth);"
   ]
  },
  {
   "cell_type": "markdown",
   "metadata": {},
   "source": [
    "### Exercise 8\n",
    "PETH for all neurons"
   ]
  },
  {
   "cell_type": "code",
   "execution_count": null,
   "metadata": {
    "execution": {
     "iopub.execute_input": "2021-05-11T18:55:35.103593Z",
     "iopub.status.busy": "2021-05-11T18:55:35.101309Z",
     "iopub.status.idle": "2021-05-11T18:55:38.613190Z",
     "shell.execute_reply": "2021-05-11T18:55:38.612688Z"
    },
    "pycharm": {
     "name": "#%% \n"
    }
   },
   "outputs": [],
   "source": [
    "## TODO for students:\n",
    "# Uncomment below to get started\n",
    "\n",
    "# make a peth object using the provided Spykes toolbox:\n",
    "events = PETH.events(event_times)\n",
    "\n",
    "# make a list of spiketimes that our toolbox can understand:\n",
    "spikes = PETH.spykes_get_times(spike_times_all_neurons_huge,\n",
    "                               Neuron_IDs_huge)\n",
    "# Get mean PSTH for all neurons\n",
    "# raster_object, all_psth = PETH.spykes_summary(spikes=...,\n",
    "#                                               events=...,\n",
    "#                                               window=[-300, 400],\n",
    "#                                               bin_size=5,\n",
    "#                                               plotose=True)"
   ]
  },
  {
   "cell_type": "code",
   "execution_count": null,
   "metadata": {
    "execution": {
     "iopub.execute_input": "2021-05-11T18:55:38.618940Z",
     "iopub.status.busy": "2021-05-11T18:55:38.618112Z",
     "iopub.status.idle": "2021-05-11T18:55:45.315696Z",
     "shell.execute_reply": "2021-05-11T18:55:45.316051Z"
    },
    "pycharm": {
     "name": "#%%\n"
    }
   },
   "outputs": [],
   "source": [
    "# to_remove solution\n",
    "\n",
    "# make a peth object using the provided Spykes toolbox:\n",
    "events = PETH.events(event_times)\n",
    "\n",
    "# make a list of spiketimes that our toolbox can understand:\n",
    "spikes = PETH.spykes_get_times(spike_times_all_neurons_huge,\n",
    "                               Neuron_IDs_huge)\n",
    "# Get mean PSTH for all neurons\n",
    "raster_object, all_psth = PETH.spykes_summary(spikes=spikes,\n",
    "                                              events=events,\n",
    "                                              window=[-300, 400],\n",
    "                                              bin_size=5,\n",
    "                                              plotose=True)"
   ]
  },
  {
   "cell_type": "markdown",
   "metadata": {
    "pycharm": {
     "name": "#%% md\n"
    }
   },
   "source": [
    "**Questions**\n",
    "* In your own words, what does the code above do?\n",
    "* What are the axes in the resulting plots?\n",
    "* Why does the curve rise up and down repeatedly?"
   ]
  },
  {
   "cell_type": "code",
   "execution_count": null,
   "metadata": {
    "execution": {
     "iopub.execute_input": "2021-05-11T18:55:45.319431Z",
     "iopub.status.busy": "2021-05-11T18:55:45.319010Z",
     "iopub.status.idle": "2021-05-11T18:55:45.321142Z",
     "shell.execute_reply": "2021-05-11T18:55:45.321486Z"
    },
    "pycharm": {
     "name": "#%%\n"
    }
   },
   "outputs": [],
   "source": [
    "## TODO for students:\n",
    "# Uncomment below to get started\n",
    "\n",
    "# Make a 3d plot with mean PSTH for all neurons\n",
    "# raster_object.plot_heat_map(all_psth, sortby='rate', sortorder='ascend', normalize=None, colors=['viridis'])  # or latency"
   ]
  },
  {
   "cell_type": "code",
   "execution_count": null,
   "metadata": {
    "execution": {
     "iopub.execute_input": "2021-05-11T18:55:45.325004Z",
     "iopub.status.busy": "2021-05-11T18:55:45.324514Z",
     "iopub.status.idle": "2021-05-11T18:55:47.879748Z",
     "shell.execute_reply": "2021-05-11T18:55:47.880128Z"
    },
    "pycharm": {
     "name": "#%%\n"
    }
   },
   "outputs": [],
   "source": [
    "# to_remove solution\n",
    "\n",
    "# Make a 3d plot with mean PSTH for all neurons\n",
    "raster_object.plot_heat_map(all_psth, sortby='rate', sortorder='ascend', normalize=None, colors=['viridis'])  # or latency"
   ]
  },
  {
   "cell_type": "markdown",
   "metadata": {
    "pycharm": {
     "name": "#%% md\n"
    }
   },
   "source": [
    "**Questions**\n",
    "* How is this plot different from the previous two?\n",
    "* How is this achieved? Take a guess - what would you have done?\n",
    "\n",
    "**Advanced questions**\n",
    "* How do you think the gray curve will look if you invert the detection of events we explained in Exercise 8?\n",
    "* Test your hypothesis by setting `event_times = np.where(multiunit_activity > 90)[0]` and replotting"
   ]
  }
 ],
 "metadata": {
  "celltoolbar": "Slideshow",
  "colab": {
   "collapsed_sections": [],
   "include_colab_link": true,
   "name": "spikes_tutorial",
   "toc_visible": true
  },
  "jupytext": {
   "cell_metadata_filter": "title,-all",
   "main_language": "python",
   "notebook_metadata_filter": "-all"
  },
  "kernel": {
   "display_name": "Python 3",
   "language": "python",
   "name": "python3"
  },
  "kernelspec": {
   "display_name": "Python 3",
   "language": "python",
   "name": "python3"
  },
  "language_info": {
   "codemirror_mode": {
    "name": "ipython",
    "version": 3
   },
   "file_extension": ".py",
   "mimetype": "text/x-python",
   "name": "python",
   "nbconvert_exporter": "python",
   "pygments_lexer": "ipython3",
   "version": "3.7.3"
  },
  "rise": {
   "autolaunch": true,
   "scroll": true,
   "transition": "None"
  }
 },
 "nbformat": 4,
 "nbformat_minor": 2
}