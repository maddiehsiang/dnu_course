{
 "cells": [
  {
   "cell_type": "markdown",
   "metadata": {
    "pycharm": {},
    "slideshow": {
     "slide_type": "slide"
    }
   },
   "source": [
    "# Real data with Python"
   ]
  },
  {
   "cell_type": "code",
   "execution_count": null,
   "metadata": {
    "cellView": "form",
    "pycharm": {
     "name": "#%%\n"
    }
   },
   "outputs": [],
   "source": [
    "# @title Helper functions\n",
    "!pip install -U matplotlib pandas xarray numpy tqdm spykes hvplot bokeh\n",
    "\n",
    "import os\n",
    "\n",
    "import pandas as pd\n",
    "import xarray as xr\n",
    "import requests\n",
    "from pathlib import Path\n",
    "import zipfile\n",
    "\n",
    "\n",
    "def download_data():\n",
    "    # Get link:\n",
    "    r = requests.get('http://data.cortexlab.net/singlePhase3/data/dataset.zip')\n",
    "    path = Path('data/dataset.zip')\n",
    "    path.parent.mkdir(exist_ok=True)\n",
    "    if not path.exists():\n",
    "        with open(path, \"wb\") as fid:\n",
    "            # Write out content of link:\n",
    "            fid.write(r.content)\n",
    "    # Unzip\n",
    "    with zipfile.ZipFile(path, 'r') as zip_ref:\n",
    "        zip_ref.extractall(path.parent)\n",
    "\n",
    "\n",
    "def load_spikes_from_phy(path_to_data='/Users/myroshnychenkm2/Downloads/dataset/', sampling_frequency=30000):\n",
    "    \"\"\"\n",
    "    Get spikes from a kilosort/phy result folder\n",
    "    :param path_to_data:\n",
    "    :param sampling_frequency:\n",
    "    :return:\n",
    "    :id: neuron id, 1xN\n",
    "    :ts: corresponding spiketime, 1xN\n",
    "    \"\"\"\n",
    "    groupfname = os.path.join(path_to_data, 'cluster_groups.csv')\n",
    "    groups = pd.read_csv(groupfname, delimiter='\\t')\n",
    "\n",
    "    # load spike times and cluster IDs\n",
    "    with open(path_to_data + 'spike_clusters.npy', 'rb') as f:\n",
    "        ids = np.load(f).flatten()\n",
    "    with open(path_to_data + 'spike_times.npy', 'rb') as f:\n",
    "        ts = np.load(f).flatten()\n",
    "\n",
    "    # Create the list of our \"good\" labeled units\n",
    "    ids_to_take = groups[(groups.group == 'good')].cluster_id\n",
    "    # Find which spikes beloing to our \"good\" groups\n",
    "    spikes_to_take = []\n",
    "    for i in tqdm(ids_to_take, desc='Selecting only good spikes'):\n",
    "        spikes_to_take.extend((ids == i).nonzero()[0])\n",
    "    # only take spikes that are in our list\n",
    "    ids = np.array(ids[spikes_to_take])\n",
    "    ts = np.array(ts[spikes_to_take]).astype(float) / sampling_frequency\n",
    "\n",
    "    return ids, ts\n",
    "\n",
    "\n",
    "def bin_neuron(spike_times, bin_size=.100, window=None):\n",
    "    \"\"\"\n",
    "    Make binned raster for a single neuron\n",
    "    :param spike_times:\n",
    "    :param bin_size: in sec\n",
    "    :param window:\n",
    "    :return:\n",
    "    \"\"\"\n",
    "    if window is None:\n",
    "        window = [0, spike_times.max()]\n",
    "    bins = np.arange(window[0], window[1] + bin_size, bin_size)\n",
    "    return np.histogram(spike_times, bins)[0]\n",
    "\n",
    "\n",
    "def bin_neurons(spike_times, Neuron_IDs, bin_size=None, window=None, plotose=False):\n",
    "    \"\"\"\n",
    "    Make binned raster for many neurons\n",
    "    :param spike_times:\n",
    "    :param Neuron_IDs:\n",
    "    :param bin_size: in sec\n",
    "    :param window:\n",
    "    :param plotose:\n",
    "    :return:\n",
    "    \"\"\"\n",
    "    if window is None:\n",
    "        window = [0, spike_times.max()]\n",
    "    # the following uses an inline for loop (look it up):\n",
    "    spike_counts = [bin_neuron(spike_times[Neuron_IDs == Neuron_ID], bin_size, window)\n",
    "                    for Neuron_ID in tqdm(np.unique(Neuron_IDs))]\n",
    "    spike_counts = np.vstack(spike_counts)\n",
    "    raster = xr.DataArray(spike_counts, coords=dict(Time=np.arange(window[0], window[1] + bin_size, bin_size)[:-1],\n",
    "                                                    Neuron_ID=range(len(np.unique(Neuron_IDs)))),\n",
    "                          dims=['Neuron_ID', 'Time'])\n",
    "    if plotose:\n",
    "        raster.plot(robust=True)\n",
    "    return raster\n",
    "\n",
    "\n",
    "def identify_down_states(ts, bin_size=.05, number_of_neurons_treshold=20, minimum_time_between_states=0.15):\n",
    "    \"\"\"\n",
    "    Find spontaneous periods of quiecence in spiketimes\n",
    "    :param ts:\n",
    "    :param bin_size:\n",
    "    :param number_of_neurons_treshold:\n",
    "    :param minimum_time_between_states:\n",
    "    :return:\n",
    "    \"\"\"\n",
    "    lfp = bin_neuron(np.sort(ts), bin_size=bin_size)\n",
    "    down_states = np.where(lfp < number_of_neurons_treshold)[0]\n",
    "    down_states_lengths = np.diff(down_states)\n",
    "    print(f'Eliminating {down_states[1:][down_states_lengths < .15 / bin_size].shape} that are too short')\n",
    "    down_states = down_states[1:][down_states_lengths > minimum_time_between_states / bin_size]\n",
    "    print(f'Ended up with {down_states.shape} down states')\n",
    "    # convert into seconds:\n",
    "    down_states = down_states * bin_size\n",
    "    down_states -= .03\n",
    "    print(down_states[(down_states > 63) & (down_states < 68)])  # compare with raster\n",
    "    return lfp, down_states\n",
    "\n",
    "\n",
    "class PETH:\n",
    "    \"\"\"\n",
    "    A collection of functions dealing with peristimulus time histogram\n",
    "    \"\"\"\n",
    "\n",
    "    @staticmethod\n",
    "    def make_psth(trial_starts):\n",
    "        \"\"\"\n",
    "        Simple wrapper creating a dataframe with times we want to lock onto\n",
    "        :param trial_starts: List of times of interest (trials)\n",
    "        :return: spykes object\n",
    "        \"\"\"\n",
    "        trials = pd.DataFrame()\n",
    "        trials['trialStart'] = trial_starts\n",
    "        return trials\n",
    "\n",
    "    @staticmethod\n",
    "    def spykes_get_times(s_ts, s_id, debug=False):\n",
    "        \"\"\"\n",
    "        Use spykes library\n",
    "        :param s_ts:\n",
    "        :param s_id:\n",
    "        :param debug:\n",
    "        :return:\n",
    "        \"\"\"\n",
    "\n",
    "        def print_spyke(spykess):\n",
    "            [print(len(spykess[i].spiketimes)) for i in range(len(spykess))]\n",
    "\n",
    "        from spykes.plot import neurovis\n",
    "        s_id = s_id.astype('int')\n",
    "        neuron_list = list()\n",
    "        for iu in np.unique(s_id):\n",
    "            spike_times = s_ts[s_id == iu]\n",
    "            if len(spike_times) < 2:\n",
    "                if debug:\n",
    "                    print('Too few spiketimes in this unit: ' + str(spike_times))\n",
    "                else:\n",
    "                    pass  # neuron_list.append(NeuroVis([],'ram'+str(iu)))\n",
    "            else:\n",
    "                neuron = neurovis.NeuroVis(spike_times, name='ram' + str(iu))\n",
    "                neuron_list.append(neuron)\n",
    "\n",
    "        if debug:\n",
    "            print_spyke(neuron_list)\n",
    "        return neuron_list\n",
    "\n",
    "    @staticmethod\n",
    "    def spykes_summary(spikes, spykes_df, event, window=[-100, 100], bin_size=10, fr_thr=.1, plotose=True):\n",
    "        \"\"\"\n",
    "\n",
    "        :param spikes:\n",
    "        :param spykes_df:\n",
    "        :param event:\n",
    "        :param window:\n",
    "        :param bin_size:\n",
    "        :param fr_thr:\n",
    "        :param plotose:\n",
    "        :return:\n",
    "        \"\"\"\n",
    "        import spykes\n",
    "        assert window[1] - window[0] > 0, 'Window size must be greater than zero!'\n",
    "        # filter firing rate\n",
    "        spikes = [i for i in spikes if i.firingrate > fr_thr]\n",
    "        pop = spykes.plot.popvis.PopVis(spikes)\n",
    "        # calculate psth\n",
    "        mean_psth = pop.get_all_psth(event=event, df=spykes_df, window=window, binsize=bin_size, plot=False)\n",
    "        assert mean_psth['data'][0].size > 0, 'Empty group PSTH!'\n",
    "        if plotose:\n",
    "            # % plot heatmap of average psth\n",
    "            _ = plt.figure(figsize=(10, 10))\n",
    "            #        fig.subplots_adjust(hspace=.3)\n",
    "            # set_trace()\n",
    "            pop.plot_heat_map(mean_psth, sortby=None, sortorder='ascend', normalize=None,\n",
    "                              colors=['viridis'])  # or latency\n",
    "\n",
    "            # %% Population PSTH\n",
    "            plt.figure()\n",
    "            pop.plot_population_psth(all_psth=mean_psth, event_name='Event',\n",
    "                                     colors=([.5, .5, .5], [0, .6, 0]))\n",
    "\n",
    "        return pop, mean_psth\n",
    "\n",
    "\n",
    "download_data()"
   ]
  },
  {
   "cell_type": "code",
   "execution_count": null,
   "metadata": {
    "pycharm": {
     "name": "#%%\n"
    },
    "slideshow": {
     "slide_type": "slide"
    }
   },
   "outputs": [],
   "source": [
    "# Import basic libraries\n",
    "import matplotlib.pylab as plt\n",
    "import numpy as np\n",
    "from tqdm import tqdm"
   ]
  },
  {
   "cell_type": "code",
   "execution_count": null,
   "metadata": {
    "cellView": "form",
    "pycharm": {
     "name": "#%%\n"
    }
   },
   "outputs": [],
   "source": [
    "# @title Figure settings\n",
    "\n",
    "%config InlineBackend.figure_format = 'retina'\n",
    "\n",
    "plt.style.use(\"https://raw.githubusercontent.com/NeuromatchAcademy/course-content/master/nma.mplstyle\")"
   ]
  },
  {
   "cell_type": "code",
   "execution_count": null,
   "metadata": {
    "pycharm": {
     "metadata": false,
     "name": "#%% Load spikes\n"
    },
    "slideshow": {
     "slide_type": "slide"
    }
   },
   "outputs": [],
   "source": [
    "Neuron_IDs_huge, spike_times_all_neurons_huge = load_spikes_from_phy('data/')"
   ]
  },
  {
   "cell_type": "markdown",
   "metadata": {
    "pycharm": {
     "metadata": false,
     "name": "#%% md\n"
    },
    "slideshow": {
     "slide_type": "slide"
    }
   },
   "source": [
    "# Section 1. Inspect variables"
   ]
  },
  {
   "cell_type": "code",
   "execution_count": null,
   "metadata": {
    "pycharm": {
     "metadata": false,
     "name": "#%%\n"
    },
    "slideshow": {
     "slide_type": "slide"
    }
   },
   "source": [
    "# Let's inspect the spikes\n",
    "print(Neuron_IDs_huge)\n",
    "print(spike_times_all_neurons_huge)"
   ],
   "outputs": []
  },
  {
   "cell_type": "markdown",
   "metadata": {
    "pycharm": {
     "metadata": false,
     "name": "#%% md\n"
    },
    "slideshow": {
     "slide_type": "fragment"
    }
   },
   "source": [
    "### Exercise 1\n",
    "What are the dimensions of each variable?"
   ]
  },
  {
   "cell_type": "code",
   "metadata": {
    "pycharm": {
     "metadata": false,
     "name": "#%%\n"
    },
    "slideshow": {
     "slide_type": "slide"
    }
   },
   "outputs": [],
   "source": [
    "# Limit the number of spikes we're dealing with but keep full variables\n",
    "Neuron_IDs = Neuron_IDs_huge[spike_times_all_neurons_huge < 70]\n",
    "spike_times_all_neurons = spike_times_all_neurons_huge[spike_times_all_neurons_huge < 70]"
   ]
  },
  {
   "cell_type": "code",
   "execution_count": null,
   "metadata": {
    "pycharm": {
     "metadata": false,
     "name": "#%%\n"
    },
    "slideshow": {
     "slide_type": "slide"
    }
   },
   "outputs": [],
   "source": [
    "# Let's inspect the timestamps from one neuron\n",
    "id_of_interest = Neuron_IDs[300]\n",
    "spike_times_of_interest = spike_times_all_neurons[Neuron_IDs == id_of_interest]\n",
    "print(spike_times_of_interest)"
   ]
  },
  {
   "cell_type": "code",
   "execution_count": null,
   "metadata": {
    "pycharm": {
     "metadata": false,
     "name": "#%%\n"
    },
    "slideshow": {
     "slide_type": "slide"
    }
   },
   "outputs": [],
   "source": [
    "# Plot spiketimes\n",
    "plt.plot(spike_times_of_interest);"
   ]
  },
  {
   "cell_type": "markdown",
   "metadata": {
    "pycharm": {
     "metadata": false,
     "name": "#%%  visualize raster ===============================================\n"
    },
    "slideshow": {
     "slide_type": "fragment"
    }
   },
   "source": [
    "## What are neurons' identities in this plot?\n",
    "## Why is the curve progressively rising?\n",
    "## What's on the x- and y- axes?\n"
   ]
  },
  {
   "cell_type": "markdown",
   "metadata": {
    "pycharm": {
     "metadata": false,
     "name": "#%% md\n"
    },
    "slideshow": {
     "slide_type": "fragment"
    }
   },
   "source": [
    "### Exercise 2\n",
    "Let's inspect the timestamps from one neuron - version 2"
   ]
  },
  {
   "cell_type": "code",
   "execution_count": null,
   "metadata": {
    "pycharm": {
     "name": "#%%\n"
    }
   },
   "outputs": [],
   "source": [
    "plt.plot(spike_times_of_interest)\n",
    "plt.title('Timestamps of a neuron')\n",
    "plt.ylabel('Time')\n",
    "plt.xlabel('Number of spikes');"
   ]
  },
  {
   "cell_type": "markdown",
   "metadata": {
    "pycharm": {},
    "slideshow": {
     "slide_type": "fragment"
    }
   },
   "source": [
    " What is a plot like this good for? (Hint: what would the change in firing rate look like?)"
   ]
  },
  {
   "cell_type": "markdown",
   "metadata": {
    "pycharm": {
     "metadata": false,
     "name": "#%% md\n"
    },
    "slideshow": {
     "slide_type": "slide"
    }
   },
   "source": [
    "### Exercise 3\n",
    "Visualize a neuron's spike times using a For loop"
   ]
  },
  {
   "cell_type": "markdown",
   "metadata": {
    "pycharm": {
     "name": "#%% md\n"
    }
   },
   "source": [
    "**Suggestions**\n",
    "* Loop over time stamps of action potentials\n",
    "* At each time stamp\n",
    "   * Make a vertical tick at that value of time on the x axis\n",
    "   * What should the y axis be?"
   ]
  },
  {
   "cell_type": "code",
   "execution_count": null,
   "metadata": {
    "pycharm": {
     "name": "#%%\n"
    }
   },
   "outputs": [],
   "source": [
    "## TODO for students:\n",
    "# Uncomment below to get started\n",
    "\n",
    "\n",
    "# Raster of one neuron, by hand\n",
    "# for timestamp in spike_times_of_interest:\n",
    "#     plt.scatter(x=..., y=..., marker='|', color='black')"
   ]
  },
  {
   "cell_type": "code",
   "execution_count": null,
   "metadata": {
    "cellView": "form",
    "pycharm": {
     "metadata": false,
     "name": "#%%\n"
    },
    "slideshow": {
     "slide_type": "slide"
    }
   },
   "outputs": [],
   "source": [
    "# to_remove solution\n",
    "\n",
    "# Raster of one neuron, by hand\n",
    "for timestamp in spike_times_of_interest:\n",
    "    plt.scatter(x=timestamp, y=1, marker='|', color='black')"
   ]
  },
  {
   "cell_type": "markdown",
   "metadata": {},
   "source": [
    "### Exercise 4\n",
    "Visualize a neuron's spike times without a for loop"
   ]
  },
  {
   "cell_type": "code",
   "execution_count": null,
   "metadata": {
    "pycharm": {
     "name": "#%%\n"
    }
   },
   "outputs": [],
   "source": [
    "# to_remove solution\n",
    "# Whole raster for one neuron, no loop\n",
    "plt.scatter(x=spike_times_of_interest,\n",
    "            y=np.ones(spike_times_of_interest.shape[0]),\n",
    "            marker='|', color='black');"
   ]
  },
  {
   "cell_type": "code",
   "execution_count": null,
   "metadata": {
    "pycharm": {
     "metadata": false,
     "name": "#%%\n"
    },
    "slideshow": {
     "slide_type": "slide"
    }
   },
   "outputs": [],
   "source": [
    "## TODO for students:\n",
    "# Uncomment below to get started\n",
    "\n",
    "# Whole raster for one neuron, no loop\n",
    "# plt.scatter(x=...,\n",
    "#             y=np.ones(spike_times_of_interest.shape...),\n",
    "#             marker='|', color='black');"
   ]
  },
  {
   "cell_type": "markdown",
   "metadata": {},
   "source": [
    "### Exercise 4\n",
    "Visualize all neurons' spike times"
   ]
  },
  {
   "cell_type": "code",
   "execution_count": null,
   "metadata": {
    "pycharm": {
     "name": "#%% visualize binned raster ===============================================\n"
    }
   },
   "outputs": [],
   "source": [
    "# to_remove solution\n",
    "# For all neurons now\n",
    "plt.scatter(x=spike_times_all_neurons,\n",
    "            y=Neuron_IDs,\n",
    "            marker='|', color='black', alpha=.7);"
   ]
  },
  {
   "cell_type": "code",
   "execution_count": null,
   "metadata": {
    "pycharm": {
     "metadata": false,
     "name": "#%% visualize binned raster ===============================================\n"
    },
    "slideshow": {
     "slide_type": "slide"
    }
   },
   "outputs": [],
   "source": [
    "## TODO for students:\n",
    "# Uncomment below to get started\n",
    "\n",
    "# For all neurons now\n",
    "# plt.scatter(x=...,\n",
    "#             y=...,\n",
    "#             marker='|', color='black', alpha=.7);"
   ]
  },
  {
   "cell_type": "markdown",
   "metadata": {
    "pycharm": {
     "metadata": false,
     "name": "#%% md\n"
    },
    "slideshow": {
     "slide_type": "slide"
    }
   },
   "source": [
    "### Exercise 5\n",
    "Binned raster\n"
   ]
  },
  {
   "cell_type": "code",
   "execution_count": null,
   "metadata": {
    "pycharm": {
     "metadata": false,
     "name": "#%%\n"
    },
    "slideshow": {
     "slide_type": "slide"
    }
   },
   "outputs": [],
   "source": [
    "# Bin neurons\n",
    "raster = bin_neurons(spike_times_all_neurons, Neuron_IDs, bin_size=.05)\n",
    "raster"
   ]
  },
  {
   "cell_type": "code",
   "execution_count": null,
   "metadata": {
    "pycharm": {
     "name": "#%%\n"
    }
   },
   "outputs": [],
   "source": [
    "# to_remove solution\n",
    "raster.plot(x='Time',\n",
    "            y='Neuron_ID',\n",
    "            robust=True);"
   ]
  },
  {
   "cell_type": "code",
   "execution_count": null,
   "metadata": {
    "pycharm": {
     "name": "#%%\n"
    }
   },
   "outputs": [],
   "source": [
    "## TODO for students:\n",
    "# Uncomment below to get started\n",
    "\n",
    "# raster.plot(x=...,\n",
    "#             y=...,\n",
    "#             robust=True);"
   ]
  },
  {
   "cell_type": "markdown",
   "metadata": {
    "pycharm": {
     "name": "#%% md\n"
    }
   },
   "source": [
    "### Exercise 6\n",
    "Interactive version including the whole dataset"
   ]
  },
  {
   "cell_type": "code",
   "execution_count": null,
   "metadata": {
    "pycharm": {
     "name": "#%%\n"
    }
   },
   "outputs": [],
   "source": [
    "## TODO for students:\n",
    "# Uncomment below to plot interactive full dataset. Zoom in on areas of the raster that catch your eye\n",
    "\n",
    "\n",
    "# import holoviews as hv\n",
    "# import hvplot.xarray # noqa\n",
    "# hv.extension('bokeh')\n",
    "# raster_huge = bin_neurons(spike_times_all_neurons_huge, Neuron_IDs_huge, bin_size=.12)\n",
    "\n",
    "# raster_huge.hvplot(x='Time', y='Neuron_ID', clim=(0,12)).opts(cmap='viridis')"
   ]
  },
  {
   "cell_type": "markdown",
   "metadata": {
    "pycharm": {
     "name": "#%% md\n"
    },
    "slideshow": {
     "slide_type": "slide"
    }
   },
   "source": [
    "### Exercise 7\n",
    "Slice dataset to save interesting times/neurons\n",
    "Note: Your solution will most likely look different from mine. We are just looking for area of the\n",
    "raster with striking features."
   ]
  },
  {
   "cell_type": "code",
   "execution_count": null,
   "metadata": {
    "pycharm": {
     "name": "#%%\n"
    }
   },
   "outputs": [],
   "source": [
    "# to_remove solution\n",
    "raster.sel(Neuron_ID=slice(20, 1200),\n",
    "           Time=slice(60, 65)\n",
    "           ).plot(robust=True);"
   ]
  },
  {
   "cell_type": "code",
   "execution_count": null,
   "metadata": {
    "pycharm": {
     "name": "#%%\n"
    }
   },
   "outputs": [],
   "source": [
    "## TODO for students:\n",
    "# Uncomment below to get started\n",
    "\n",
    "# raster.sel(...=slice(..., ...),\n",
    "#            ...=slice(..., ...)\n",
    "#           ).plot(robust=True);"
   ]
  },
  {
   "cell_type": "markdown",
   "metadata": {},
   "source": [
    "### Exercise 8\n",
    "PETH\n",
    "\n",
    "This dataset includes some behavior. However, let's imagine we don't know what behavior is happening and when.\n",
    " Can you think of a way to zero in on some features of spikes you found earlier?\n",
    "\n",
    "\n",
    "* Suggested steps:\n",
    "   * Make a function that returns raster 1/4 second before and 1/4 second after a certain event"
   ]
  },
  {
   "cell_type": "code",
   "execution_count": null,
   "metadata": {
    "pycharm": {
     "name": "#%%\n"
    }
   },
   "outputs": [],
   "source": [
    "multiunit_activity, down_states = identify_down_states(spike_times_all_neurons_huge)\n",
    "\n",
    "# PETH based on homemade code\n",
    "raster = bin_neurons(spike_times_all_neurons_huge, Neuron_IDs_huge, bin_size=.01)\n",
    "# Select one neuron\n",
    "raster241 = raster.sel(Neuron_ID=241)"
   ]
  },
  {
   "cell_type": "code",
   "execution_count": null,
   "metadata": {
    "pycharm": {
     "name": "#%%\n"
    }
   },
   "outputs": [],
   "source": [
    "# to_remove solution\n",
    "def half_a_second(raster, timestamp):\n",
    "    return raster.sel(Time=slice(timestamp - .250,\n",
    "                                 timestamp + .250)).values[:50]\n",
    "\n",
    "\n",
    "psth = [half_a_second(raster241, timestamp) for timestamp in down_states]\n",
    "psth = np.vstack(psth)\n",
    "\n",
    "plt.pcolormesh(psth);"
   ]
  },
  {
   "cell_type": "code",
   "execution_count": null,
   "metadata": {
    "pycharm": {
     "name": "#%%\n"
    }
   },
   "outputs": [],
   "source": [
    "## TODO for students:\n",
    "# Uncomment below to get started\n",
    "# def half_a_second(raster, timestamp):\n",
    "#     return raster.sel(Time=slice(timestamp - ...,\n",
    "#                                  timestamp + ...)).values[:100]\n",
    "#\n",
    "#\n",
    "# psth = [half_a_second(raster241, ...) for ... in down_states]\n",
    "# psth = np.vstack(psth)\n",
    "#\n",
    "# plt.pcolormesh(psth);"
   ]
  },
  {
   "cell_type": "markdown",
   "metadata": {},
   "source": [
    "### Exercise 8\n",
    "PETH for all neurons"
   ]
  },
  {
   "cell_type": "code",
   "execution_count": null,
   "metadata": {
    "lines_to_next_cell": 0,
    "pycharm": {
     "name": "#%% \n"
    },
    "slideshow": {
     "slide_type": "slide"
    },
    "title": "visualize raster ==============================================="
   },
   "outputs": [],
   "source": [
    "# make a psth object using a toolbox:\n",
    "psth_object = PETH.make_psth(down_states)\n",
    "# make raster using toolbox:\n",
    "spykes_times = PETH.spykes_get_times(spike_times_all_neurons_huge, Neuron_IDs_huge)\n",
    "# Get mean PSTH for all neurons\n",
    "pop, all_psth = PETH.spykes_summary(spikes=spykes_times, spykes_df=psth_object,\n",
    "                                    event='trialStart', window=[-300, 400], bin_size=5, plotose=True)"
   ]
  },
  {
   "cell_type": "code",
   "execution_count": null,
   "metadata": {
    "pycharm": {
     "name": "#%%\n"
    }
   },
   "outputs": [],
   "source": [
    "# Plot mean PSTH for all neurons\n",
    "pop.plot_heat_map(all_psth, sortby='rate', sortorder='ascend', normalize=None, colors=['viridis'])  # or latency\n",
    "## Note the periodicity\n",
    "## Q: Do you think if you flip the detection, the result will be similar and opposite? Hint: Inspect the raster.\n",
    "# Test your hypothesis by setting down_states = np.where(multiunit_activity > 90)[0]"
   ]
  }
 ],
 "metadata": {
  "celltoolbar": "Slideshow",
  "colab": {
   "collapsed_sections": [],
   "include_colab_link": true,
   "name": "spikes_tutorial",
   "toc_visible": true
  },
  "jupytext": {
   "cell_metadata_filter": "title,-all",
   "main_language": "python",
   "notebook_metadata_filter": "-all"
  },
  "kernel": {
   "display_name": "Python 3",
   "language": "python",
   "name": "python3"
  },
  "kernelspec": {
   "display_name": "Python 3",
   "language": "python",
   "name": "python3"
  },
  "language_info": {
   "codemirror_mode": {
    "name": "ipython",
    "version": 3
   },
   "file_extension": ".py",
   "mimetype": "text/x-python",
   "name": "python",
   "nbconvert_exporter": "python",
   "pygments_lexer": "ipython3",
   "version": "3.6.11"
  },
  "rise": {
   "autolaunch": true,
   "scroll": true,
   "transition": "None"
  }
 },
 "nbformat": 4,
 "nbformat_minor": 2
}