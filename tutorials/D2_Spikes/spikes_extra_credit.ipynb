{
 "cells": [
  {
   "cell_type": "markdown",
   "source": [
    "# Dynamical Neuroscience in Ukraine Academy: Day 6\n",
    "# Real data with Python\n",
    "Twitter: @mmyros\n",
    "\n",
    "__Content creator:__ Maxym Myroshnychenko\n",
    "\n",
    "__Content reviewer:__ Anneke Duin\n",
    "\n",
    "__Data ownership:__ UCL Cortexlab data.cortexlab.net"
   ],
   "metadata": {
    "collapsed": false
   }
  },
  {
   "cell_type": "code",
   "execution_count": 1,
   "outputs": [
    {
     "name": "stdout",
     "output_type": "stream",
     "text": [
      "Downloading data... Please wait. Should take less than 1 min\n"
     ]
    }
   ],
   "source": [
    "# @title Helper functions\n",
    "# Install packages\n",
    "# Warning:the following two commands will not work on windows. use pip install but without exclamation mark >/dev/null\n",
    "!pip install -q -U hvplot bokeh\n",
    "!pip install -q matplotlib pandas xarray numpy tqdm spykes\n",
    "import os\n",
    "\n",
    "import pandas as pd\n",
    "import xarray as xr\n",
    "import requests\n",
    "from pathlib import Path\n",
    "import zipfile\n",
    "\n",
    "\n",
    "def download_data():\n",
    "    print('Downloading data... Please wait. Should take less than 1 min')\n",
    "    # Get link:\n",
    "    r = requests.get('http://data.cortexlab.net/singlePhase3/data/dataset.zip')\n",
    "    path = Path('data/dataset.zip')\n",
    "    path.parent.mkdir(exist_ok=True)\n",
    "    if not path.exists():\n",
    "        with open(path, \"wb\") as fid:\n",
    "            # Write out content of link:\n",
    "            fid.write(r.content)\n",
    "    # Unzip\n",
    "    with zipfile.ZipFile(path, 'r') as zip_ref:\n",
    "        zip_ref.extractall(path.parent)\n",
    "\n",
    "\n",
    "def load_spikes_from_phy(path_to_data='/Users/myroshnychenkm2/Downloads/dataset/', sampling_frequency=30000):\n",
    "    \"\"\"\n",
    "    Get spikes from a kilosort/phy result folder\n",
    "    :param path_to_data:\n",
    "    :param sampling_frequency:\n",
    "    :return:\n",
    "    :id: neuron id, 1xN\n",
    "    :ts: corresponding spiketime, 1xN\n",
    "    \"\"\"\n",
    "    groupfname = os.path.join(path_to_data, 'cluster_groups.csv')\n",
    "    groups = pd.read_csv(groupfname, delimiter='\\t')\n",
    "\n",
    "    # load spike times and cluster IDs\n",
    "    with open(path_to_data + 'spike_clusters.npy', 'rb') as f:\n",
    "        ids = np.load(f).flatten()\n",
    "    with open(path_to_data + 'spike_times.npy', 'rb') as f:\n",
    "        ts = np.load(f).flatten()\n",
    "\n",
    "    # Create the list of our \"good\" labeled units\n",
    "    ids_to_take = groups[(groups.group == 'good')].cluster_id\n",
    "    # Find which spikes beloing to our \"good\" groups\n",
    "    spikes_to_take = []\n",
    "    for i in tqdm(ids_to_take, desc='Selecting only good spikes'):\n",
    "        spikes_to_take.extend((ids == i).nonzero()[0])\n",
    "    # only take spikes that are in our list\n",
    "    ids = np.array(ids[spikes_to_take])\n",
    "    ts = np.array(ts[spikes_to_take]).astype(float) / sampling_frequency\n",
    "\n",
    "    return ids, ts\n",
    "\n",
    "\n",
    "def bin_neuron(spike_times, bin_size=.100, window=None):\n",
    "    \"\"\"\n",
    "    Make binned raster for a single neuron\n",
    "    :param spike_times:\n",
    "    :param bin_size: in sec\n",
    "    :param window:\n",
    "    :return:\n",
    "    \"\"\"\n",
    "    if window is None:\n",
    "        window = [0, spike_times.max()]\n",
    "    bins = np.arange(window[0], window[1] + bin_size, bin_size)\n",
    "    return np.histogram(spike_times, bins)[0]\n",
    "\n",
    "\n",
    "download_data()"
   ],
   "metadata": {
    "collapsed": false,
    "pycharm": {
     "name": "#%%\n"
    }
   }
  },
  {
   "cell_type": "code",
   "execution_count": 2,
   "outputs": [],
   "source": [
    "# Import basic libraries\n",
    "import matplotlib.pylab as plt\n",
    "import numpy as np\n",
    "from tqdm import tqdm"
   ],
   "metadata": {
    "collapsed": false,
    "pycharm": {
     "name": "#%%\n"
    }
   }
  },
  {
   "cell_type": "code",
   "execution_count": 3,
   "metadata": {
    "collapsed": true
   },
   "outputs": [
    {
     "name": "stderr",
     "output_type": "stream",
     "text": [
      "Selecting only good spikes: 100%|██████████| 242/242 [00:03<00:00, 66.29it/s]\n"
     ]
    }
   ],
   "source": [
    "Neuron_IDs_huge, spike_times_all_neurons_huge = load_spikes_from_phy('data/')"
   ]
  },
  {
   "cell_type": "markdown",
   "source": [
    "# Extra credit 1\n",
    "Plot a neuron's ISI distribution\n",
    "Review: What are interspike intervals (ISIs)? We covered this in lecture"
   ],
   "metadata": {
    "collapsed": false
   }
  },
  {
   "cell_type": "code",
   "execution_count": 4,
   "outputs": [
    {
     "ename": "NameError",
     "evalue": "name 'Neuron_IDs' is not defined",
     "output_type": "error",
     "traceback": [
      "\u001B[0;31m---------------------------------------------------------------------------\u001B[0m",
      "\u001B[0;31mNameError\u001B[0m                                 Traceback (most recent call last)",
      "\u001B[0;32m<ipython-input-4-6e0cd70d3eaa>\u001B[0m in \u001B[0;36m<module>\u001B[0;34m\u001B[0m\n\u001B[1;32m      1\u001B[0m \u001B[0mid_of_interest\u001B[0m \u001B[0;34m=\u001B[0m \u001B[0mNeuron_IDs_huge\u001B[0m\u001B[0;34m[\u001B[0m\u001B[0;36m241\u001B[0m\u001B[0;34m]\u001B[0m\u001B[0;34m\u001B[0m\u001B[0;34m\u001B[0m\u001B[0m\n\u001B[0;32m----> 2\u001B[0;31m \u001B[0mone_neuron_spike_times\u001B[0m \u001B[0;34m=\u001B[0m \u001B[0mspike_times_all_neurons_huge\u001B[0m\u001B[0;34m[\u001B[0m\u001B[0mNeuron_IDs\u001B[0m \u001B[0;34m==\u001B[0m \u001B[0mid_of_interest\u001B[0m\u001B[0;34m]\u001B[0m\u001B[0;34m\u001B[0m\u001B[0;34m\u001B[0m\u001B[0m\n\u001B[0m\u001B[1;32m      3\u001B[0m \u001B[0;34m\u001B[0m\u001B[0m\n\u001B[1;32m      4\u001B[0m \u001B[0;34m\u001B[0m\u001B[0m\n",
      "\u001B[0;31mNameError\u001B[0m: name 'Neuron_IDs' is not defined"
     ]
    }
   ],
   "source": [
    "id_of_interest = Neuron_IDs_huge[241]\n",
    "one_neuron_spike_times = spike_times_all_neurons_huge[Neuron_IDs_huge == id_of_interest]\n"
   ],
   "metadata": {
    "collapsed": false,
    "pycharm": {
     "name": "#%%\n"
    }
   }
  },
  {
   "cell_type": "code",
   "execution_count": null,
   "outputs": [],
   "source": [
    "isis=np.diff(one_neuron_spike_times)\n",
    "x=np.arange(0, 4, .01)\n",
    "\n",
    "plt.hist(isis, bins=x, density=True)\n",
    "plt.xlabel('Bins of interspike intervals')\n",
    "plt.ylabel('Count per bin');"
   ],
   "metadata": {
    "collapsed": false,
    "pycharm": {
     "name": "#%%\n"
    }
   }
  },
  {
   "cell_type": "markdown",
   "source": [
    "**Questions**\n",
    "1. Are there more long intervals between spikes, or short ones?\n",
    "2. During periods of high neuronal activity, should there be more long intervals, or short ones?"
   ],
   "metadata": {
    "collapsed": false
   }
  },
  {
   "cell_type": "code",
   "execution_count": null,
   "outputs": [],
   "source": [
    "# TODO for students:\n",
    "# Find the mean of ISIs in this neuron"
   ],
   "metadata": {
    "collapsed": false,
    "pycharm": {
     "name": "#%%\n"
    }
   }
  },
  {
   "cell_type": "code",
   "execution_count": null,
   "outputs": [],
   "source": [
    "# to_remove solution\n",
    "sum(isis)/len(isis)"
   ],
   "metadata": {
    "collapsed": false,
    "pycharm": {
     "name": "#%%\n"
    }
   }
  },
  {
   "cell_type": "markdown",
   "source": [
    "**Questions**\n",
    "1. How does this describe our ISI distribution? How would the mean ISI change for a slower neuron?\n",
    "A faster neuron?"
   ],
   "metadata": {
    "collapsed": false
   }
  },
  {
   "cell_type": "markdown",
   "source": [
    "# Extra credit 2\n",
    "Fit a statistial model to reproduce a neuron's ISI distribution\n",
    "\n",
    "Prerequisites:\n",
    "1. Understand the concept of distribution\n",
    "1. Play with sliders at https://distribution-explorer.github.io/continuous/gamma.html#pdf-and-cdf-plots\n",
    "\n",
    "Questions:\n",
    "1. Look at the PDF plot (left). Does it resemble the ISI distribution at any slider positions? What are they?\n",
    "1. What does changing gamma distribution's mean (alpha, a.k.a. shape) do?\n",
    "1. What about its variance (beta, a.k.a. scale)?\n"
   ],
   "metadata": {
    "collapsed": false
   }
  },
  {
   "cell_type": "code",
   "execution_count": null,
   "outputs": [],
   "source": [
    "# @title Maintenance\n",
    "# Version for Colab:\n",
    "!pip install -q numpyro@git+https://github.com/pyro-ppl/numpyro arviz\n",
    "# Version for Python on you own computer:\n",
    "# !pip install numpyro jax jaxlib arviz scipy\n",
    "from jax import random\n",
    "import numpyro.distributions as dist\n",
    "from numpyro.infer import MCMC, NUTS\n",
    "import arviz as az\n",
    "import numpyro\n",
    "import scipy.stats as stats"
   ],
   "metadata": {
    "collapsed": false,
    "pycharm": {
     "name": "#%%\n"
    }
   }
  },
  {
   "cell_type": "code",
   "execution_count": null,
   "outputs": [],
   "source": [
    "def model(isis):\n",
    "    # Our initial broad guesses at scale and shape:\n",
    "    scale = numpyro.sample('scale', dist.Gamma(1., 4))\n",
    "    shape = numpyro.sample('shape', dist.Gamma(1., 4))\n",
    "    # Provide obvserved data:\n",
    "    numpyro.sample('obs', dist.Gamma(scale, shape), obs=isis)\n",
    "\n",
    "\n",
    "# Try to reproduce ISIs by drawing some samples from our model.\n",
    "# It will arrive at an estimate of scale and shape\n",
    "mcmc = MCMC(NUTS(model), num_warmup=1000, num_samples=2000)\n",
    "mcmc.run(random.PRNGKey(0),isis)\n",
    "\n",
    "# Convert to dataarray\n",
    "data = az.from_numpyro(mcmc)\n",
    "# Take a mean\n",
    "best_guess=data.posterior.mean(['chain','draw'])"
   ],
   "metadata": {
    "collapsed": false,
    "pycharm": {
     "name": "#%%\n"
    }
   }
  },
  {
   "cell_type": "code",
   "execution_count": null,
   "outputs": [],
   "source": [
    "best_guess"
   ],
   "metadata": {
    "collapsed": false,
    "pycharm": {
     "name": "#%%\n"
    }
   }
  },
  {
   "cell_type": "code",
   "execution_count": null,
   "outputs": [],
   "source": [
    "isi_fit=stats.gamma.pdf(x=x,\n",
    "                    a=best_guess['scale'],\n",
    "                    scale=best_guess['shape'])\n",
    "\n",
    "plt.plot(x, isi_fit)\n",
    "plt.hist(isis, bins=x, density=True);\n"
   ],
   "metadata": {
    "collapsed": false,
    "pycharm": {
     "name": "#%%\n"
    }
   }
  }
 ],
 "metadata": {
  "kernelspec": {
   "display_name": "Python 3",
   "language": "python",
   "name": "python3"
  },
  "language_info": {
   "codemirror_mode": {
    "name": "ipython",
    "version": 2
   },
   "file_extension": ".py",
   "mimetype": "text/x-python",
   "name": "python",
   "nbconvert_exporter": "python",
   "pygments_lexer": "ipython2",
   "version": "2.7.6"
  }
 },
 "nbformat": 4,
 "nbformat_minor": 0
}
