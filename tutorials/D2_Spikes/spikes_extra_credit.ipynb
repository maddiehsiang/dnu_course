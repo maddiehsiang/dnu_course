{
 "cells": [
  {
   "cell_type": "code",
   "execution_count": null,
   "metadata": {
    "collapsed": true
   },
   "outputs": [],
   "source": []
  },
  {
   "cell_type": "markdown",
   "source": [
    "# Extra credit 1\n",
    "Plot a neuron's ISI distribution\n",
    "Review: What are interspike intervals (ISIs)? We covered this in lecture"
   ],
   "metadata": {
    "collapsed": false
   }
  },
  {
   "cell_type": "code",
   "execution_count": null,
   "outputs": [],
   "source": [
    "id_of_interest = Neuron_IDs[241]\n",
    "one_neuron_spike_times = spike_times_all_neurons[Neuron_IDs == id_of_interest]\n",
    "\n",
    "one_raster=raster.sel(Neuron_ID=241)"
   ],
   "metadata": {
    "collapsed": false,
    "pycharm": {
     "name": "#%%\n"
    }
   }
  },
  {
   "cell_type": "code",
   "execution_count": null,
   "outputs": [],
   "source": [
    "isis=np.diff(one_neuron_spike_times)\n",
    "x=np.arange(0, 4, .01)\n",
    "\n",
    "plt.hist(isis, bins=x, density=True)\n",
    "plt.xlabel('Bins of interspike intervals')\n",
    "plt.ylabel('Count per bin');"
   ],
   "metadata": {
    "collapsed": false,
    "pycharm": {
     "name": "#%%\n"
    }
   }
  },
  {
   "cell_type": "markdown",
   "source": [
    "**Questions**\n",
    "1. Are there more long intervals between spikes, or short ones?\n",
    "2. During periods of high neuronal activity, should there be more long intervals, or short ones?"
   ],
   "metadata": {
    "collapsed": false
   }
  },
  {
   "cell_type": "code",
   "execution_count": null,
   "outputs": [],
   "source": [
    "# TODO for students:\n",
    "# Find the mean of ISIs in this neuron"
   ],
   "metadata": {
    "collapsed": false,
    "pycharm": {
     "name": "#%%\n"
    }
   }
  },
  {
   "cell_type": "code",
   "execution_count": null,
   "outputs": [],
   "source": [
    "# to_remove solution\n",
    "sum(isis)/len(isis)"
   ],
   "metadata": {
    "collapsed": false,
    "pycharm": {
     "name": "#%%\n"
    }
   }
  },
  {
   "cell_type": "markdown",
   "source": [
    "**Questions**\n",
    "1. How does this describe our ISI distribution? How would the mean ISI change for a slower neuron?\n",
    "A faster neuron?"
   ],
   "metadata": {
    "collapsed": false
   }
  },
  {
   "cell_type": "markdown",
   "source": [
    "# Extra credit 2\n",
    "Fit a statistial model to reproduce a neuron's ISI distribution\n",
    "\n",
    "Prerequisites: \n",
    "1. Understand the concept of distribution\n",
    "1. Play with sliders at https://distribution-explorer.github.io/continuous/gamma.html#pdf-and-cdf-plots\n",
    "\n",
    "Questions:\n",
    "1. Look at the PDF plot (left). Does it resemble the ISI distribution at any slider positions? What are they?\n",
    "1. What does changing gamma distribution's mean (alpha, a.k.a. shape) do?\n",
    "1. What about its variance (beta, a.k.a. scale)?\n"
   ],
   "metadata": {
    "collapsed": false
   }
  },
  {
   "cell_type": "code",
   "execution_count": null,
   "outputs": [],
   "source": [
    "# @title Maintenance\n",
    "# Version for Colab:\n",
    "!pip install -q numpyro@git+https://github.com/pyro-ppl/numpyro arviz\n",
    "# Version for Python on you own computer:\n",
    "# !pip install numpyro jax jaxlib arviz scipy\n",
    "from jax import random\n",
    "import numpyro.distributions as dist\n",
    "from numpyro.infer import MCMC, NUTS\n",
    "import arviz as az\n",
    "import numpyro\n",
    "import scipy.stats as stats"
   ],
   "metadata": {
    "collapsed": false,
    "pycharm": {
     "name": "#%%\n"
    }
   }
  },
  {
   "cell_type": "code",
   "execution_count": null,
   "outputs": [],
   "source": [
    "def model(isis):\n",
    "    # Our initial broad guesses at scale and shape:\n",
    "    scale = numpyro.sample('scale', dist.Gamma(1., 4))\n",
    "    shape = numpyro.sample('shape', dist.Gamma(1., 4))\n",
    "    # Provide obvserved data:\n",
    "    numpyro.sample('obs', dist.Gamma(scale, shape), obs=isis)\n",
    "\n",
    "\n",
    "# Try to reproduce ISIs by drawing some samples from our model.\n",
    "# It will arrive at an estimate of scale and shape\n",
    "mcmc = MCMC(NUTS(model), 1000, 2000)\n",
    "mcmc.run(random.PRNGKey(0),isis)\n",
    "\n",
    "# Convert to dataarray\n",
    "data = az.from_numpyro(mcmc)\n",
    "# Take a mean\n",
    "best_guess=data.posterior.mean(['chain','draw'])"
   ],
   "metadata": {
    "collapsed": false,
    "pycharm": {
     "name": "#%%\n"
    }
   }
  },
  {
   "cell_type": "code",
   "execution_count": null,
   "outputs": [],
   "source": [
    "best_guess"
   ],
   "metadata": {
    "collapsed": false,
    "pycharm": {
     "name": "#%%\n"
    }
   }
  },
  {
   "cell_type": "code",
   "execution_count": null,
   "outputs": [],
   "source": [
    "isi_fit=stats.gamma.pdf(x=x,\n",
    "                    a=best_guess['scale'],\n",
    "                    scale=best_guess['shape'])\n",
    "\n",
    "plt.plot(x, isi_fit)\n",
    "plt.hist(isis, bins=x, density=True);\n"
   ],
   "metadata": {
    "collapsed": false,
    "pycharm": {
     "name": "#%%\n"
    }
   }
  }
 ],
 "metadata": {
  "kernelspec": {
   "display_name": "Python 3",
   "language": "python",
   "name": "python3"
  },
  "language_info": {
   "codemirror_mode": {
    "name": "ipython",
    "version": 2
   },
   "file_extension": ".py",
   "mimetype": "text/x-python",
   "name": "python",
   "nbconvert_exporter": "python",
   "pygments_lexer": "ipython2",
   "version": "2.7.6"
  }
 },
 "nbformat": 4,
 "nbformat_minor": 0
}