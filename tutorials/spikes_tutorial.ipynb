{
 "cells": [
  {
   "cell_type": "code",
   "execution_count": null,
   "metadata": {
    "pycharm": {},
    "slideshow": {
     "slide_type": "skip"
    }
   },
   "outputs": [],
   "source": [
    "# from jupyterthemes import jtplot\n",
    "# from jupyterthemes.stylefx import set_nb_theme\n",
    "# currently installed theme will be used to\n",
    "# set plot style if no arguments provided\n",
    "# jtplot.style('solarizedl')\n",
    "# set_nb_theme('solarizedl')\n",
    "\n",
    "# from matplotlib import rcParams\n",
    "#rcParams['figure.figsize'] = (22,5) # doesnt work inline, causes headache otherwise"
   ]
  },
  {
   "cell_type": "markdown",
   "metadata": {
    "pycharm": {},
    "slideshow": {
     "slide_type": "slide"
    }
   },
   "source": [
    "# Outline of Part 2, Analysis of sorted spikes \n",
    "\n",
    "## 1) Set up, paths\n",
    "## 2) Functions - easier than you think!\n",
    "## 3) Load and inspect spikes\n",
    "### a) Spike time raster \n",
    "### b) Binned raster\n",
    "==========================================================================\n",
    "### c) Zero in on a feature of data\n",
    "## 4) Peristimulus time histogram"
   ]
  },
  {
   "cell_type": "code",
   "execution_count": null,
   "metadata": {
    "cellView": "form",
    "pycharm": {
     "name": "#%%\n"
    }
   },
   "outputs": [],
   "source": [
    "# @title Helper functions\n",
    "!pip install matplotlib pandas xarray numpy tqdm spykes\n",
    "\n",
    "import os\n",
    "\n",
    "import pandas as pd\n",
    "from tqdm import tqdm\n",
    "import xarray as xr\n",
    "import requests\n",
    "from pathlib import Path\n",
    "import zipfile\n",
    "\n",
    "\n",
    "def download_data():\n",
    "    # Get link:\n",
    "    r = requests.get('http://data.cortexlab.net/singlePhase3/data/dataset.zip')\n",
    "    path = Path('data/dataset.zip')\n",
    "    path.parent.mkdir(exist_ok=True)\n",
    "    with open(path, \"wb\") as fid:\n",
    "        # Write out content of link:\n",
    "        fid.write(r.content)\n",
    "    # Unzip\n",
    "    with zipfile.ZipFile(path, 'r') as zip_ref:\n",
    "        zip_ref.extractall(path.parent)\n",
    "\n",
    "\n",
    "def load_spikes_from_phy(path_to_data='/Users/myroshnychenkm2/Downloads/dataset/', sampling_frequency=30000):\n",
    "    \"\"\"\n",
    "    Get spikes from a kilosort/phy result folder\n",
    "    :param path_to_data:\n",
    "    :param sampling_frequency:\n",
    "    :return:\n",
    "    :id: neuron id, 1xN\n",
    "    :ts: corresponding spiketime, 1xN\n",
    "    \"\"\"\n",
    "    groupfname = os.path.join(path_to_data, 'cluster_groups.csv')\n",
    "    groups = pd.read_csv(groupfname, delimiter='\\t')\n",
    "\n",
    "    # load spike times and cluster IDs\n",
    "    with open(path_to_data + 'spike_clusters.npy', 'rb') as f:\n",
    "        ids = np.load(f).flatten()\n",
    "    with open(path_to_data + 'spike_times.npy', 'rb') as f:\n",
    "        ts = np.load(f).flatten()\n",
    "\n",
    "    # Create the list of our \"good\" labeled units\n",
    "    ids_to_take = groups[(groups.group == 'good')].cluster_id\n",
    "    # Find which spikes beloing to our \"good\" groups\n",
    "    spikes_to_take = []\n",
    "    for i in tqdm(ids_to_take, desc='Selecting only good spikes'):\n",
    "        spikes_to_take.extend((ids == i).nonzero()[0])\n",
    "    # only take spikes that are in our list\n",
    "    ids = np.array(ids[spikes_to_take])\n",
    "    ts = np.array(ts[spikes_to_take]).astype(float) / sampling_frequency\n",
    "\n",
    "    return ids, ts\n",
    "\n",
    "\n",
    "def bin_neuron(spike_times, bin_size=.100, window=None):\n",
    "    \"\"\"\n",
    "    Make binned raster for a single neuron\n",
    "    :param spike_times:\n",
    "    :param bin_size: in sec\n",
    "    :param window:\n",
    "    :return:\n",
    "    \"\"\"\n",
    "    if window is None:\n",
    "        window = [0, spike_times.max()]\n",
    "    bins = np.arange(window[0], window[1] + bin_size, bin_size)\n",
    "    return np.histogram(spike_times, bins)[0]\n",
    "\n",
    "\n",
    "def bin_neurons(spike_times, neuron_ids, bin_size=None, window=None, plotose=False):\n",
    "    \"\"\"\n",
    "    Make binned raster for many neurons\n",
    "    :param spike_times:\n",
    "    :param neuron_ids:\n",
    "    :param bin_size: in sec\n",
    "    :param window:\n",
    "    :param plotose:\n",
    "    :return:\n",
    "    \"\"\"\n",
    "    if window is None:\n",
    "        window = [0, spike_times.max()]\n",
    "    # the following uses an inline for loop (look it up):\n",
    "    spike_counts = [bin_neuron(spike_times[neuron_ids == neuron_id], bin_size, window)\n",
    "                    for neuron_id in tqdm(np.unique(neuron_ids))]\n",
    "    spike_counts = np.vstack(spike_counts)\n",
    "    raster = xr.DataArray(spike_counts, coords=dict(Time=np.arange(window[0], window[1] + bin_size, bin_size)[:-1],\n",
    "                                                    Single_unit_id=range(len(np.unique(neuron_ids)))),\n",
    "                          dims=['Single_unit_id', 'Time'])\n",
    "    if plotose:\n",
    "        raster.plot(robust=True)\n",
    "    return raster\n",
    "\n",
    "\n",
    "def identify_down_states(ts, bin_size=.05, number_of_neurons_treshold=20, minimum_time_between_states=0.15):\n",
    "    \"\"\"\n",
    "    Find spontaneous periods of quiecence in spiketimes\n",
    "    :param ts:\n",
    "    :param bin_size:\n",
    "    :param number_of_neurons_treshold:\n",
    "    :param minimum_time_between_states:\n",
    "    :return:\n",
    "    \"\"\"\n",
    "    lfp = bin_neuron(np.sort(ts), bin_size=bin_size)\n",
    "    down_states = np.where(lfp < number_of_neurons_treshold)[0]\n",
    "    down_states_lengths = np.diff(down_states)\n",
    "    print(f'Eliminating {down_states[1:][down_states_lengths < .15 / bin_size].shape} that are too short')\n",
    "    down_states = down_states[1:][down_states_lengths > minimum_time_between_states / bin_size]\n",
    "    print(f'Ended up with {down_states.shape} down states')\n",
    "    # convert into seconds:\n",
    "    down_states = down_states * bin_size\n",
    "    down_states -= .03\n",
    "    print(down_states[(down_states > 63) & (down_states < 68)])  # compare with raster\n",
    "    return lfp, down_states\n",
    "\n",
    "\n",
    "class PSTH:\n",
    "    \"\"\"\n",
    "    A collection of functions dealing with peristimulus time histogram\n",
    "    \"\"\"\n",
    "\n",
    "    @staticmethod\n",
    "    def make_psth(trial_starts):\n",
    "        \"\"\"\n",
    "        Simple wrapper creating a dataframe with times we want to lock onto\n",
    "        :param trial_starts: List of times of interest (trials)\n",
    "        :return: spykes object\n",
    "        \"\"\"\n",
    "        trials = pd.DataFrame()\n",
    "        trials['trialStart'] = trial_starts\n",
    "        return trials\n",
    "\n",
    "    @staticmethod\n",
    "    def spykes_get_times(s_ts, s_id, debug=False):\n",
    "        \"\"\"\n",
    "        Use spykes library\n",
    "        :param s_ts:\n",
    "        :param s_id:\n",
    "        :param debug:\n",
    "        :return:\n",
    "        \"\"\"\n",
    "\n",
    "        def print_spyke(spykess):\n",
    "            [print(len(spykess[i].spiketimes)) for i in range(len(spykess))]\n",
    "\n",
    "        from spykes.plot import neurovis\n",
    "        s_id = s_id.astype('int')\n",
    "        neuron_list = list()\n",
    "        for iu in np.unique(s_id):\n",
    "            spike_times = s_ts[s_id == iu]\n",
    "            if len(spike_times) < 2:\n",
    "                if debug:\n",
    "                    print('Too few spiketimes in this unit: ' + str(spike_times))\n",
    "                else:\n",
    "                    pass  # neuron_list.append(NeuroVis([],'ram'+str(iu)))\n",
    "            else:\n",
    "                neuron = neurovis.NeuroVis(spike_times, name='ram' + str(iu))\n",
    "                neuron_list.append(neuron)\n",
    "\n",
    "        if debug:\n",
    "            print_spyke(neuron_list)\n",
    "        return neuron_list\n",
    "\n",
    "    @staticmethod\n",
    "    def spykes_summary(spikes, spykes_df, event, window=[-100, 100], bin_size=10, fr_thr=.1, plotose=True):\n",
    "        \"\"\"\n",
    "\n",
    "        :param spikes:\n",
    "        :param spykes_df:\n",
    "        :param event:\n",
    "        :param window:\n",
    "        :param bin_size:\n",
    "        :param fr_thr:\n",
    "        :param plotose:\n",
    "        :return:\n",
    "        \"\"\"\n",
    "        import spykes\n",
    "        assert window[1] - window[0] > 0, 'Window size must be greater than zero!'\n",
    "        # filter firing rate\n",
    "        spikes = [i for i in spikes if i.firingrate > fr_thr]\n",
    "        pop = spykes.plot.popvis.PopVis(spikes)\n",
    "        # calculate psth\n",
    "        mean_psth = pop.get_all_psth(event=event, df=spykes_df, window=window, binsize=bin_size, plot=False)\n",
    "        assert mean_psth['data'][0].size > 0, 'Empty group PSTH!'\n",
    "        if plotose:\n",
    "            # % plot heatmap of average psth\n",
    "            _ = plt.figure(figsize=(10, 10))\n",
    "            #        fig.subplots_adjust(hspace=.3)\n",
    "            # set_trace()\n",
    "            pop.plot_heat_map(mean_psth, sortby=None, sortorder='ascend', normalize=None,\n",
    "                              colors=['viridis'])  # or latency\n",
    "\n",
    "            # %% Population PSTH\n",
    "            plt.figure()\n",
    "            pop.plot_population_psth(all_psth=mean_psth, event_name='Event',\n",
    "                                     colors=([.5, .5, .5], [0, .6, 0]))\n",
    "\n",
    "        return pop, mean_psth\n"
   ]
  },
  {
   "cell_type": "code",
   "execution_count": null,
   "metadata": {
    "pycharm": {
     "name": "#%%\n"
    },
    "slideshow": {
     "slide_type": "slide"
    }
   },
   "outputs": [],
   "source": [
    "# Import basic libraries\n",
    "import matplotlib.pylab as plt\n",
    "import numpy as np\n",
    "from tqdm import tqdm\n",
    "\n",
    "download_data()"
   ]
  },
  {
   "cell_type": "code",
   "execution_count": null,
   "metadata": {
    "pycharm": {
     "metadata": false,
     "name": "#%% Load spikes\n"
    },
    "slideshow": {
     "slide_type": "slide"
    }
   },
   "outputs": [],
   "source": [
    "neuron_ids_huge, spike_times_all_neurons_huge = load_spikes_from_phy('data/')"
   ]
  },
  {
   "cell_type": "markdown",
   "metadata": {
    "pycharm": {
     "metadata": false,
     "name": "#%% md\n"
    },
    "slideshow": {
     "slide_type": "slide"
    }
   },
   "source": [
    "# Housekeeping detour\n",
    "## Inspecting variables\n",
    "## Inspecting functions "
   ]
  },
  {
   "cell_type": "markdown",
   "metadata": {
    "pycharm": {
     "metadata": false,
     "name": "#%% Let's inspect the spikes\n"
    },
    "slideshow": {
     "slide_type": "slide"
    }
   },
   "source": [
    "# Visualizing spiketimes without binning "
   ]
  },
  {
   "cell_type": "code",
   "execution_count": null,
   "metadata": {
    "pycharm": {
     "metadata": false,
     "name": "#%% \n"
    },
    "slideshow": {
     "slide_type": "slide"
    }
   },
   "outputs": [],
   "source": [
    "# Let's inspect the spikes\n",
    "print(neuron_ids_huge)\n",
    "print(spike_times_all_neurons_huge)"
   ]
  },
  {
   "cell_type": "markdown",
   "metadata": {
    "pycharm": {
     "metadata": false,
     "name": "#%% md\n"
    },
    "slideshow": {
     "slide_type": "fragment"
    }
   },
   "source": [
    "# What are the sizes of each of these variables?"
   ]
  },
  {
   "cell_type": "code",
   "execution_count": null,
   "metadata": {
    "pycharm": {
     "metadata": false,
     "name": "#%% \n"
    },
    "slideshow": {
     "slide_type": "slide"
    }
   },
   "outputs": [],
   "source": [
    "# Limit the number of spikes we're dealing with but keep full variables\n",
    "neuron_ids = neuron_ids_huge[spike_times_all_neurons_huge < 70]\n",
    "spike_times_all_neurons = spike_times_all_neurons_huge[spike_times_all_neurons_huge < 70]"
   ]
  },
  {
   "cell_type": "code",
   "execution_count": null,
   "metadata": {
    "pycharm": {
     "metadata": false,
     "name": "#%% \n"
    },
    "slideshow": {
     "slide_type": "slide"
    }
   },
   "outputs": [],
   "source": [
    "# Let's inspect the timestamps from one neuron\n",
    "id_of_interest = neuron_ids[300]\n",
    "spike_times_of_interest = spike_times_all_neurons[neuron_ids == id_of_interest]\n",
    "print(spike_times_of_interest)"
   ]
  },
  {
   "cell_type": "code",
   "execution_count": null,
   "metadata": {
    "pycharm": {
     "metadata": false,
     "name": "#%%\n"
    },
    "slideshow": {
     "slide_type": "slide"
    }
   },
   "outputs": [],
   "source": [
    "# Plot spiketimes\n",
    "plt.plot(spike_times_of_interest);"
   ]
  },
  {
   "cell_type": "markdown",
   "metadata": {
    "pycharm": {
     "metadata": false,
     "name": "#%%  visualize raster ===============================================\n"
    },
    "slideshow": {
     "slide_type": "fragment"
    }
   },
   "source": [
    "## What are neurons' identities in this plot? \n",
    "## Why is the curve progressively rising?\n",
    "## What's on the x- and y- axes?\n"
   ]
  },
  {
   "cell_type": "code",
   "execution_count": null,
   "metadata": {
    "pycharm": {
     "metadata": false,
     "name": "#%% \n"
    },
    "slideshow": {
     "slide_type": "fragment"
    }
   },
   "outputs": [],
   "source": [
    "# Let's inspect the timestamps from one neuron - version 2\n",
    "plt.plot(spike_times_of_interest)\n",
    "plt.title('Timestamps of a neuron')\n",
    "plt.ylabel('Time')\n",
    "plt.xlabel('Number of spikes');"
   ]
  },
  {
   "cell_type": "markdown",
   "metadata": {
    "pycharm": {},
    "slideshow": {
     "slide_type": "fragment"
    }
   },
   "source": [
    " What is a plot like this good for? (Hint: what would the change in firing rate look like?)"
   ]
  },
  {
   "cell_type": "markdown",
   "metadata": {
    "pycharm": {
     "metadata": false,
     "name": "#%% md\n"
    },
    "slideshow": {
     "slide_type": "slide"
    }
   },
   "source": [
    "# Visualizing raster of spiketimes "
   ]
  },
  {
   "cell_type": "code",
   "execution_count": null,
   "metadata": {
    "pycharm": {
     "metadata": false,
     "name": "#%% \n"
    },
    "slideshow": {
     "slide_type": "slide"
    }
   },
   "outputs": [],
   "source": [
    "# Raster of one neuron, by hand\n",
    "plt.xlim([0, spike_times_of_interest.max()])\n",
    "for ... in ...:\n",
    "    plt.scatter(x=timestamp, y=1, marker='|', color='black')\n",
    "    plt.show()\n",
    "    plt.pause(.01)"
   ]
  },
  {
   "cell_type": "markdown",
   "metadata": {
    "pycharm": {
     "metadata": false,
     "name": "#%% md\n"
    },
    "slideshow": {
     "slide_type": "fragment"
    }
   },
   "source": [
    "This is our first For loop! How does it work?\n"
   ]
  },
  {
   "cell_type": "code",
   "execution_count": null,
   "metadata": {
    "pycharm": {
     "metadata": false,
     "name": "#%% many units\n"
    },
    "slideshow": {
     "slide_type": "slide"
    }
   },
   "outputs": [],
   "source": [
    "# Whole raster for one neuron, no loop\n",
    "# %matplotlib tk # slide housekeeping, nothing to see here\n",
    "plt.scatter(x=spike_times_of_interest,\n",
    "            y=np.ones(spike_times_of_interest.shape[0]),\n",
    "            marker='|');\n"
   ]
  },
  {
   "cell_type": "code",
   "execution_count": null,
   "metadata": {
    "pycharm": {
     "metadata": false,
     "name": "#%% visualize binned raster ===============================================\n"
    },
    "slideshow": {
     "slide_type": "slide"
    }
   },
   "outputs": [],
   "source": [
    "# For all neurons now\n",
    "plt.scatter(x=spike_times_all_neurons,\n",
    "            y=neuron_ids,\n",
    "            marker='|', c='k', alpha=.7);\n",
    "\n"
   ]
  },
  {
   "cell_type": "markdown",
   "metadata": {
    "pycharm": {
     "metadata": false,
     "name": "#%% md\n"
    },
    "slideshow": {
     "slide_type": "slide"
    }
   },
   "source": [
    "# visualizing binned raster \n"
   ]
  },
  {
   "cell_type": "code",
   "execution_count": null,
   "metadata": {
    "pycharm": {
     "metadata": false,
     "name": "#%% \n"
    },
    "slideshow": {
     "slide_type": "slide"
    }
   },
   "outputs": [],
   "source": [
    "# Use my function with xarray\n",
    "raster = bin_neurons(spike_times_all_neurons, neuron_ids, bin_size=.05)\n",
    "print(raster)  # xarray"
   ]
  },
  {
   "cell_type": "code",
   "execution_count": null,
   "metadata": {
    "pycharm": {
     "name": "#%%\n"
    }
   },
   "outputs": [],
   "source": [
    "raster.plot(robust=True);\n",
    "# plt.show()"
   ]
  },
  {
   "cell_type": "code",
   "execution_count": null,
   "metadata": {
    "slideshow": {
     "slide_type": "slide"
    }
   },
   "outputs": [],
   "source": [
    "# Convenient one-liners to \"slice\" the raster by time or neurons\n",
    "raster.sel(Single_unit_id=slice(20, 1200), Time=slice(60, 65)).plot(robust=True);\n",
    "## Do you see the difference? We are missing-ish the up states"
   ]
  },
  {
   "cell_type": "code",
   "execution_count": null,
   "metadata": {
    "pycharm": {
     "metadata": false,
     "name": "#%% \n"
    },
    "slideshow": {
     "slide_type": "slide"
    }
   },
   "outputs": [],
   "source": [
    "# PSTH\n",
    "lfp, down_states = identify_down_states(spike_times_all_neurons_huge)"
   ]
  },
  {
   "cell_type": "code",
   "execution_count": null,
   "metadata": {
    "pycharm": {
     "metadata": false,
     "name": "#%% \n"
    },
    "slideshow": {
     "slide_type": "slide"
    }
   },
   "outputs": [],
   "source": [
    "# PSTH based on homemade code\n",
    "raster = bin_neurons(spike_times_all_neurons_huge, neuron_ids_huge, bin_size=.005)\n",
    "psth = []\n",
    "for down_state in tqdm.tqdm(down_states):\n",
    "    # get raster\n",
    "    raster_now = raster.sel(Time=slice(down_state - .100,\n",
    "                                       down_state + .300))\n",
    "    # add raster to psth\n",
    "    psth.append(raster_now.sel(Single_unit_id=241).values[:80])  # Note no equals sign\n",
    "psth_all = np.vstack(psth)\n",
    "# With for loop as the basic building block, you can do anything!\n",
    "## plot psth\n",
    "plt.pcolormesh(psth_all);\n",
    "## Q: What are the axes?"
   ]
  },
  {
   "cell_type": "code",
   "execution_count": null,
   "metadata": {
    "lines_to_next_cell": 0,
    "pycharm": {
     "name": "#%% \n"
    },
    "slideshow": {
     "slide_type": "slide"
    },
    "title": "visualize raster ==============================================="
   },
   "outputs": [],
   "source": [
    "# ============= Kording psth toolbox is a lot easier ===============\n",
    "# make a psth object using the toolbox:\n",
    "psth_object = PSTH.make_psth(down_states)\n",
    "# make raster using toolbox:\n",
    "spykes_times = PSTH.spykes_get_times(spike_times_all_neurons_huge, neuron_ids_huge)\n",
    "# Get mean PSTH for all neurons\n",
    "pop, all_psth = PSTH.spykes_summary(spikes=spykes_times, spykes_df=psth_object,\n",
    "                                    event='trialStart', window=[-300, 400], bin_size=5, plotose=True)\n",
    "# Plot mean PSTH for all neurons\n",
    "pop.plot_heat_map(all_psth, sortby='rate', sortorder='ascend', normalize=None, colors=['viridis']);  # or latency\n",
    "## Note the periodicity\n",
    "## Q: Do you think if you flip the detection, the result will be similar and opposite? Hint: Inspect the raster.\n",
    "# Test your hypothesis by setting down_states = np.where(lfp > 90)[0]"
   ]
  }
 ],
 "metadata": {
  "celltoolbar": "Slideshow",
  "colab": {
   "collapsed_sections": [],
   "include_colab_link": true,
   "name": "spikes_tutorial",
   "toc_visible": true
  },
  "jupytext": {
   "cell_metadata_filter": "title,-all",
   "main_language": "python",
   "notebook_metadata_filter": "-all"
  },
  "kernel": {
   "display_name": "Python 3",
   "language": "python",
   "name": "python3"
  },
  "kernelspec": {
   "display_name": "Python 3",
   "language": "python",
   "name": "python3"
  },
  "language_info": {
   "codemirror_mode": {
    "name": "ipython",
    "version": 3
   },
   "file_extension": ".py",
   "mimetype": "text/x-python",
   "name": "python",
   "nbconvert_exporter": "python",
   "pygments_lexer": "ipython3",
   "version": "3.7.3"
  },
  "rise": {
   "autolaunch": true,
   "scroll": true,
   "transition": "None"
  }
 },
 "nbformat": 4,
 "nbformat_minor": 2
}