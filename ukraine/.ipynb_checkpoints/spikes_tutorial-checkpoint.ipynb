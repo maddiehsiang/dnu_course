{
 "cells": [
  {
   "cell_type": "code",
   "execution_count": null,
   "metadata": {
    "pycharm": {},
    "slideshow": {
     "slide_type": "skip"
    }
   },
   "outputs": [],
   "source": [
    "# import jtplot submodule from jupyterthemes\n",
    "#from jupyterthemes import jtplot\n",
    "#from jupyterthemes.stylefx import set_nb_theme\n",
    "# currently installed theme will be used to\n",
    "# set plot style if no arguments provided\n",
    "#jtplot.style('grade3')\n",
    "#set_nb_theme('grade3')"
   ]
  },
  {
   "cell_type": "code",
   "execution_count": 30,
   "metadata": {
    "pycharm": {},
    "slideshow": {
     "slide_type": "skip"
    }
   },
   "outputs": [],
   "source": [
    "import matplotlib.pyplot as plt\n",
    "from matplotlib import rcParams\n",
    "#rcParams['figure.figsize'] = (22,5) # doesnt work inline, causes headache otherwise"
   ]
  },
  {
   "cell_type": "markdown",
   "metadata": {
    "pycharm": {},
    "slideshow": {
     "slide_type": "slide"
    }
   },
   "source": [
    "# Analysis of spikes from a Neuropixels recording\n",
    "\n",
    "## 1) Set up, paths\n",
    "## 2) Functions - easier than you think!\n",
    "## 3) Load and inspect spikes\n",
    "### a) Spike time raster \n",
    "### b) Binned raster\n",
    "### c) Zero in on a feature of data\n",
    "## 4) Peristimulus time histogram"
   ]
  },
  {
   "cell_type": "markdown",
   "metadata": {
    "lines_to_next_cell": 0,
    "pycharm": {},
    "slideshow": {
     "slide_type": "slide"
    }
   },
   "source": [
    "Download and extract http://data.cortexlab.net/singlePhase3/data/dataset.zip\n"
   ]
  },
  {
   "cell_type": "markdown",
   "metadata": {
    "lines_to_next_cell": 0,
    "pycharm": {},
    "slideshow": {
     "slide_type": "slide"
    },
    "title": "prep environment (this is done in cli/Conda terminal)"
   },
   "source": [
    "```conda create -n spike_tutorial```\n",
    "\n",
    "```conda activate spike_tutorial```\n",
    "\n",
    "```conda install matplotlib pandas xarray numpy tqdm scipy spyder```\n",
    "\n",
    "```conda run spyder ```\n"
   ]
  },
  {
   "cell_type": "code",
   "execution_count": 2,
   "metadata": {
    "pycharm": {
     "name": "#%%\n"
    },
    "slideshow": {
     "slide_type": "slide"
    }
   },
   "outputs": [],
   "source": [
    "# Import basic libraries \n",
    "import sys, matplotlib.pylab as plt, numpy as np,tqdm\n",
    "# Insert your own path here! Copy+paste but FORWARD slashes\n",
    "sys.path.append('/Users/myroshnychenkm2/mmy/py/teaching/ukraine/spikes_tutorial/')\n",
    "import spikes_tutorial_dependencies as spike_deps "
   ]
  },
  {
   "cell_type": "code",
   "execution_count": 3,
   "metadata": {
    "pycharm": {},
    "slideshow": {
     "slide_type": "fragment"
    }
   },
   "outputs": [],
   "source": [
    "# Create pdf. We'll save all our results here (look ma no hands!)\n",
    "pdf=spike_deps.make_report('/Users/myroshnychenkm2/Downloads/dataset/')"
   ]
  },
  {
   "cell_type": "code",
   "execution_count": 4,
   "metadata": {
    "pycharm": {
     "metadata": false,
     "name": "#%% Load spikes\n"
    },
    "slideshow": {
     "slide_type": "slide"
    }
   },
   "outputs": [
    {
     "name": "stderr",
     "output_type": "stream",
     "text": [
      "Selecting only good spikes: 100%|██████████| 242/242 [00:04<00:00, 44.18it/s]\n"
     ]
    }
   ],
   "source": [
    "neuron_ids_huge, spike_times_all_neurons_huge =spike_deps.load_spikes_from_phy('/Users/myroshnychenkm2/Downloads/dataset/')"
   ]
  },
  {
   "cell_type": "markdown",
   "metadata": {
    "pycharm": {
     "metadata": false,
     "name": "#%% md\n"
    },
    "slideshow": {
     "slide_type": "slide"
    }
   },
   "source": [
    "# Housekeeping detour\n",
    "## Inspecting variables\n",
    "## Inspecting functions "
   ]
  },
  {
   "cell_type": "markdown",
   "metadata": {
    "pycharm": {
     "metadata": false,
     "name": "#%% Let's inspect the spikes\n"
    },
    "slideshow": {
     "slide_type": "slide"
    }
   },
   "source": [
    "# Visualizing spiketimes without binning "
   ]
  },
  {
   "cell_type": "code",
   "execution_count": 26,
   "metadata": {
    "pycharm": {
     "metadata": false,
     "name": "#%% \n"
    },
    "slideshow": {
     "slide_type": "slide"
    }
   },
   "outputs": [
    {
     "name": "stdout",
     "output_type": "stream",
     "text": [
      "[  13   13   13 ... 1209 1209 1209]\n",
      "[  10.07096667   32.3822       46.20356667 ... 3773.10953333 3773.46326667\n",
      " 3773.48606667]\n"
     ]
    }
   ],
   "source": [
    "# Let's inspect the spikes\n",
    "print(neuron_ids_huge)\n",
    "print(spike_times_all_neurons_huge)"
   ]
  },
  {
   "cell_type": "markdown",
   "metadata": {
    "pycharm": {
     "metadata": false,
     "name": "#%% md\n"
    },
    "slideshow": {
     "slide_type": "fragment"
    }
   },
   "source": [
    "# What are the sizes of each of these variables?"
   ]
  },
  {
   "cell_type": "code",
   "execution_count": 6,
   "metadata": {
    "pycharm": {
     "metadata": false,
     "name": "#%% \n"
    },
    "slideshow": {
     "slide_type": "slide"
    }
   },
   "outputs": [],
   "source": [
    "# Limit the number of spikes we're dealing with but keep full variables\n",
    "neuron_ids = neuron_ids_huge[spike_times_all_neurons_huge<70]\n",
    "spike_times_all_neurons = spike_times_all_neurons_huge[spike_times_all_neurons_huge<70]"
   ]
  },
  {
   "cell_type": "code",
   "execution_count": 7,
   "metadata": {
    "pycharm": {
     "metadata": false,
     "name": "#%% \n"
    },
    "slideshow": {
     "slide_type": "slide"
    }
   },
   "outputs": [
    {
     "name": "stdout",
     "output_type": "stream",
     "text": [
      "[ 0.1449      0.24753333  0.46693333  0.62893333  0.65033333  1.21656667\n",
      "  1.2314      1.2845      1.77893333  1.78703333  2.06783333  2.25276667\n",
      "  2.26203333  2.3779      3.0921      3.11793333  3.12776667  3.13796667\n",
      "  3.75693333  3.7698      4.6546      4.7072      4.71426667  4.80536667\n",
      "  4.85086667  4.9817      4.98783333  5.06946667  5.33776667  6.07223333\n",
      "  6.08506667  6.2339      7.34353333  7.55986667  8.1842      8.192\n",
      "  8.2121      8.52053333  8.52916667  9.02863333  9.04153333  9.0639\n",
      "  9.29206667  9.30023333  9.5331      9.55053333 10.061      10.0732\n",
      " 10.3263     10.33643333 10.8437     11.17213333 11.46903333 11.65286667\n",
      " 11.68153333 11.6925     11.72723333 11.83643333 11.8486     11.8821\n",
      " 11.94126667 11.97043333 12.16116667 12.23776667 12.25543333 13.04003333\n",
      " 13.17443333 13.27843333 13.2862     13.29753333 13.40853333 13.42433333\n",
      " 13.6446     13.6625     13.74406667 13.75823333 14.16746667 14.18983333\n",
      " 14.36326667 14.36953333 14.39746667 14.4203     14.45683333 14.65906667\n",
      " 14.81203333 15.24886667 15.2628     15.2978     15.73423333 15.74596667\n",
      " 15.97993333 15.98996667 16.2637     16.2708     16.33143333 16.44106667\n",
      " 16.4475     16.46233333 16.48226667 16.89556667 17.04566667 17.95903333\n",
      " 18.15466667 18.16153333 18.33263333 18.3449     18.39586667 18.4274\n",
      " 18.4618     18.79436667 19.03486667 19.04593333 19.17123333 19.3269\n",
      " 19.46823333 20.39856667 20.4079     20.4556     20.46773333 20.57073333\n",
      " 20.65563333 20.66293333 20.78873333 21.14713333 21.1554     21.2093\n",
      " 21.5908     21.81366667 21.82246667 21.94176667 21.95243333 22.08986667\n",
      " 22.30596667 22.3189     23.5822     23.77303333 23.88323333 24.0582\n",
      " 24.17716667 24.3016     24.58773333 25.08083333 25.09406667 25.52723333\n",
      " 25.53653333 25.5597     25.57116667 25.6122     25.6965     25.97513333\n",
      " 26.1511     26.26176667 26.27503333 26.30026667 26.7008     26.83836667\n",
      " 27.1049     27.40833333 27.42406667 27.6639     27.813      27.82913333\n",
      " 28.078      28.1526     28.46306667 28.48656667 28.5261     28.7626\n",
      " 28.7836     28.81496667 28.87156667 29.0031     29.10033333 29.10926667\n",
      " 29.72393333 29.78363333 30.12893333 30.64006667 30.68636667 30.75576667\n",
      " 30.86223333 30.8692     31.01306667 31.02903333 31.2329     31.23856667\n",
      " 31.24803333 31.43343333 32.14616667 32.55473333 32.9076     32.91676667\n",
      " 33.12683333 33.1451     33.50573333 33.59593333 34.01303333 34.02373333\n",
      " 34.05556667 34.3835     34.42066667 34.6074     34.61763333 34.63226667\n",
      " 34.72463333 35.6534     35.66443333 35.71043333 36.6989     36.70773333\n",
      " 37.41146667 37.5274     37.54416667 37.55403333 37.5751     37.77506667\n",
      " 37.79126667 37.9146     38.26043333 38.26793333 38.76833333 38.9284\n",
      " 39.19453333 39.3976     39.43103333 39.53373333 39.6259     39.6726\n",
      " 39.6927     39.9051     40.01846667 40.041      40.43593333 40.4641\n",
      " 40.84156667 41.01003333 41.35683333 41.36646667 41.93223333 41.94096667\n",
      " 42.2226     42.3284     42.34976667 42.37186667 42.80606667 42.82393333\n",
      " 42.84836667 43.369      43.64066667 43.8588     43.86983333 44.05883333\n",
      " 44.1903     44.20093333 44.83343333 44.9436     44.96713333 45.01236667\n",
      " 45.6296     45.65063333 46.04206667 46.1005     46.15916667 46.17586667\n",
      " 46.49776667 46.6056     46.6179     46.63303333 46.70976667 47.29143333\n",
      " 47.3137     47.35813333 47.68026667 47.82396667 47.9521     48.7704\n",
      " 49.2718     49.2813     49.337      49.38053333 49.77226667 49.7862\n",
      " 49.80653333 49.91616667 49.95796667 49.97296667 50.3771     50.3969\n",
      " 51.43406667 51.6867     51.74956667 51.767      51.78133333 51.79446667\n",
      " 52.03526667 52.2756     52.32313333 52.3354     52.54436667 52.7023\n",
      " 52.71133333 53.12043333 53.1295     53.48193333 53.49183333 53.74543333\n",
      " 53.75513333 54.05153333 54.05873333 54.07643333 54.09503333 54.20903333\n",
      " 54.31456667 54.68553333 54.7633     55.2587     55.5106     55.56186667\n",
      " 55.61793333 55.68266667 56.22486667 56.23393333 56.47983333 56.7838\n",
      " 56.7995     56.80916667 56.82566667 56.95593333 56.98536667 57.14906667\n",
      " 57.497      57.5941     57.61136667 57.78566667 57.79403333 58.5989\n",
      " 59.1998     59.215      59.5971     59.975      60.10966667 60.3867\n",
      " 60.40883333 60.42606667 60.44356667 60.44983333 60.47363333 60.55413333\n",
      " 60.5741     60.58296667 60.59256667 60.65156667 61.21086667 61.2872\n",
      " 61.43343333 61.56913333 61.5835     61.6378     61.93133333 61.94156667\n",
      " 62.07236667 62.0826     62.091      62.3878     62.40413333 62.62786667\n",
      " 63.05503333 63.19456667 63.24213333 63.255      63.40273333 63.43313333\n",
      " 63.8383     63.848      64.0248     64.03193333 64.05776667 64.41506667\n",
      " 64.51626667 64.67       64.681      64.7509     64.79636667 64.85576667\n",
      " 64.86396667 64.8807     64.98196667 64.99256667 65.2137     65.27466667\n",
      " 65.60753333 65.7588     65.97776667 66.25373333 66.40683333 66.53323333\n",
      " 66.57086667 66.63203333 66.66003333 66.70733333 66.81436667 66.86336667\n",
      " 67.31476667 67.33696667 67.3539     67.89556667 67.90653333 67.92456667\n",
      " 67.96263333 68.2144     68.8483     69.72876667 69.75626667 69.8175    ]\n"
     ]
    }
   ],
   "source": [
    "# Let's inspect the timestamps from one neuron\n",
    "id_of_interest = neuron_ids[300]\n",
    "spike_times_of_interest=spike_times_all_neurons[neuron_ids == id_of_interest]\n",
    "print(spike_times_of_interest)"
   ]
  },
  {
   "cell_type": "code",
   "execution_count": 8,
   "metadata": {
    "pycharm": {
     "metadata": false,
     "name": "#%%\n"
    },
    "slideshow": {
     "slide_type": "slide"
    }
   },
   "outputs": [
    {
     "data": {
      "image/png": "[encoded data removed]",
      "text/plain": [
       "<Figure size 432x288 with 1 Axes>"
      ]
     },
     "metadata": {
      "needs_background": "light"
     },
     "output_type": "display_data"
    }
   ],
   "source": [
    "# Plot spiketimes\n",
    "plt.plot(spike_times_of_interest)\n",
    "pdf.savefig() # save figure to pdf"
   ]
  },
  {
   "cell_type": "markdown",
   "metadata": {
    "pycharm": {
     "metadata": false,
     "name": "#%%  visualize raster ===============================================\n"
    },
    "slideshow": {
     "slide_type": "fragment"
    }
   },
   "source": [
    "## What are neurons' identities in this plot? \n",
    "## Why is the curve progressively rising?\n",
    "## What's on the x- and y- axes?\n"
   ]
  },
  {
   "cell_type": "code",
   "execution_count": 9,
   "metadata": {
    "pycharm": {
     "metadata": false,
     "name": "#%% \n"
    },
    "slideshow": {
     "slide_type": "fragment"
    }
   },
   "outputs": [
    {
     "data": {
      "image/png": "[encoded data removed]",
      "text/plain": [
       "<Figure size 432x288 with 1 Axes>"
      ]
     },
     "metadata": {
      "needs_background": "light"
     },
     "output_type": "display_data"
    }
   ],
   "source": [
    "# Let's inspect the timestamps from one neuron - version 2\n",
    "plt.plot(spike_times_of_interest)\n",
    "plt.title('Timestamps of a neuron')\n",
    "plt.ylabel('Time')\n",
    "plt.xlabel('Number of spikes')\n",
    "pdf.savefig() # save figure to pdf"
   ]
  },
  {
   "cell_type": "markdown",
   "metadata": {
    "slideshow": {
     "slide_type": "fragment"
    }
   },
   "source": [
    " What is a plot like this good for? (Hint: what would the change in firing rate look like?)"
   ]
  },
  {
   "cell_type": "markdown",
   "metadata": {
    "pycharm": {
     "metadata": false,
     "name": "#%% md\n"
    },
    "slideshow": {
     "slide_type": "slide"
    }
   },
   "source": [
    "# Visualizing raster of spiketimes "
   ]
  },
  {
   "cell_type": "code",
   "execution_count": 10,
   "metadata": {
    "pycharm": {
     "metadata": false,
     "name": "#%% \n"
    },
    "slideshow": {
     "slide_type": "slide"
    }
   },
   "outputs": [
    {
     "ename": "SyntaxError",
     "evalue": "can't assign to Ellipsis (<ipython-input-10-b66e70bbb853>, line 3)",
     "output_type": "error",
     "traceback": [
      "\u001b[0;36m  File \u001b[0;32m\"<ipython-input-10-b66e70bbb853>\"\u001b[0;36m, line \u001b[0;32m3\u001b[0m\n\u001b[0;31m    for ... in ...:\u001b[0m\n\u001b[0m       ^\u001b[0m\n\u001b[0;31mSyntaxError\u001b[0m\u001b[0;31m:\u001b[0m can't assign to Ellipsis\n"
     ]
    }
   ],
   "source": [
    "# Raster of one neuron, by hand\n",
    "plt.xlim([0, spike_times_of_interest.max()])\n",
    "for ... in ...:\n",
    "    plt.scatter(x=this_timestamp, y=1,marker='|',color='black')\n",
    "    plt.show()\n",
    "    plt.pause(.01)"
   ]
  },
  {
   "cell_type": "markdown",
   "metadata": {
    "pycharm": {
     "metadata": false,
     "name": "#%% \n"
    },
    "slideshow": {
     "slide_type": "fragment"
    }
   },
   "source": [
    "This is our first For loop! How does it work?\n"
   ]
  },
  {
   "cell_type": "code",
   "execution_count": 13,
   "metadata": {
    "pycharm": {
     "metadata": false,
     "name": "#%% many units\n"
    },
    "slideshow": {
     "slide_type": "slide"
    }
   },
   "outputs": [],
   "source": [
    "# Whole raster for one neuron, no loop \n",
    "%matplotlib tk # slide housekeeping, nothing to see here\n",
    "plt.scatter(x=spike_times_of_interest,\n",
    "            y=np.ones(spike_times_of_interest.shape[0]),\n",
    "            marker='|')\n",
    "pdf.savefig() # save figure to pdf\n"
   ]
  },
  {
   "cell_type": "code",
   "execution_count": 14,
   "metadata": {
    "pycharm": {
     "metadata": false,
     "name": "#%% visualize binned raster ===============================================\n"
    },
    "slideshow": {
     "slide_type": "slide"
    }
   },
   "outputs": [],
   "source": [
    "# For all neurons now\n",
    "plt.scatter(x=spike_times_all_neurons,\n",
    "            y=neuron_ids, marker='|', c='k', alpha=.7)\n",
    "pdf.savefig() # save figure to pdf\n",
    "\n"
   ]
  },
  {
   "cell_type": "markdown",
   "metadata": {
    "pycharm": {
     "metadata": false,
     "name": "#%% md\n"
    },
    "slideshow": {
     "slide_type": "slide"
    }
   },
   "source": [
    "# visualizing binned raster \n"
   ]
  },
  {
   "cell_type": "code",
   "execution_count": 24,
   "metadata": {
    "pycharm": {
     "metadata": false,
     "name": "#%% \n"
    },
    "slideshow": {
     "slide_type": "slide"
    }
   },
   "outputs": [
    {
     "name": "stderr",
     "output_type": "stream",
     "text": [
      "100%|██████████| 238/238 [00:00<00:00, 2723.05it/s]"
     ]
    },
    {
     "name": "stdout",
     "output_type": "stream",
     "text": [
      "<xarray.DataArray (Single_unit_id: 238, Time: 1400)>\n",
      "array([[0, 0, 0, ..., 0, 0, 0],\n",
      "       [0, 0, 1, ..., 0, 0, 0],\n",
      "       [0, 1, 0, ..., 0, 0, 0],\n",
      "       ...,\n",
      "       [2, 0, 1, ..., 0, 0, 0],\n",
      "       [2, 0, 1, ..., 1, 1, 2],\n",
      "       [0, 1, 2, ..., 0, 0, 0]])\n",
      "Coordinates:\n",
      "  * Time            (Time) float64 0.0 0.05 0.1 0.15 ... 69.8 69.85 69.9 69.95\n",
      "  * Single_unit_id  (Single_unit_id) int64 0 1 2 3 4 5 ... 233 234 235 236 237\n"
     ]
    },
    {
     "name": "stderr",
     "output_type": "stream",
     "text": [
      "\n"
     ]
    }
   ],
   "source": [
    "# Use my function with xarray\n",
    "raster = spike_deps.bin_neurons(spike_times_all_neurons, neuron_ids, bin_size=.05)\n",
    "print(raster) # xarray\n",
    "raster.plot(robust=True)\n",
    "plt.show()"
   ]
  },
  {
   "cell_type": "code",
   "execution_count": 29,
   "metadata": {
    "slideshow": {
     "slide_type": "slide"
    }
   },
   "outputs": [
    {
     "data": {
      "text/plain": [
       "<matplotlib.collections.QuadMesh at 0x15b515470>"
      ]
     },
     "execution_count": 29,
     "metadata": {},
     "output_type": "execute_result"
    }
   ],
   "source": [
    "# Convenient one-liners to \"slice\" the raster by time or neurons\n",
    "raster.sel(Single_unit_id=slice(20,1200), Time=slice(60,65)).plot(robust=True)\n",
    "## Do you see the difference? We are missing-ish the up states"
   ]
  },
  {
   "cell_type": "code",
   "execution_count": 20,
   "metadata": {
    "pycharm": {
     "metadata": false,
     "name": "#%% \n"
    },
    "slideshow": {
     "slide_type": "slide"
    }
   },
   "outputs": [
    {
     "name": "stdout",
     "output_type": "stream",
     "text": [
      "Eliminating (9,) that are too short\n",
      "Ended up with (142,) down states\n",
      "[]\n"
     ]
    }
   ],
   "source": [
    "# PSTH\n",
    "lfp, down_states = spike_deps.identify_down_states(\n",
    "    spike_times_all_neurons_huge)"
   ]
  },
  {
   "cell_type": "code",
   "execution_count": 22,
   "metadata": {
    "pycharm": {
     "metadata": false,
     "name": "#%% \n"
    },
    "slideshow": {
     "slide_type": "slide"
    }
   },
   "outputs": [
    {
     "name": "stderr",
     "output_type": "stream",
     "text": [
      "100%|██████████| 242/242 [00:28<00:00,  6.84it/s]\n",
      "100%|██████████| 142/142 [00:09<00:00, 15.24it/s]\n"
     ]
    },
    {
     "data": {
      "text/plain": [
       "<matplotlib.collections.QuadMesh at 0x126e9bb00>"
      ]
     },
     "execution_count": 22,
     "metadata": {},
     "output_type": "execute_result"
    }
   ],
   "source": [
    "# PSTH based on homemade code\n",
    "raster = spike_deps.bin_neurons(spike_times_all_neurons_huge, neuron_ids_huge, bin_size=.005)\n",
    "psth=[]\n",
    "for down_state in tqdm.tqdm(down_states):\n",
    "    # get raster\n",
    "    raster_now=raster.sel(Time=slice(down_state-.100,\n",
    "                                     down_state+.300))\n",
    "    # add raster to psth\n",
    "    psth.append(raster_now.sel(Single_unit_id=241).values[:80]) # Note no equals sign\n",
    "psth_all=np.vstack(psth)\n",
    "# With for loop as the basic building block, you can do anything!\n",
    "## plot psth\n",
    "plt.pcolormesh(psth_all)\n",
    "## Q: What are the axes?"
   ]
  },
  {
   "cell_type": "code",
   "execution_count": 28,
   "metadata": {
    "lines_to_next_cell": 0,
    "pycharm": {
     "name": "#%% \n"
    },
    "slideshow": {
     "slide_type": "slide"
    },
    "title": "visualize raster ==============================================="
   },
   "outputs": [
    {
     "name": "stderr",
     "output_type": "stream",
     "text": [
      "/Users/myroshnychenkm2/anaconda3/envs/spikes_tutorial/lib/python3.7/site-packages/matplotlib/figure.py:98: MatplotlibDeprecationWarning: \n",
      "Adding an axes using the same arguments as a previous axes currently reuses the earlier instance.  In a future version, a new instance will always be created and returned.  Meanwhile, this warning can be suppressed, and the future behavior ensured, by passing a unique label to each axes instance.\n",
      "  \"Adding an axes using the same arguments as a previous axes \"\n"
     ]
    }
   ],
   "source": [
    "# ============= Kording psth toolbox is a lot easier ===============\n",
    "# make a psth object using the toolbox:\n",
    "psth_object = spike_deps.PSTH.make_psth(down_states)\n",
    "# make raster using toolbox:\n",
    "spykes_times = spike_deps.PSTH.spykes_get_times(spike_times_all_neurons_huge, neuron_ids_huge)\n",
    "# Get mean PSTH for all neurons\n",
    "pop, all_psth = spike_deps.PSTH.spykes_summary(spikes=spykes_times, spykes_df=psth_object, \n",
    "                                               event='trialStart', window=[-300, 400], bin_size=5, plotose=True)\n",
    "# Plot mean PSTH for all neurons\n",
    "pop.plot_heat_map(all_psth, sortby='rate', sortorder='ascend', normalize=None, colors=['viridis'])  # or latency\n",
    "## Note the periodicity\n",
    "## Q: Do you think if you flip the detection, the result will be similar and opposite? Hint: Inspect the raster.\n",
    "# Test your hypothesis by setting down_states = np.where(lfp > 90)[0]\n",
    "pdf.close() # This finalizes the pdf so that it's viewable"
   ]
  }
 ],
 "metadata": {
  "celltoolbar": "Slideshow",
  "jupytext": {
   "cell_metadata_filter": "title,-all",
   "main_language": "python",
   "notebook_metadata_filter": "-all"
  },
  "kernelspec": {
   "display_name": "Python 3",
   "language": "python",
   "name": "python3"
  },
  "language_info": {
   "codemirror_mode": {
    "name": "ipython",
    "version": 3
   },
   "file_extension": ".py",
   "mimetype": "text/x-python",
   "name": "python",
   "nbconvert_exporter": "python",
   "pygments_lexer": "ipython3",
   "version": "3.7.3"
  },
  "rise": {
   "autolaunch": true,
   "scroll": true,
   "transition": "None"
  }
 },
 "nbformat": 4,
 "nbformat_minor": 2
}
